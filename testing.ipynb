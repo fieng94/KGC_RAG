{
 "cells": [
  {
   "cell_type": "code",
   "execution_count": 55,
   "metadata": {},
   "outputs": [],
   "source": [
    "import pandas as pd\n",
    "import experiment.preprocess as preprocess\n",
    "from candidates_generation import triple_gen\n",
    "import importlib\n",
    "import numpy as np"
   ]
  },
  {
   "cell_type": "code",
   "execution_count": 71,
   "metadata": {},
   "outputs": [
    {
     "data": {
      "text/plain": [
       "<module 'data_reader.preprocess' from '/Users/fieng/Project/KGC_RAG/data_reader/preprocess.py'>"
      ]
     },
     "execution_count": 71,
     "metadata": {},
     "output_type": "execute_result"
    }
   ],
   "source": [
    "importlib.reload(preprocess)"
   ]
  },
  {
   "cell_type": "code",
   "execution_count": 118,
   "metadata": {},
   "outputs": [],
   "source": [
    "path = 'data/economic/data.csv'\n",
    "df = pd.read_csv(path)"
   ]
  },
  {
   "cell_type": "code",
   "execution_count": 188,
   "metadata": {},
   "outputs": [],
   "source": [
    "path = 'data/economic/data.csv'\n",
    "df = pd.read_csv(path)\n",
    "\n",
    "pattern = r'\\(:([a-zA-Z_]+)|_([a-zA-Z_]+)'\n",
    "\n",
    "# Extract head\n",
    "extracted_heads = df['n'].str.extract(pattern, expand=True)\n",
    "extracted_heads = extracted_heads[0].fillna(extracted_heads[1])\n",
    "\n",
    "# Extract tail \n",
    "extracted_tails = df['m'].str.extract(pattern, expand=True)\n",
    "extracted_tails = extracted_tails[0].fillna(extracted_tails[1])\n",
    "\n",
    "# Extract relation\n",
    "extracted_rel = df['r'].str.extract(pattern, expand=True)\n",
    "extracted_rel = extracted_rel[0].fillna(extracted_rel[1])\n",
    "\n",
    "# Concatenate all incorrect index\n",
    "incorrect_index = []\n",
    "incorrect_index.append(df['m'][extracted_tails.isna() == True].index.tolist())\n",
    "incorrect_index.append(df['n'][extracted_heads.isna() == True].index.tolist())\n",
    "incorrect_index.append(df['r'][extracted_rel.isna() == True].index.tolist())\n",
    "incorrect_index = [item for sublist in incorrect_index for item in sublist]\n",
    "\n",
    "df = df[~df.index.isin(incorrect_index)]"
   ]
  },
  {
   "cell_type": "code",
   "execution_count": 189,
   "metadata": {},
   "outputs": [],
   "source": [
    "# Extract head\n",
    "extracted_heads = df['n'].str.extract(pattern, expand=True)\n",
    "extracted_heads = extracted_heads[0].fillna(extracted_heads[1])\n",
    "\n",
    "# Extract tail \n",
    "extracted_tails = df['m'].str.extract(pattern, expand=True)\n",
    "extracted_tails = extracted_tails[0].fillna(extracted_tails[1])\n",
    "\n",
    "# Extract relation\n",
    "extracted_rel = df['r'].str.extract(pattern, expand=True)\n",
    "extracted_rel = extracted_rel[0].fillna(extracted_rel[1])"
   ]
  },
  {
   "cell_type": "code",
   "execution_count": 196,
   "metadata": {},
   "outputs": [],
   "source": [
    "new_df = pd.concat([extracted_heads,extracted_rel, extracted_tails],axis=1)\n",
    "new_df.columns = ['Head','Relation','Tail']\n",
    "df = new_df"
   ]
  },
  {
   "cell_type": "code",
   "execution_count": 217,
   "metadata": {},
   "outputs": [
    {
     "data": {
      "text/plain": [
       "str"
      ]
     },
     "execution_count": 217,
     "metadata": {},
     "output_type": "execute_result"
    }
   ],
   "source": [
    "type(df[\"Head\"][0])"
   ]
  },
  {
   "cell_type": "code",
   "execution_count": 218,
   "metadata": {},
   "outputs": [],
   "source": [
    "test_df = pd.read_csv('data/freebase/data_sample.csv')"
   ]
  },
  {
   "cell_type": "code",
   "execution_count": 219,
   "metadata": {},
   "outputs": [
    {
     "data": {
      "text/html": [
       "<div>\n",
       "<style scoped>\n",
       "    .dataframe tbody tr th:only-of-type {\n",
       "        vertical-align: middle;\n",
       "    }\n",
       "\n",
       "    .dataframe tbody tr th {\n",
       "        vertical-align: top;\n",
       "    }\n",
       "\n",
       "    .dataframe thead th {\n",
       "        text-align: right;\n",
       "    }\n",
       "</style>\n",
       "<table border=\"1\" class=\"dataframe\">\n",
       "  <thead>\n",
       "    <tr style=\"text-align: right;\">\n",
       "      <th></th>\n",
       "      <th>Head</th>\n",
       "      <th>Relation</th>\n",
       "      <th>Tail</th>\n",
       "    </tr>\n",
       "  </thead>\n",
       "  <tbody>\n",
       "    <tr>\n",
       "      <th>0</th>\n",
       "      <td>Louise Fletcher</td>\n",
       "      <td>award</td>\n",
       "      <td>Academy Award for Best Actress</td>\n",
       "    </tr>\n",
       "    <tr>\n",
       "      <th>1</th>\n",
       "      <td>Island Records</td>\n",
       "      <td>music</td>\n",
       "      <td>Annie Lennox</td>\n",
       "    </tr>\n",
       "    <tr>\n",
       "      <th>2</th>\n",
       "      <td>The Sound of Music</td>\n",
       "      <td>film</td>\n",
       "      <td>Richard Rodgers</td>\n",
       "    </tr>\n",
       "    <tr>\n",
       "      <th>3</th>\n",
       "      <td>Ted Kennedy</td>\n",
       "      <td>government</td>\n",
       "      <td>104th United States Congress</td>\n",
       "    </tr>\n",
       "    <tr>\n",
       "      <th>4</th>\n",
       "      <td>West Virginia</td>\n",
       "      <td>location</td>\n",
       "      <td>Churches of Christ</td>\n",
       "    </tr>\n",
       "    <tr>\n",
       "      <th>...</th>\n",
       "      <td>...</td>\n",
       "      <td>...</td>\n",
       "      <td>...</td>\n",
       "    </tr>\n",
       "    <tr>\n",
       "      <th>62018</th>\n",
       "      <td>Deuce Bigalow: European Gigolo</td>\n",
       "      <td>award</td>\n",
       "      <td>Golden Raspberry Award for Worst Actor</td>\n",
       "    </tr>\n",
       "    <tr>\n",
       "      <th>62019</th>\n",
       "      <td>Charles Boyer</td>\n",
       "      <td>film</td>\n",
       "      <td>Around the World in 80 Days</td>\n",
       "    </tr>\n",
       "    <tr>\n",
       "      <th>62020</th>\n",
       "      <td>Vassar College</td>\n",
       "      <td>education</td>\n",
       "      <td>Merryl Streep</td>\n",
       "    </tr>\n",
       "    <tr>\n",
       "      <th>62021</th>\n",
       "      <td>Frasier</td>\n",
       "      <td>tv</td>\n",
       "      <td>Kelsey Grammer</td>\n",
       "    </tr>\n",
       "    <tr>\n",
       "      <th>62022</th>\n",
       "      <td>Bend</td>\n",
       "      <td>location</td>\n",
       "      <td>Pacific Time Zone</td>\n",
       "    </tr>\n",
       "  </tbody>\n",
       "</table>\n",
       "<p>62023 rows × 3 columns</p>\n",
       "</div>"
      ],
      "text/plain": [
       "                                 Head    Relation  \\\n",
       "0                     Louise Fletcher       award   \n",
       "1                      Island Records       music   \n",
       "2                  The Sound of Music        film   \n",
       "3                         Ted Kennedy  government   \n",
       "4                       West Virginia    location   \n",
       "...                               ...         ...   \n",
       "62018  Deuce Bigalow: European Gigolo       award   \n",
       "62019                   Charles Boyer        film   \n",
       "62020                  Vassar College   education   \n",
       "62021                         Frasier          tv   \n",
       "62022                            Bend    location   \n",
       "\n",
       "                                         Tail  \n",
       "0              Academy Award for Best Actress  \n",
       "1                                Annie Lennox  \n",
       "2                             Richard Rodgers  \n",
       "3                104th United States Congress  \n",
       "4                          Churches of Christ  \n",
       "...                                       ...  \n",
       "62018  Golden Raspberry Award for Worst Actor  \n",
       "62019             Around the World in 80 Days  \n",
       "62020                           Merryl Streep  \n",
       "62021                          Kelsey Grammer  \n",
       "62022                       Pacific Time Zone  \n",
       "\n",
       "[62023 rows x 3 columns]"
      ]
     },
     "execution_count": 219,
     "metadata": {},
     "output_type": "execute_result"
    }
   ],
   "source": [
    "test_df"
   ]
  },
  {
   "cell_type": "code",
   "execution_count": 72,
   "metadata": {},
   "outputs": [
    {
     "name": "stderr",
     "output_type": "stream",
     "text": [
      "/Users/fieng/Project/KGC_RAG/data_reader/preprocess.py:29: SettingWithCopyWarning: \n",
      "A value is trying to be set on a copy of a slice from a DataFrame.\n",
      "Try using .loc[row_indexer,col_indexer] = value instead\n",
      "\n",
      "See the caveats in the documentation: https://pandas.pydata.org/pandas-docs/stable/user_guide/indexing.html#returning-a-view-versus-a-copy\n",
      "  assert nb_false_cand < 1, f'This program need a positive number of false candidates, you chose f{nb_false_cand}.'\n",
      "/Users/fieng/Project/KGC_RAG/data_reader/preprocess.py:30: SettingWithCopyWarning: \n",
      "A value is trying to be set on a copy of a slice from a DataFrame.\n",
      "Try using .loc[row_indexer,col_indexer] = value instead\n",
      "\n",
      "See the caveats in the documentation: https://pandas.pydata.org/pandas-docs/stable/user_guide/indexing.html#returning-a-view-versus-a-copy\n",
      "  # get the testing data\n"
     ]
    }
   ],
   "source": [
    "path = 'data/codex/data.csv'\n",
    "df = pd.read_csv(path)\n",
    "evaluation_df, candidates_df, missing_df = preprocess.create_experiment_df(path)\n"
   ]
  },
  {
   "cell_type": "code",
   "execution_count": null,
   "metadata": {},
   "outputs": [],
   "source": [
    "from candidates_filtering.embedding import train_model\n",
    "from candidates_filtering.embedding.get_emb_transe import get_list_dist\n",
    "\n",
    "train_df = train_model.create_dataset(\n",
    "    df)\n",
    "test_df = train_model.create_dataset(\n",
    "    df.sample(n=50))\n",
    "\n",
    "\n",
    "embedding_dim = 5\n",
    "model_kwargs = {\"embedding_dim\": embedding_dim}\n",
    "\n",
    "model_dict = {}\n",
    "#model_list = ['TransE','TransH','TransF','TransR','TransD']\n",
    "model_list = ['TransE']\n",
    "for model_name in model_list:\n",
    "    experiment_name = model_name+f\"_dim{embedding_dim}\"\n",
    "    model = train_model.create_pipeline(train_df, test_df,\n",
    "                        model_name, model_kwargs, experiment_name)\n",
    "    model_dict[model_name] = model"
   ]
  },
  {
   "cell_type": "code",
   "execution_count": 91,
   "metadata": {},
   "outputs": [],
   "source": [
    "from candidates_filtering import triple_filter\n",
    "model = model_dict['TransE']\n",
    "list_dist = get_list_dist(candidates_df, model.model, train_df)\n",
    "candidates_df['distance'] = list_dist\n",
    "\n",
    "_, filtred_df = triple_filter.filter_best_threshold(model, candidates_df, missing_df, train_df)\n"
   ]
  },
  {
   "cell_type": "code",
   "execution_count": 90,
   "metadata": {},
   "outputs": [
    {
     "data": {
      "text/plain": [
       "<module 'candidates_filtering' (<_frozen_importlib_external._NamespaceLoader object at 0x15eb2ee30>)>"
      ]
     },
     "execution_count": 90,
     "metadata": {},
     "output_type": "execute_result"
    }
   ],
   "source": [
    "import candidates_filtering\n",
    "importlib.reload(candidates_filtering)"
   ]
  },
  {
   "cell_type": "code",
   "execution_count": 106,
   "metadata": {},
   "outputs": [],
   "source": [
    "import experiment\n"
   ]
  },
  {
   "cell_type": "code",
   "execution_count": 105,
   "metadata": {},
   "outputs": [
    {
     "data": {
      "text/plain": [
       "<module 'experiment.filtering' from '/Users/fieng/Project/KGC_RAG/experiment/filtering.py'>"
      ]
     },
     "execution_count": 105,
     "metadata": {},
     "output_type": "execute_result"
    }
   ],
   "source": [
    "import experiment.filtering as filtering\n",
    "importlib.reload(filtering)"
   ]
  },
  {
   "cell_type": "code",
   "execution_count": 107,
   "metadata": {},
   "outputs": [],
   "source": [
    "filtred_df = filtering.get_filtred_df(model, candidates_df,missing_df,train_df)"
   ]
  },
  {
   "cell_type": "code",
   "execution_count": 108,
   "metadata": {},
   "outputs": [
    {
     "data": {
      "text/html": [
       "<div>\n",
       "<style scoped>\n",
       "    .dataframe tbody tr th:only-of-type {\n",
       "        vertical-align: middle;\n",
       "    }\n",
       "\n",
       "    .dataframe tbody tr th {\n",
       "        vertical-align: top;\n",
       "    }\n",
       "\n",
       "    .dataframe thead th {\n",
       "        text-align: right;\n",
       "    }\n",
       "</style>\n",
       "<table border=\"1\" class=\"dataframe\">\n",
       "  <thead>\n",
       "    <tr style=\"text-align: right;\">\n",
       "      <th></th>\n",
       "      <th>Head</th>\n",
       "      <th>Relation</th>\n",
       "      <th>Tail</th>\n",
       "    </tr>\n",
       "  </thead>\n",
       "  <tbody>\n",
       "    <tr>\n",
       "      <th>0</th>\n",
       "      <td>Telly Savalas</td>\n",
       "      <td>occupation</td>\n",
       "      <td>film editor</td>\n",
       "    </tr>\n",
       "    <tr>\n",
       "      <th>1</th>\n",
       "      <td>Telly Savalas</td>\n",
       "      <td>occupation</td>\n",
       "      <td>film director</td>\n",
       "    </tr>\n",
       "    <tr>\n",
       "      <th>3</th>\n",
       "      <td>Telly Savalas</td>\n",
       "      <td>occupation</td>\n",
       "      <td>film producer</td>\n",
       "    </tr>\n",
       "    <tr>\n",
       "      <th>6</th>\n",
       "      <td>Telly Savalas</td>\n",
       "      <td>occupation</td>\n",
       "      <td>stage actor</td>\n",
       "    </tr>\n",
       "    <tr>\n",
       "      <th>8</th>\n",
       "      <td>Telly Savalas</td>\n",
       "      <td>occupation</td>\n",
       "      <td>musician</td>\n",
       "    </tr>\n",
       "    <tr>\n",
       "      <th>...</th>\n",
       "      <td>...</td>\n",
       "      <td>...</td>\n",
       "      <td>...</td>\n",
       "    </tr>\n",
       "    <tr>\n",
       "      <th>1231422</th>\n",
       "      <td>Walt Disney Records</td>\n",
       "      <td>country</td>\n",
       "      <td>Germany</td>\n",
       "    </tr>\n",
       "    <tr>\n",
       "      <th>1231429</th>\n",
       "      <td>Richard Wagner</td>\n",
       "      <td>influenced by</td>\n",
       "      <td>Albert Einstein</td>\n",
       "    </tr>\n",
       "    <tr>\n",
       "      <th>1231452</th>\n",
       "      <td>Wassily Kandinsky</td>\n",
       "      <td>influenced by</td>\n",
       "      <td>Thomas Mann</td>\n",
       "    </tr>\n",
       "    <tr>\n",
       "      <th>1231453</th>\n",
       "      <td>Wassily Kandinsky</td>\n",
       "      <td>sibling</td>\n",
       "      <td>Erika Mann</td>\n",
       "    </tr>\n",
       "    <tr>\n",
       "      <th>1231456</th>\n",
       "      <td>German Academy of Sciences at Berlin</td>\n",
       "      <td>country</td>\n",
       "      <td>Weimar Republic</td>\n",
       "    </tr>\n",
       "  </tbody>\n",
       "</table>\n",
       "<p>426223 rows × 3 columns</p>\n",
       "</div>"
      ],
      "text/plain": [
       "                                         Head       Relation             Tail\n",
       "0                               Telly Savalas     occupation      film editor\n",
       "1                               Telly Savalas     occupation    film director\n",
       "3                               Telly Savalas     occupation    film producer\n",
       "6                               Telly Savalas     occupation      stage actor\n",
       "8                               Telly Savalas     occupation         musician\n",
       "...                                       ...            ...              ...\n",
       "1231422                   Walt Disney Records        country          Germany\n",
       "1231429                        Richard Wagner  influenced by  Albert Einstein\n",
       "1231452                     Wassily Kandinsky  influenced by      Thomas Mann\n",
       "1231453                     Wassily Kandinsky        sibling       Erika Mann\n",
       "1231456  German Academy of Sciences at Berlin        country  Weimar Republic\n",
       "\n",
       "[426223 rows x 3 columns]"
      ]
     },
     "execution_count": 108,
     "metadata": {},
     "output_type": "execute_result"
    }
   ],
   "source": [
    "filtred_df"
   ]
  },
  {
   "cell_type": "code",
   "execution_count": 165,
   "metadata": {},
   "outputs": [],
   "source": [
    "import sys"
   ]
  },
  {
   "cell_type": "code",
   "execution_count": 166,
   "metadata": {},
   "outputs": [
    {
     "name": "stdout",
     "output_type": "stream",
     "text": [
      "3.10.12 | packaged by conda-forge | (main, Jun 23 2023, 22:41:52) [Clang 15.0.7 ]\n"
     ]
    }
   ],
   "source": [
    "print(sys.version)"
   ]
  },
  {
   "cell_type": "code",
   "execution_count": 201,
   "metadata": {},
   "outputs": [],
   "source": [
    "path = 'data/codex/data.csv'\n",
    "df = pd.read_csv(path)"
   ]
  },
  {
   "cell_type": "code",
   "execution_count": 205,
   "metadata": {},
   "outputs": [
    {
     "data": {
      "text/html": [
       "<div>\n",
       "<style scoped>\n",
       "    .dataframe tbody tr th:only-of-type {\n",
       "        vertical-align: middle;\n",
       "    }\n",
       "\n",
       "    .dataframe tbody tr th {\n",
       "        vertical-align: top;\n",
       "    }\n",
       "\n",
       "    .dataframe thead th {\n",
       "        text-align: right;\n",
       "    }\n",
       "</style>\n",
       "<table border=\"1\" class=\"dataframe\">\n",
       "  <thead>\n",
       "    <tr style=\"text-align: right;\">\n",
       "      <th></th>\n",
       "      <th>Head</th>\n",
       "      <th>Relation</th>\n",
       "      <th>Tail</th>\n",
       "    </tr>\n",
       "  </thead>\n",
       "  <tbody>\n",
       "    <tr>\n",
       "      <th>3339</th>\n",
       "      <td>Telly Savalas</td>\n",
       "      <td>languages spoken, written, or signed</td>\n",
       "      <td>English</td>\n",
       "    </tr>\n",
       "    <tr>\n",
       "      <th>6700</th>\n",
       "      <td>Telly Savalas</td>\n",
       "      <td>occupation</td>\n",
       "      <td>television director</td>\n",
       "    </tr>\n",
       "    <tr>\n",
       "      <th>6785</th>\n",
       "      <td>Telly Savalas</td>\n",
       "      <td>occupation</td>\n",
       "      <td>radio personality</td>\n",
       "    </tr>\n",
       "    <tr>\n",
       "      <th>8486</th>\n",
       "      <td>Telly Savalas</td>\n",
       "      <td>educated at</td>\n",
       "      <td>Columbia University</td>\n",
       "    </tr>\n",
       "    <tr>\n",
       "      <th>8803</th>\n",
       "      <td>Telly Savalas</td>\n",
       "      <td>occupation</td>\n",
       "      <td>stage actor</td>\n",
       "    </tr>\n",
       "    <tr>\n",
       "      <th>15801</th>\n",
       "      <td>Telly Savalas</td>\n",
       "      <td>occupation</td>\n",
       "      <td>director</td>\n",
       "    </tr>\n",
       "    <tr>\n",
       "      <th>16106</th>\n",
       "      <td>Telly Savalas</td>\n",
       "      <td>occupation</td>\n",
       "      <td>character actor</td>\n",
       "    </tr>\n",
       "    <tr>\n",
       "      <th>17460</th>\n",
       "      <td>Telly Savalas</td>\n",
       "      <td>occupation</td>\n",
       "      <td>actor</td>\n",
       "    </tr>\n",
       "    <tr>\n",
       "      <th>23289</th>\n",
       "      <td>Telly Savalas</td>\n",
       "      <td>occupation</td>\n",
       "      <td>screenwriter</td>\n",
       "    </tr>\n",
       "    <tr>\n",
       "      <th>25954</th>\n",
       "      <td>Telly Savalas</td>\n",
       "      <td>occupation</td>\n",
       "      <td>television actor</td>\n",
       "    </tr>\n",
       "    <tr>\n",
       "      <th>27003</th>\n",
       "      <td>Telly Savalas</td>\n",
       "      <td>occupation</td>\n",
       "      <td>writer</td>\n",
       "    </tr>\n",
       "    <tr>\n",
       "      <th>30132</th>\n",
       "      <td>Telly Savalas</td>\n",
       "      <td>genre</td>\n",
       "      <td>Western</td>\n",
       "    </tr>\n",
       "    <tr>\n",
       "      <th>33483</th>\n",
       "      <td>Telly Savalas</td>\n",
       "      <td>occupation</td>\n",
       "      <td>singer</td>\n",
       "    </tr>\n",
       "    <tr>\n",
       "      <th>33535</th>\n",
       "      <td>Telly Savalas</td>\n",
       "      <td>country of citizenship</td>\n",
       "      <td>United States of America</td>\n",
       "    </tr>\n",
       "    <tr>\n",
       "      <th>34912</th>\n",
       "      <td>Telly Savalas</td>\n",
       "      <td>instrument</td>\n",
       "      <td>voice</td>\n",
       "    </tr>\n",
       "    <tr>\n",
       "      <th>35577</th>\n",
       "      <td>Telly Savalas</td>\n",
       "      <td>occupation</td>\n",
       "      <td>film actor</td>\n",
       "    </tr>\n",
       "    <tr>\n",
       "      <th>36039</th>\n",
       "      <td>Telly Savalas</td>\n",
       "      <td>member of political party</td>\n",
       "      <td>Democratic Party</td>\n",
       "    </tr>\n",
       "  </tbody>\n",
       "</table>\n",
       "</div>"
      ],
      "text/plain": [
       "                Head                              Relation  \\\n",
       "3339   Telly Savalas  languages spoken, written, or signed   \n",
       "6700   Telly Savalas                            occupation   \n",
       "6785   Telly Savalas                            occupation   \n",
       "8486   Telly Savalas                           educated at   \n",
       "8803   Telly Savalas                            occupation   \n",
       "15801  Telly Savalas                            occupation   \n",
       "16106  Telly Savalas                            occupation   \n",
       "17460  Telly Savalas                            occupation   \n",
       "23289  Telly Savalas                            occupation   \n",
       "25954  Telly Savalas                            occupation   \n",
       "27003  Telly Savalas                            occupation   \n",
       "30132  Telly Savalas                                 genre   \n",
       "33483  Telly Savalas                            occupation   \n",
       "33535  Telly Savalas                country of citizenship   \n",
       "34912  Telly Savalas                            instrument   \n",
       "35577  Telly Savalas                            occupation   \n",
       "36039  Telly Savalas             member of political party   \n",
       "\n",
       "                           Tail  \n",
       "3339                    English  \n",
       "6700        television director  \n",
       "6785          radio personality  \n",
       "8486        Columbia University  \n",
       "8803                stage actor  \n",
       "15801                  director  \n",
       "16106           character actor  \n",
       "17460                     actor  \n",
       "23289              screenwriter  \n",
       "25954          television actor  \n",
       "27003                    writer  \n",
       "30132                   Western  \n",
       "33483                    singer  \n",
       "33535  United States of America  \n",
       "34912                     voice  \n",
       "35577                film actor  \n",
       "36039          Democratic Party  "
      ]
     },
     "execution_count": 205,
     "metadata": {},
     "output_type": "execute_result"
    }
   ],
   "source": [
    "df[df['Head'] == 'Telly Savalas']"
   ]
  },
  {
   "cell_type": "code",
   "execution_count": 208,
   "metadata": {},
   "outputs": [
    {
     "data": {
      "text/html": [
       "<div>\n",
       "<style scoped>\n",
       "    .dataframe tbody tr th:only-of-type {\n",
       "        vertical-align: middle;\n",
       "    }\n",
       "\n",
       "    .dataframe tbody tr th {\n",
       "        vertical-align: top;\n",
       "    }\n",
       "\n",
       "    .dataframe thead th {\n",
       "        text-align: right;\n",
       "    }\n",
       "</style>\n",
       "<table border=\"1\" class=\"dataframe\">\n",
       "  <thead>\n",
       "    <tr style=\"text-align: right;\">\n",
       "      <th></th>\n",
       "      <th>Head</th>\n",
       "      <th>Relation</th>\n",
       "      <th>Tail</th>\n",
       "    </tr>\n",
       "  </thead>\n",
       "  <tbody>\n",
       "    <tr>\n",
       "      <th>0</th>\n",
       "      <td>False</td>\n",
       "      <td>False</td>\n",
       "      <td>False</td>\n",
       "    </tr>\n",
       "    <tr>\n",
       "      <th>1</th>\n",
       "      <td>False</td>\n",
       "      <td>False</td>\n",
       "      <td>False</td>\n",
       "    </tr>\n",
       "    <tr>\n",
       "      <th>2</th>\n",
       "      <td>False</td>\n",
       "      <td>False</td>\n",
       "      <td>False</td>\n",
       "    </tr>\n",
       "    <tr>\n",
       "      <th>3</th>\n",
       "      <td>False</td>\n",
       "      <td>False</td>\n",
       "      <td>False</td>\n",
       "    </tr>\n",
       "    <tr>\n",
       "      <th>4</th>\n",
       "      <td>False</td>\n",
       "      <td>False</td>\n",
       "      <td>False</td>\n",
       "    </tr>\n",
       "    <tr>\n",
       "      <th>...</th>\n",
       "      <td>...</td>\n",
       "      <td>...</td>\n",
       "      <td>...</td>\n",
       "    </tr>\n",
       "    <tr>\n",
       "      <th>1231452</th>\n",
       "      <td>False</td>\n",
       "      <td>False</td>\n",
       "      <td>False</td>\n",
       "    </tr>\n",
       "    <tr>\n",
       "      <th>1231453</th>\n",
       "      <td>False</td>\n",
       "      <td>False</td>\n",
       "      <td>False</td>\n",
       "    </tr>\n",
       "    <tr>\n",
       "      <th>1231454</th>\n",
       "      <td>False</td>\n",
       "      <td>False</td>\n",
       "      <td>False</td>\n",
       "    </tr>\n",
       "    <tr>\n",
       "      <th>1231455</th>\n",
       "      <td>False</td>\n",
       "      <td>False</td>\n",
       "      <td>False</td>\n",
       "    </tr>\n",
       "    <tr>\n",
       "      <th>1231456</th>\n",
       "      <td>False</td>\n",
       "      <td>False</td>\n",
       "      <td>False</td>\n",
       "    </tr>\n",
       "  </tbody>\n",
       "</table>\n",
       "<p>1231457 rows × 3 columns</p>\n",
       "</div>"
      ],
      "text/plain": [
       "          Head  Relation   Tail\n",
       "0        False     False  False\n",
       "1        False     False  False\n",
       "2        False     False  False\n",
       "3        False     False  False\n",
       "4        False     False  False\n",
       "...        ...       ...    ...\n",
       "1231452  False     False  False\n",
       "1231453  False     False  False\n",
       "1231454  False     False  False\n",
       "1231455  False     False  False\n",
       "1231456  False     False  False\n",
       "\n",
       "[1231457 rows x 3 columns]"
      ]
     },
     "execution_count": 208,
     "metadata": {},
     "output_type": "execute_result"
    }
   ],
   "source": [
    "candidates_df[['Head','Relation','Tail']].isin(df)"
   ]
  },
  {
   "cell_type": "code",
   "execution_count": 209,
   "metadata": {},
   "outputs": [],
   "source": [
    "common = candidates_df.merge(df, on=['Head','Relation','Tail'], how='inner')"
   ]
  },
  {
   "cell_type": "code",
   "execution_count": 213,
   "metadata": {},
   "outputs": [],
   "source": [
    "candidates_df[['Head','Relation','Tail']].to_csv('data/codex/candidates.csv',index=False)"
   ]
  },
  {
   "cell_type": "code",
   "execution_count": null,
   "metadata": {},
   "outputs": [],
   "source": []
  }
 ],
 "metadata": {
  "kernelspec": {
   "display_name": "langchain-env",
   "language": "python",
   "name": "python3"
  },
  "language_info": {
   "codemirror_mode": {
    "name": "ipython",
    "version": 3
   },
   "file_extension": ".py",
   "mimetype": "text/x-python",
   "name": "python",
   "nbconvert_exporter": "python",
   "pygments_lexer": "ipython3",
   "version": "3.10.12"
  }
 },
 "nbformat": 4,
 "nbformat_minor": 2
}
