{
 "cells": [
  {
   "cell_type": "markdown",
   "metadata": {},
   "source": [
    "## Preparation"
   ]
  },
  {
   "cell_type": "code",
   "execution_count": 1,
   "metadata": {},
   "outputs": [
    {
     "name": "stdout",
     "output_type": "stream",
     "text": [
      "/Users/fieng/Project/KGC_RAG\n"
     ]
    },
    {
     "name": "stderr",
     "output_type": "stream",
     "text": [
      "/Users/fieng/Project/KGC_RAG/langchain-env/lib/python3.10/site-packages/IPython/core/magics/osm.py:417: UserWarning: This is now an optional IPython functionality, setting dhist requires you to install the `pickleshare` library.\n",
      "  self.shell.db['dhist'] = compress_dhist(dhist)[-100:]\n"
     ]
    }
   ],
   "source": [
    "%cd ../..\n",
    "import pandas as pd\n",
    "import experiment.preprocess as preprocess\n",
    "from candidates_generation import triple_gen\n",
    "import importlib\n",
    "import numpy as np"
   ]
  },
  {
   "cell_type": "code",
   "execution_count": 2,
   "metadata": {},
   "outputs": [
    {
     "name": "stderr",
     "output_type": "stream",
     "text": [
      "/Users/fieng/Project/KGC_RAG/experiment/preprocess.py:29: SettingWithCopyWarning: \n",
      "A value is trying to be set on a copy of a slice from a DataFrame.\n",
      "Try using .loc[row_indexer,col_indexer] = value instead\n",
      "\n",
      "See the caveats in the documentation: https://pandas.pydata.org/pandas-docs/stable/user_guide/indexing.html#returning-a-view-versus-a-copy\n",
      "  true_cand_df['Missing'] = 1\n",
      "/Users/fieng/Project/KGC_RAG/experiment/preprocess.py:30: SettingWithCopyWarning: \n",
      "A value is trying to be set on a copy of a slice from a DataFrame.\n",
      "Try using .loc[row_indexer,col_indexer] = value instead\n",
      "\n",
      "See the caveats in the documentation: https://pandas.pydata.org/pandas-docs/stable/user_guide/indexing.html#returning-a-view-versus-a-copy\n",
      "  false_cand_df['Missing'] = 0\n"
     ]
    }
   ],
   "source": [
    "path ='data/codex-m/data_sample.csv'\n",
    "df = pd.read_csv(path)\n",
    "evaluation_df, candidates_df, missing_df = preprocess.create_experiment_df(path)"
   ]
  },
  {
   "cell_type": "code",
   "execution_count": 3,
   "metadata": {},
   "outputs": [
    {
     "name": "stderr",
     "output_type": "stream",
     "text": [
      "/Users/fieng/Project/KGC_RAG/langchain-env/lib/python3.10/site-packages/tqdm/auto.py:21: TqdmWarning: IProgress not found. Please update jupyter and ipywidgets. See https://ipywidgets.readthedocs.io/en/stable/user_install.html\n",
      "  from .autonotebook import tqdm as notebook_tqdm\n",
      "\u001b[34m\u001b[1mwandb\u001b[0m: Using wandb-core as the SDK backend.  Please refer to https://wandb.me/wandb-core for more information.\n",
      "\u001b[34m\u001b[1mwandb\u001b[0m: Currently logged in as: \u001b[33mfieng\u001b[0m. Use \u001b[1m`wandb login --relogin`\u001b[0m to force relogin\n"
     ]
    },
    {
     "data": {
      "text/html": [
       "Tracking run with wandb version 0.18.7"
      ],
      "text/plain": [
       "<IPython.core.display.HTML object>"
      ]
     },
     "metadata": {},
     "output_type": "display_data"
    },
    {
     "data": {
      "text/html": [
       "Run data is saved locally in <code>/Users/fieng/Project/KGC_RAG/wandb/run-20250416_212555-twcrmtc8</code>"
      ],
      "text/plain": [
       "<IPython.core.display.HTML object>"
      ]
     },
     "metadata": {},
     "output_type": "display_data"
    },
    {
     "data": {
      "text/html": [
       "Syncing run <strong><a href='https://wandb.ai/fieng/embedding/runs/twcrmtc8' target=\"_blank\">upbeat-wood-62</a></strong> to <a href='https://wandb.ai/fieng/embedding' target=\"_blank\">Weights & Biases</a> (<a href='https://wandb.me/developer-guide' target=\"_blank\">docs</a>)<br/>"
      ],
      "text/plain": [
       "<IPython.core.display.HTML object>"
      ]
     },
     "metadata": {},
     "output_type": "display_data"
    },
    {
     "data": {
      "text/html": [
       " View project at <a href='https://wandb.ai/fieng/embedding' target=\"_blank\">https://wandb.ai/fieng/embedding</a>"
      ],
      "text/plain": [
       "<IPython.core.display.HTML object>"
      ]
     },
     "metadata": {},
     "output_type": "display_data"
    },
    {
     "data": {
      "text/html": [
       " View run at <a href='https://wandb.ai/fieng/embedding/runs/twcrmtc8' target=\"_blank\">https://wandb.ai/fieng/embedding/runs/twcrmtc8</a>"
      ],
      "text/plain": [
       "<IPython.core.display.HTML object>"
      ]
     },
     "metadata": {},
     "output_type": "display_data"
    },
    {
     "name": "stderr",
     "output_type": "stream",
     "text": [
      "No cuda devices were available. The model runs on CPU\n",
      "Training epochs on cpu: 100%|██████████| 50/50 [04:30<00:00,  5.40s/epoch, loss=0.456, prev_loss=0.457]\n",
      "WARNING:pykeen.utils:Using automatic batch size on device.type='cpu' can cause unexplained out-of-memory crashes. Therefore, we use a conservative small batch_size=32. Performance may be improved by explicitly specifying a larger batch size.\n",
      "Evaluating on cpu:   0%|          | 0.00/50.0 [00:00<?, ?triple/s]WARNING:torch_max_mem.api:Encountered tensors on device_types={'cpu'} while only ['cuda'] are considered safe for automatic memory utilization maximization. This may lead to undocumented crashes (but can be safe, too).\n",
      "Evaluating on cpu: 100%|██████████| 50.0/50.0 [00:00<00:00, 105triple/s]\n",
      "INFO:pykeen.evaluation.evaluator:Evaluation took 0.65s seconds\n"
     ]
    },
    {
     "data": {
      "text/html": [
       "\n",
       "    <style>\n",
       "        .wandb-row {\n",
       "            display: flex;\n",
       "            flex-direction: row;\n",
       "            flex-wrap: wrap;\n",
       "            justify-content: flex-start;\n",
       "            width: 100%;\n",
       "        }\n",
       "        .wandb-col {\n",
       "            display: flex;\n",
       "            flex-direction: column;\n",
       "            flex-basis: 100%;\n",
       "            flex: 1;\n",
       "            padding: 10px;\n",
       "        }\n",
       "    </style>\n",
       "<div class=\"wandb-row\"><div class=\"wandb-col\"><h3>Run history:</h3><br/><table class=\"wandb\"><tr><td>loss</td><td>█▂▂▁▂▁▁▁▁▁▁▁▁▁▁▁▁▁▁▁▁▁▁▁▁▁▁▁▁▁▁▁▁▁▁▁▁▁▁▁</td></tr><tr><td>testing.both.optimistic.adjusted_arithmetic_mean_rank</td><td>▁</td></tr><tr><td>testing.both.optimistic.adjusted_arithmetic_mean_rank_index</td><td>▁</td></tr><tr><td>testing.both.optimistic.adjusted_geometric_mean_rank_index</td><td>▁</td></tr><tr><td>testing.both.optimistic.adjusted_hits_at_k</td><td>▁</td></tr><tr><td>testing.both.optimistic.adjusted_inverse_harmonic_mean_rank</td><td>▁</td></tr><tr><td>testing.both.optimistic.arithmetic_mean_rank</td><td>▁</td></tr><tr><td>testing.both.optimistic.count</td><td>▁</td></tr><tr><td>testing.both.optimistic.geometric_mean_rank</td><td>▁</td></tr><tr><td>testing.both.optimistic.harmonic_mean_rank</td><td>▁</td></tr><tr><td>testing.both.optimistic.hits_at_1</td><td>▁</td></tr><tr><td>testing.both.optimistic.hits_at_10</td><td>▁</td></tr><tr><td>testing.both.optimistic.hits_at_3</td><td>▁</td></tr><tr><td>testing.both.optimistic.hits_at_5</td><td>▁</td></tr><tr><td>testing.both.optimistic.inverse_arithmetic_mean_rank</td><td>▁</td></tr><tr><td>testing.both.optimistic.inverse_geometric_mean_rank</td><td>▁</td></tr><tr><td>testing.both.optimistic.inverse_harmonic_mean_rank</td><td>▁</td></tr><tr><td>testing.both.optimistic.inverse_median_rank</td><td>▁</td></tr><tr><td>testing.both.optimistic.median_absolute_deviation</td><td>▁</td></tr><tr><td>testing.both.optimistic.median_rank</td><td>▁</td></tr><tr><td>testing.both.optimistic.standard_deviation</td><td>▁</td></tr><tr><td>testing.both.optimistic.variance</td><td>▁</td></tr><tr><td>testing.both.optimistic.z_arithmetic_mean_rank</td><td>▁</td></tr><tr><td>testing.both.optimistic.z_geometric_mean_rank</td><td>▁</td></tr><tr><td>testing.both.optimistic.z_hits_at_k</td><td>▁</td></tr><tr><td>testing.both.optimistic.z_inverse_harmonic_mean_rank</td><td>▁</td></tr><tr><td>testing.both.pessimistic.adjusted_arithmetic_mean_rank</td><td>▁</td></tr><tr><td>testing.both.pessimistic.adjusted_arithmetic_mean_rank_index</td><td>▁</td></tr><tr><td>testing.both.pessimistic.adjusted_geometric_mean_rank_index</td><td>▁</td></tr><tr><td>testing.both.pessimistic.adjusted_hits_at_k</td><td>▁</td></tr><tr><td>testing.both.pessimistic.adjusted_inverse_harmonic_mean_rank</td><td>▁</td></tr><tr><td>testing.both.pessimistic.arithmetic_mean_rank</td><td>▁</td></tr><tr><td>testing.both.pessimistic.count</td><td>▁</td></tr><tr><td>testing.both.pessimistic.geometric_mean_rank</td><td>▁</td></tr><tr><td>testing.both.pessimistic.harmonic_mean_rank</td><td>▁</td></tr><tr><td>testing.both.pessimistic.hits_at_1</td><td>▁</td></tr><tr><td>testing.both.pessimistic.hits_at_10</td><td>▁</td></tr><tr><td>testing.both.pessimistic.hits_at_3</td><td>▁</td></tr><tr><td>testing.both.pessimistic.hits_at_5</td><td>▁</td></tr><tr><td>testing.both.pessimistic.inverse_arithmetic_mean_rank</td><td>▁</td></tr><tr><td>testing.both.pessimistic.inverse_geometric_mean_rank</td><td>▁</td></tr><tr><td>testing.both.pessimistic.inverse_harmonic_mean_rank</td><td>▁</td></tr><tr><td>testing.both.pessimistic.inverse_median_rank</td><td>▁</td></tr><tr><td>testing.both.pessimistic.median_absolute_deviation</td><td>▁</td></tr><tr><td>testing.both.pessimistic.median_rank</td><td>▁</td></tr><tr><td>testing.both.pessimistic.standard_deviation</td><td>▁</td></tr><tr><td>testing.both.pessimistic.variance</td><td>▁</td></tr><tr><td>testing.both.pessimistic.z_arithmetic_mean_rank</td><td>▁</td></tr><tr><td>testing.both.pessimistic.z_geometric_mean_rank</td><td>▁</td></tr><tr><td>testing.both.pessimistic.z_hits_at_k</td><td>▁</td></tr><tr><td>testing.both.pessimistic.z_inverse_harmonic_mean_rank</td><td>▁</td></tr><tr><td>testing.both.realistic.adjusted_arithmetic_mean_rank</td><td>▁</td></tr><tr><td>testing.both.realistic.adjusted_arithmetic_mean_rank_index</td><td>▁</td></tr><tr><td>testing.both.realistic.adjusted_geometric_mean_rank_index</td><td>▁</td></tr><tr><td>testing.both.realistic.adjusted_hits_at_k</td><td>▁</td></tr><tr><td>testing.both.realistic.adjusted_inverse_harmonic_mean_rank</td><td>▁</td></tr><tr><td>testing.both.realistic.arithmetic_mean_rank</td><td>▁</td></tr><tr><td>testing.both.realistic.count</td><td>▁</td></tr><tr><td>testing.both.realistic.geometric_mean_rank</td><td>▁</td></tr><tr><td>testing.both.realistic.harmonic_mean_rank</td><td>▁</td></tr><tr><td>testing.both.realistic.hits_at_1</td><td>▁</td></tr><tr><td>testing.both.realistic.hits_at_10</td><td>▁</td></tr><tr><td>testing.both.realistic.hits_at_3</td><td>▁</td></tr><tr><td>testing.both.realistic.hits_at_5</td><td>▁</td></tr><tr><td>testing.both.realistic.inverse_arithmetic_mean_rank</td><td>▁</td></tr><tr><td>testing.both.realistic.inverse_geometric_mean_rank</td><td>▁</td></tr><tr><td>testing.both.realistic.inverse_harmonic_mean_rank</td><td>▁</td></tr><tr><td>testing.both.realistic.inverse_median_rank</td><td>▁</td></tr><tr><td>testing.both.realistic.median_absolute_deviation</td><td>▁</td></tr><tr><td>testing.both.realistic.median_rank</td><td>▁</td></tr><tr><td>testing.both.realistic.standard_deviation</td><td>▁</td></tr><tr><td>testing.both.realistic.variance</td><td>▁</td></tr><tr><td>testing.both.realistic.z_arithmetic_mean_rank</td><td>▁</td></tr><tr><td>testing.both.realistic.z_geometric_mean_rank</td><td>▁</td></tr><tr><td>testing.both.realistic.z_hits_at_k</td><td>▁</td></tr><tr><td>testing.both.realistic.z_inverse_harmonic_mean_rank</td><td>▁</td></tr><tr><td>testing.head.optimistic.adjusted_arithmetic_mean_rank</td><td>▁</td></tr><tr><td>testing.head.optimistic.adjusted_arithmetic_mean_rank_index</td><td>▁</td></tr><tr><td>testing.head.optimistic.adjusted_geometric_mean_rank_index</td><td>▁</td></tr><tr><td>testing.head.optimistic.adjusted_hits_at_k</td><td>▁</td></tr><tr><td>testing.head.optimistic.adjusted_inverse_harmonic_mean_rank</td><td>▁</td></tr><tr><td>testing.head.optimistic.arithmetic_mean_rank</td><td>▁</td></tr><tr><td>testing.head.optimistic.count</td><td>▁</td></tr><tr><td>testing.head.optimistic.geometric_mean_rank</td><td>▁</td></tr><tr><td>testing.head.optimistic.harmonic_mean_rank</td><td>▁</td></tr><tr><td>testing.head.optimistic.hits_at_1</td><td>▁</td></tr><tr><td>testing.head.optimistic.hits_at_10</td><td>▁</td></tr><tr><td>testing.head.optimistic.hits_at_3</td><td>▁</td></tr><tr><td>testing.head.optimistic.hits_at_5</td><td>▁</td></tr><tr><td>testing.head.optimistic.inverse_arithmetic_mean_rank</td><td>▁</td></tr><tr><td>testing.head.optimistic.inverse_geometric_mean_rank</td><td>▁</td></tr><tr><td>testing.head.optimistic.inverse_harmonic_mean_rank</td><td>▁</td></tr><tr><td>testing.head.optimistic.inverse_median_rank</td><td>▁</td></tr><tr><td>testing.head.optimistic.median_absolute_deviation</td><td>▁</td></tr><tr><td>testing.head.optimistic.median_rank</td><td>▁</td></tr><tr><td>testing.head.optimistic.standard_deviation</td><td>▁</td></tr><tr><td>testing.head.optimistic.variance</td><td>▁</td></tr><tr><td>testing.head.optimistic.z_arithmetic_mean_rank</td><td>▁</td></tr><tr><td>testing.head.optimistic.z_geometric_mean_rank</td><td>▁</td></tr><tr><td>testing.head.optimistic.z_hits_at_k</td><td>▁</td></tr><tr><td>testing.head.optimistic.z_inverse_harmonic_mean_rank</td><td>▁</td></tr><tr><td>testing.head.pessimistic.adjusted_arithmetic_mean_rank</td><td>▁</td></tr><tr><td>testing.head.pessimistic.adjusted_arithmetic_mean_rank_index</td><td>▁</td></tr><tr><td>testing.head.pessimistic.adjusted_geometric_mean_rank_index</td><td>▁</td></tr><tr><td>testing.head.pessimistic.adjusted_hits_at_k</td><td>▁</td></tr><tr><td>testing.head.pessimistic.adjusted_inverse_harmonic_mean_rank</td><td>▁</td></tr><tr><td>testing.head.pessimistic.arithmetic_mean_rank</td><td>▁</td></tr><tr><td>testing.head.pessimistic.count</td><td>▁</td></tr><tr><td>testing.head.pessimistic.geometric_mean_rank</td><td>▁</td></tr><tr><td>testing.head.pessimistic.harmonic_mean_rank</td><td>▁</td></tr><tr><td>testing.head.pessimistic.hits_at_1</td><td>▁</td></tr><tr><td>testing.head.pessimistic.hits_at_10</td><td>▁</td></tr><tr><td>testing.head.pessimistic.hits_at_3</td><td>▁</td></tr><tr><td>testing.head.pessimistic.hits_at_5</td><td>▁</td></tr><tr><td>testing.head.pessimistic.inverse_arithmetic_mean_rank</td><td>▁</td></tr><tr><td>testing.head.pessimistic.inverse_geometric_mean_rank</td><td>▁</td></tr><tr><td>testing.head.pessimistic.inverse_harmonic_mean_rank</td><td>▁</td></tr><tr><td>testing.head.pessimistic.inverse_median_rank</td><td>▁</td></tr><tr><td>testing.head.pessimistic.median_absolute_deviation</td><td>▁</td></tr><tr><td>testing.head.pessimistic.median_rank</td><td>▁</td></tr><tr><td>testing.head.pessimistic.standard_deviation</td><td>▁</td></tr><tr><td>testing.head.pessimistic.variance</td><td>▁</td></tr><tr><td>testing.head.pessimistic.z_arithmetic_mean_rank</td><td>▁</td></tr><tr><td>testing.head.pessimistic.z_geometric_mean_rank</td><td>▁</td></tr><tr><td>testing.head.pessimistic.z_hits_at_k</td><td>▁</td></tr><tr><td>testing.head.pessimistic.z_inverse_harmonic_mean_rank</td><td>▁</td></tr><tr><td>testing.head.realistic.adjusted_arithmetic_mean_rank</td><td>▁</td></tr><tr><td>testing.head.realistic.adjusted_arithmetic_mean_rank_index</td><td>▁</td></tr><tr><td>testing.head.realistic.adjusted_geometric_mean_rank_index</td><td>▁</td></tr><tr><td>testing.head.realistic.adjusted_hits_at_k</td><td>▁</td></tr><tr><td>testing.head.realistic.adjusted_inverse_harmonic_mean_rank</td><td>▁</td></tr><tr><td>testing.head.realistic.arithmetic_mean_rank</td><td>▁</td></tr><tr><td>testing.head.realistic.count</td><td>▁</td></tr><tr><td>testing.head.realistic.geometric_mean_rank</td><td>▁</td></tr><tr><td>testing.head.realistic.harmonic_mean_rank</td><td>▁</td></tr><tr><td>testing.head.realistic.hits_at_1</td><td>▁</td></tr><tr><td>testing.head.realistic.hits_at_10</td><td>▁</td></tr><tr><td>testing.head.realistic.hits_at_3</td><td>▁</td></tr><tr><td>testing.head.realistic.hits_at_5</td><td>▁</td></tr><tr><td>testing.head.realistic.inverse_arithmetic_mean_rank</td><td>▁</td></tr><tr><td>testing.head.realistic.inverse_geometric_mean_rank</td><td>▁</td></tr><tr><td>testing.head.realistic.inverse_harmonic_mean_rank</td><td>▁</td></tr><tr><td>testing.head.realistic.inverse_median_rank</td><td>▁</td></tr><tr><td>testing.head.realistic.median_absolute_deviation</td><td>▁</td></tr><tr><td>testing.head.realistic.median_rank</td><td>▁</td></tr><tr><td>testing.head.realistic.standard_deviation</td><td>▁</td></tr><tr><td>testing.head.realistic.variance</td><td>▁</td></tr><tr><td>testing.head.realistic.z_arithmetic_mean_rank</td><td>▁</td></tr><tr><td>testing.head.realistic.z_geometric_mean_rank</td><td>▁</td></tr><tr><td>testing.head.realistic.z_hits_at_k</td><td>▁</td></tr><tr><td>testing.head.realistic.z_inverse_harmonic_mean_rank</td><td>▁</td></tr><tr><td>testing.tail.optimistic.adjusted_arithmetic_mean_rank</td><td>▁</td></tr><tr><td>testing.tail.optimistic.adjusted_arithmetic_mean_rank_index</td><td>▁</td></tr><tr><td>testing.tail.optimistic.adjusted_geometric_mean_rank_index</td><td>▁</td></tr><tr><td>testing.tail.optimistic.adjusted_hits_at_k</td><td>▁</td></tr><tr><td>testing.tail.optimistic.adjusted_inverse_harmonic_mean_rank</td><td>▁</td></tr><tr><td>testing.tail.optimistic.arithmetic_mean_rank</td><td>▁</td></tr><tr><td>testing.tail.optimistic.count</td><td>▁</td></tr><tr><td>testing.tail.optimistic.geometric_mean_rank</td><td>▁</td></tr><tr><td>testing.tail.optimistic.harmonic_mean_rank</td><td>▁</td></tr><tr><td>testing.tail.optimistic.hits_at_1</td><td>▁</td></tr><tr><td>testing.tail.optimistic.hits_at_10</td><td>▁</td></tr><tr><td>testing.tail.optimistic.hits_at_3</td><td>▁</td></tr><tr><td>testing.tail.optimistic.hits_at_5</td><td>▁</td></tr><tr><td>testing.tail.optimistic.inverse_arithmetic_mean_rank</td><td>▁</td></tr><tr><td>testing.tail.optimistic.inverse_geometric_mean_rank</td><td>▁</td></tr><tr><td>testing.tail.optimistic.inverse_harmonic_mean_rank</td><td>▁</td></tr><tr><td>testing.tail.optimistic.inverse_median_rank</td><td>▁</td></tr><tr><td>testing.tail.optimistic.median_absolute_deviation</td><td>▁</td></tr><tr><td>testing.tail.optimistic.median_rank</td><td>▁</td></tr><tr><td>testing.tail.optimistic.standard_deviation</td><td>▁</td></tr><tr><td>testing.tail.optimistic.variance</td><td>▁</td></tr><tr><td>testing.tail.optimistic.z_arithmetic_mean_rank</td><td>▁</td></tr><tr><td>testing.tail.optimistic.z_geometric_mean_rank</td><td>▁</td></tr><tr><td>testing.tail.optimistic.z_hits_at_k</td><td>▁</td></tr><tr><td>testing.tail.optimistic.z_inverse_harmonic_mean_rank</td><td>▁</td></tr><tr><td>testing.tail.pessimistic.adjusted_arithmetic_mean_rank</td><td>▁</td></tr><tr><td>testing.tail.pessimistic.adjusted_arithmetic_mean_rank_index</td><td>▁</td></tr><tr><td>testing.tail.pessimistic.adjusted_geometric_mean_rank_index</td><td>▁</td></tr><tr><td>testing.tail.pessimistic.adjusted_hits_at_k</td><td>▁</td></tr><tr><td>testing.tail.pessimistic.adjusted_inverse_harmonic_mean_rank</td><td>▁</td></tr><tr><td>testing.tail.pessimistic.arithmetic_mean_rank</td><td>▁</td></tr><tr><td>testing.tail.pessimistic.count</td><td>▁</td></tr><tr><td>testing.tail.pessimistic.geometric_mean_rank</td><td>▁</td></tr><tr><td>testing.tail.pessimistic.harmonic_mean_rank</td><td>▁</td></tr><tr><td>testing.tail.pessimistic.hits_at_1</td><td>▁</td></tr><tr><td>testing.tail.pessimistic.hits_at_10</td><td>▁</td></tr><tr><td>testing.tail.pessimistic.hits_at_3</td><td>▁</td></tr><tr><td>testing.tail.pessimistic.hits_at_5</td><td>▁</td></tr><tr><td>testing.tail.pessimistic.inverse_arithmetic_mean_rank</td><td>▁</td></tr><tr><td>testing.tail.pessimistic.inverse_geometric_mean_rank</td><td>▁</td></tr><tr><td>testing.tail.pessimistic.inverse_harmonic_mean_rank</td><td>▁</td></tr><tr><td>testing.tail.pessimistic.inverse_median_rank</td><td>▁</td></tr><tr><td>testing.tail.pessimistic.median_absolute_deviation</td><td>▁</td></tr><tr><td>testing.tail.pessimistic.median_rank</td><td>▁</td></tr><tr><td>testing.tail.pessimistic.standard_deviation</td><td>▁</td></tr><tr><td>testing.tail.pessimistic.variance</td><td>▁</td></tr><tr><td>testing.tail.pessimistic.z_arithmetic_mean_rank</td><td>▁</td></tr><tr><td>testing.tail.pessimistic.z_geometric_mean_rank</td><td>▁</td></tr><tr><td>testing.tail.pessimistic.z_hits_at_k</td><td>▁</td></tr><tr><td>testing.tail.pessimistic.z_inverse_harmonic_mean_rank</td><td>▁</td></tr><tr><td>testing.tail.realistic.adjusted_arithmetic_mean_rank</td><td>▁</td></tr><tr><td>testing.tail.realistic.adjusted_arithmetic_mean_rank_index</td><td>▁</td></tr><tr><td>testing.tail.realistic.adjusted_geometric_mean_rank_index</td><td>▁</td></tr><tr><td>testing.tail.realistic.adjusted_hits_at_k</td><td>▁</td></tr><tr><td>testing.tail.realistic.adjusted_inverse_harmonic_mean_rank</td><td>▁</td></tr><tr><td>testing.tail.realistic.arithmetic_mean_rank</td><td>▁</td></tr><tr><td>testing.tail.realistic.count</td><td>▁</td></tr><tr><td>testing.tail.realistic.geometric_mean_rank</td><td>▁</td></tr><tr><td>testing.tail.realistic.harmonic_mean_rank</td><td>▁</td></tr><tr><td>testing.tail.realistic.hits_at_1</td><td>▁</td></tr><tr><td>testing.tail.realistic.hits_at_10</td><td>▁</td></tr><tr><td>testing.tail.realistic.hits_at_3</td><td>▁</td></tr><tr><td>testing.tail.realistic.hits_at_5</td><td>▁</td></tr><tr><td>testing.tail.realistic.inverse_arithmetic_mean_rank</td><td>▁</td></tr><tr><td>testing.tail.realistic.inverse_geometric_mean_rank</td><td>▁</td></tr><tr><td>testing.tail.realistic.inverse_harmonic_mean_rank</td><td>▁</td></tr><tr><td>testing.tail.realistic.inverse_median_rank</td><td>▁</td></tr><tr><td>testing.tail.realistic.median_absolute_deviation</td><td>▁</td></tr><tr><td>testing.tail.realistic.median_rank</td><td>▁</td></tr><tr><td>testing.tail.realistic.standard_deviation</td><td>▁</td></tr><tr><td>testing.tail.realistic.variance</td><td>▁</td></tr><tr><td>testing.tail.realistic.z_arithmetic_mean_rank</td><td>▁</td></tr><tr><td>testing.tail.realistic.z_geometric_mean_rank</td><td>▁</td></tr><tr><td>testing.tail.realistic.z_hits_at_k</td><td>▁</td></tr><tr><td>testing.tail.realistic.z_inverse_harmonic_mean_rank</td><td>▁</td></tr><tr><td>times.final_evaluation</td><td>▁</td></tr><tr><td>times.total_training</td><td>▁</td></tr></table><br/></div><div class=\"wandb-col\"><h3>Run summary:</h3><br/><table class=\"wandb\"><tr><td>loss</td><td>0.45589</td></tr><tr><td>testing.both.optimistic.adjusted_arithmetic_mean_rank</td><td>0.96119</td></tr><tr><td>testing.both.optimistic.adjusted_arithmetic_mean_rank_index</td><td>0.03881</td></tr><tr><td>testing.both.optimistic.adjusted_geometric_mean_rank_index</td><td>0.14371</td></tr><tr><td>testing.both.optimistic.adjusted_hits_at_k</td><td>-0.0006</td></tr><tr><td>testing.both.optimistic.adjusted_inverse_harmonic_mean_rank</td><td>-0.00014</td></tr><tr><td>testing.both.optimistic.arithmetic_mean_rank</td><td>8054.72</td></tr><tr><td>testing.both.optimistic.count</td><td>100</td></tr><tr><td>testing.both.optimistic.geometric_mean_rank</td><td>5307.40723</td></tr><tr><td>testing.both.optimistic.harmonic_mean_rank</td><td>2112.63743</td></tr><tr><td>testing.both.optimistic.hits_at_1</td><td>0</td></tr><tr><td>testing.both.optimistic.hits_at_10</td><td>0</td></tr><tr><td>testing.both.optimistic.hits_at_3</td><td>0</td></tr><tr><td>testing.both.optimistic.hits_at_5</td><td>0</td></tr><tr><td>testing.both.optimistic.inverse_arithmetic_mean_rank</td><td>0.00012</td></tr><tr><td>testing.both.optimistic.inverse_geometric_mean_rank</td><td>0.00019</td></tr><tr><td>testing.both.optimistic.inverse_harmonic_mean_rank</td><td>0.00047</td></tr><tr><td>testing.both.optimistic.inverse_median_rank</td><td>0.00015</td></tr><tr><td>testing.both.optimistic.median_absolute_deviation</td><td>7535.32578</td></tr><tr><td>testing.both.optimistic.median_rank</td><td>6841.5</td></tr><tr><td>testing.both.optimistic.standard_deviation</td><td>5417.26094</td></tr><tr><td>testing.both.optimistic.variance</td><td>29346716.0416</td></tr><tr><td>testing.both.optimistic.z_arithmetic_mean_rank</td><td>0.67219</td></tr><tr><td>testing.both.optimistic.z_geometric_mean_rank</td><td>1.44986</td></tr><tr><td>testing.both.optimistic.z_hits_at_k</td><td>-0.24435</td></tr><tr><td>testing.both.optimistic.z_inverse_harmonic_mean_rank</td><td>-0.1431</td></tr><tr><td>testing.both.pessimistic.adjusted_arithmetic_mean_rank</td><td>0.96119</td></tr><tr><td>testing.both.pessimistic.adjusted_arithmetic_mean_rank_index</td><td>0.03881</td></tr><tr><td>testing.both.pessimistic.adjusted_geometric_mean_rank_index</td><td>0.14371</td></tr><tr><td>testing.both.pessimistic.adjusted_hits_at_k</td><td>-0.0006</td></tr><tr><td>testing.both.pessimistic.adjusted_inverse_harmonic_mean_rank</td><td>-0.00014</td></tr><tr><td>testing.both.pessimistic.arithmetic_mean_rank</td><td>8054.73</td></tr><tr><td>testing.both.pessimistic.count</td><td>100</td></tr><tr><td>testing.both.pessimistic.geometric_mean_rank</td><td>5307.41543</td></tr><tr><td>testing.both.pessimistic.harmonic_mean_rank</td><td>2112.63849</td></tr><tr><td>testing.both.pessimistic.hits_at_1</td><td>0</td></tr><tr><td>testing.both.pessimistic.hits_at_10</td><td>0</td></tr><tr><td>testing.both.pessimistic.hits_at_3</td><td>0</td></tr><tr><td>testing.both.pessimistic.hits_at_5</td><td>0</td></tr><tr><td>testing.both.pessimistic.inverse_arithmetic_mean_rank</td><td>0.00012</td></tr><tr><td>testing.both.pessimistic.inverse_geometric_mean_rank</td><td>0.00019</td></tr><tr><td>testing.both.pessimistic.inverse_harmonic_mean_rank</td><td>0.00047</td></tr><tr><td>testing.both.pessimistic.inverse_median_rank</td><td>0.00015</td></tr><tr><td>testing.both.pessimistic.median_absolute_deviation</td><td>7535.32578</td></tr><tr><td>testing.both.pessimistic.median_rank</td><td>6841.5</td></tr><tr><td>testing.both.pessimistic.standard_deviation</td><td>5417.25802</td></tr><tr><td>testing.both.pessimistic.variance</td><td>29346684.4171</td></tr><tr><td>testing.both.pessimistic.z_arithmetic_mean_rank</td><td>0.67217</td></tr><tr><td>testing.both.pessimistic.z_geometric_mean_rank</td><td>1.44985</td></tr><tr><td>testing.both.pessimistic.z_hits_at_k</td><td>-0.24435</td></tr><tr><td>testing.both.pessimistic.z_inverse_harmonic_mean_rank</td><td>-0.1431</td></tr><tr><td>testing.both.realistic.adjusted_arithmetic_mean_rank</td><td>0.96119</td></tr><tr><td>testing.both.realistic.adjusted_arithmetic_mean_rank_index</td><td>0.03881</td></tr><tr><td>testing.both.realistic.adjusted_geometric_mean_rank_index</td><td>0.14371</td></tr><tr><td>testing.both.realistic.adjusted_hits_at_k</td><td>-0.0006</td></tr><tr><td>testing.both.realistic.adjusted_inverse_harmonic_mean_rank</td><td>-0.00014</td></tr><tr><td>testing.both.realistic.arithmetic_mean_rank</td><td>8054.7251</td></tr><tr><td>testing.both.realistic.count</td><td>100</td></tr><tr><td>testing.both.realistic.geometric_mean_rank</td><td>5307.41113</td></tr><tr><td>testing.both.realistic.harmonic_mean_rank</td><td>2112.6378</td></tr><tr><td>testing.both.realistic.hits_at_1</td><td>0</td></tr><tr><td>testing.both.realistic.hits_at_10</td><td>0</td></tr><tr><td>testing.both.realistic.hits_at_3</td><td>0</td></tr><tr><td>testing.both.realistic.hits_at_5</td><td>0</td></tr><tr><td>testing.both.realistic.inverse_arithmetic_mean_rank</td><td>0.00012</td></tr><tr><td>testing.both.realistic.inverse_geometric_mean_rank</td><td>0.00019</td></tr><tr><td>testing.both.realistic.inverse_harmonic_mean_rank</td><td>0.00047</td></tr><tr><td>testing.both.realistic.inverse_median_rank</td><td>0.00015</td></tr><tr><td>testing.both.realistic.median_absolute_deviation</td><td>7535.32578</td></tr><tr><td>testing.both.realistic.median_rank</td><td>6841.5</td></tr><tr><td>testing.both.realistic.standard_deviation</td><td>5417.25928</td></tr><tr><td>testing.both.realistic.variance</td><td>29346698.0</td></tr><tr><td>testing.both.realistic.z_arithmetic_mean_rank</td><td>0.67218</td></tr><tr><td>testing.both.realistic.z_geometric_mean_rank</td><td>1.44985</td></tr><tr><td>testing.both.realistic.z_hits_at_k</td><td>-0.24435</td></tr><tr><td>testing.both.realistic.z_inverse_harmonic_mean_rank</td><td>-0.1431</td></tr><tr><td>testing.head.optimistic.adjusted_arithmetic_mean_rank</td><td>0.97351</td></tr><tr><td>testing.head.optimistic.adjusted_arithmetic_mean_rank_index</td><td>0.0265</td></tr><tr><td>testing.head.optimistic.adjusted_geometric_mean_rank_index</td><td>0.14543</td></tr><tr><td>testing.head.optimistic.adjusted_hits_at_k</td><td>-0.0006</td></tr><tr><td>testing.head.optimistic.adjusted_inverse_harmonic_mean_rank</td><td>-0.00014</td></tr><tr><td>testing.head.optimistic.arithmetic_mean_rank</td><td>8157.88</td></tr><tr><td>testing.head.optimistic.count</td><td>50</td></tr><tr><td>testing.head.optimistic.geometric_mean_rank</td><td>5322.63688</td></tr><tr><td>testing.head.optimistic.harmonic_mean_rank</td><td>2109.94258</td></tr><tr><td>testing.head.optimistic.hits_at_1</td><td>0</td></tr><tr><td>testing.head.optimistic.hits_at_10</td><td>0</td></tr><tr><td>testing.head.optimistic.hits_at_3</td><td>0</td></tr><tr><td>testing.head.optimistic.hits_at_5</td><td>0</td></tr><tr><td>testing.head.optimistic.inverse_arithmetic_mean_rank</td><td>0.00012</td></tr><tr><td>testing.head.optimistic.inverse_geometric_mean_rank</td><td>0.00019</td></tr><tr><td>testing.head.optimistic.inverse_harmonic_mean_rank</td><td>0.00047</td></tr><tr><td>testing.head.optimistic.inverse_median_rank</td><td>0.00013</td></tr><tr><td>testing.head.optimistic.median_absolute_deviation</td><td>6702.10333</td></tr><tr><td>testing.head.optimistic.median_rank</td><td>7504.5</td></tr><tr><td>testing.head.optimistic.standard_deviation</td><td>5349.80383</td></tr><tr><td>testing.head.optimistic.variance</td><td>28620401.0656</td></tr><tr><td>testing.head.optimistic.z_arithmetic_mean_rank</td><td>0.32448</td></tr><tr><td>testing.head.optimistic.z_geometric_mean_rank</td><td>1.04512</td></tr><tr><td>testing.head.optimistic.z_hits_at_k</td><td>-0.17278</td></tr><tr><td>testing.head.optimistic.z_inverse_harmonic_mean_rank</td><td>-0.10075</td></tr><tr><td>testing.head.pessimistic.adjusted_arithmetic_mean_rank</td><td>0.97351</td></tr><tr><td>testing.head.pessimistic.adjusted_arithmetic_mean_rank_index</td><td>0.02649</td></tr><tr><td>testing.head.pessimistic.adjusted_geometric_mean_rank_index</td><td>0.14543</td></tr><tr><td>testing.head.pessimistic.adjusted_hits_at_k</td><td>-0.0006</td></tr><tr><td>testing.head.pessimistic.adjusted_inverse_harmonic_mean_rank</td><td>-0.00014</td></tr><tr><td>testing.head.pessimistic.arithmetic_mean_rank</td><td>8157.9</td></tr><tr><td>testing.head.pessimistic.count</td><td>50</td></tr><tr><td>testing.head.pessimistic.geometric_mean_rank</td><td>5322.65332</td></tr><tr><td>testing.head.pessimistic.harmonic_mean_rank</td><td>2109.94471</td></tr><tr><td>testing.head.pessimistic.hits_at_1</td><td>0</td></tr><tr><td>testing.head.pessimistic.hits_at_10</td><td>0</td></tr><tr><td>testing.head.pessimistic.hits_at_3</td><td>0</td></tr><tr><td>testing.head.pessimistic.hits_at_5</td><td>0</td></tr><tr><td>testing.head.pessimistic.inverse_arithmetic_mean_rank</td><td>0.00012</td></tr><tr><td>testing.head.pessimistic.inverse_geometric_mean_rank</td><td>0.00019</td></tr><tr><td>testing.head.pessimistic.inverse_harmonic_mean_rank</td><td>0.00047</td></tr><tr><td>testing.head.pessimistic.inverse_median_rank</td><td>0.00013</td></tr><tr><td>testing.head.pessimistic.median_absolute_deviation</td><td>6702.10333</td></tr><tr><td>testing.head.pessimistic.median_rank</td><td>7504.5</td></tr><tr><td>testing.head.pessimistic.standard_deviation</td><td>5349.79754</td></tr><tr><td>testing.head.pessimistic.variance</td><td>28620333.69</td></tr><tr><td>testing.head.pessimistic.z_arithmetic_mean_rank</td><td>0.32445</td></tr><tr><td>testing.head.pessimistic.z_geometric_mean_rank</td><td>1.0451</td></tr><tr><td>testing.head.pessimistic.z_hits_at_k</td><td>-0.17278</td></tr><tr><td>testing.head.pessimistic.z_inverse_harmonic_mean_rank</td><td>-0.10075</td></tr><tr><td>testing.head.realistic.adjusted_arithmetic_mean_rank</td><td>0.97351</td></tr><tr><td>testing.head.realistic.adjusted_arithmetic_mean_rank_index</td><td>0.02649</td></tr><tr><td>testing.head.realistic.adjusted_geometric_mean_rank_index</td><td>0.14543</td></tr><tr><td>testing.head.realistic.adjusted_hits_at_k</td><td>-0.0006</td></tr><tr><td>testing.head.realistic.adjusted_inverse_harmonic_mean_rank</td><td>-0.00014</td></tr><tr><td>testing.head.realistic.arithmetic_mean_rank</td><td>8157.89014</td></tr><tr><td>testing.head.realistic.count</td><td>50</td></tr><tr><td>testing.head.realistic.geometric_mean_rank</td><td>5322.64795</td></tr><tr><td>testing.head.realistic.harmonic_mean_rank</td><td>2109.94366</td></tr><tr><td>testing.head.realistic.hits_at_1</td><td>0</td></tr><tr><td>testing.head.realistic.hits_at_10</td><td>0</td></tr><tr><td>testing.head.realistic.hits_at_3</td><td>0</td></tr><tr><td>testing.head.realistic.hits_at_5</td><td>0</td></tr><tr><td>testing.head.realistic.inverse_arithmetic_mean_rank</td><td>0.00012</td></tr><tr><td>testing.head.realistic.inverse_geometric_mean_rank</td><td>0.00019</td></tr><tr><td>testing.head.realistic.inverse_harmonic_mean_rank</td><td>0.00047</td></tr><tr><td>testing.head.realistic.inverse_median_rank</td><td>0.00013</td></tr><tr><td>testing.head.realistic.median_absolute_deviation</td><td>6702.10333</td></tr><tr><td>testing.head.realistic.median_rank</td><td>7504.5</td></tr><tr><td>testing.head.realistic.standard_deviation</td><td>5349.80078</td></tr><tr><td>testing.head.realistic.variance</td><td>28620370.0</td></tr><tr><td>testing.head.realistic.z_arithmetic_mean_rank</td><td>0.32446</td></tr><tr><td>testing.head.realistic.z_geometric_mean_rank</td><td>1.04511</td></tr><tr><td>testing.head.realistic.z_hits_at_k</td><td>-0.17278</td></tr><tr><td>testing.head.realistic.z_inverse_harmonic_mean_rank</td><td>-0.10075</td></tr><tr><td>testing.tail.optimistic.adjusted_arithmetic_mean_rank</td><td>0.94888</td></tr><tr><td>testing.tail.optimistic.adjusted_arithmetic_mean_rank_index</td><td>0.05113</td></tr><tr><td>testing.tail.optimistic.adjusted_geometric_mean_rank_index</td><td>0.15033</td></tr><tr><td>testing.tail.optimistic.adjusted_hits_at_k</td><td>-0.0006</td></tr><tr><td>testing.tail.optimistic.adjusted_inverse_harmonic_mean_rank</td><td>-0.00014</td></tr><tr><td>testing.tail.optimistic.arithmetic_mean_rank</td><td>7951.56</td></tr><tr><td>testing.tail.optimistic.count</td><td>50</td></tr><tr><td>testing.tail.optimistic.geometric_mean_rank</td><td>5292.22117</td></tr><tr><td>testing.tail.optimistic.harmonic_mean_rank</td><td>2115.33916</td></tr><tr><td>testing.tail.optimistic.hits_at_1</td><td>0</td></tr><tr><td>testing.tail.optimistic.hits_at_10</td><td>0</td></tr><tr><td>testing.tail.optimistic.hits_at_3</td><td>0</td></tr><tr><td>testing.tail.optimistic.hits_at_5</td><td>0</td></tr><tr><td>testing.tail.optimistic.inverse_arithmetic_mean_rank</td><td>0.00013</td></tr><tr><td>testing.tail.optimistic.inverse_geometric_mean_rank</td><td>0.00019</td></tr><tr><td>testing.tail.optimistic.inverse_harmonic_mean_rank</td><td>0.00047</td></tr><tr><td>testing.tail.optimistic.inverse_median_rank</td><td>0.00016</td></tr><tr><td>testing.tail.optimistic.median_absolute_deviation</td><td>6343.31359</td></tr><tr><td>testing.tail.optimistic.median_rank</td><td>6261</td></tr><tr><td>testing.tail.optimistic.standard_deviation</td><td>5481.94738</td></tr><tr><td>testing.tail.optimistic.variance</td><td>30051747.0464</td></tr><tr><td>testing.tail.optimistic.z_arithmetic_mean_rank</td><td>0.62614</td></tr><tr><td>testing.tail.optimistic.z_geometric_mean_rank</td><td>1.08027</td></tr><tr><td>testing.tail.optimistic.z_hits_at_k</td><td>-0.17278</td></tr><tr><td>testing.tail.optimistic.z_inverse_harmonic_mean_rank</td><td>-0.10162</td></tr><tr><td>testing.tail.pessimistic.adjusted_arithmetic_mean_rank</td><td>0.94888</td></tr><tr><td>testing.tail.pessimistic.adjusted_arithmetic_mean_rank_index</td><td>0.05113</td></tr><tr><td>testing.tail.pessimistic.adjusted_geometric_mean_rank_index</td><td>0.15033</td></tr><tr><td>testing.tail.pessimistic.adjusted_hits_at_k</td><td>-0.0006</td></tr><tr><td>testing.tail.pessimistic.adjusted_inverse_harmonic_mean_rank</td><td>-0.00014</td></tr><tr><td>testing.tail.pessimistic.arithmetic_mean_rank</td><td>7951.56</td></tr><tr><td>testing.tail.pessimistic.count</td><td>50</td></tr><tr><td>testing.tail.pessimistic.geometric_mean_rank</td><td>5292.22117</td></tr><tr><td>testing.tail.pessimistic.harmonic_mean_rank</td><td>2115.33916</td></tr><tr><td>testing.tail.pessimistic.hits_at_1</td><td>0</td></tr><tr><td>testing.tail.pessimistic.hits_at_10</td><td>0</td></tr><tr><td>testing.tail.pessimistic.hits_at_3</td><td>0</td></tr><tr><td>testing.tail.pessimistic.hits_at_5</td><td>0</td></tr><tr><td>testing.tail.pessimistic.inverse_arithmetic_mean_rank</td><td>0.00013</td></tr><tr><td>testing.tail.pessimistic.inverse_geometric_mean_rank</td><td>0.00019</td></tr><tr><td>testing.tail.pessimistic.inverse_harmonic_mean_rank</td><td>0.00047</td></tr><tr><td>testing.tail.pessimistic.inverse_median_rank</td><td>0.00016</td></tr><tr><td>testing.tail.pessimistic.median_absolute_deviation</td><td>6343.31359</td></tr><tr><td>testing.tail.pessimistic.median_rank</td><td>6261</td></tr><tr><td>testing.tail.pessimistic.standard_deviation</td><td>5481.94738</td></tr><tr><td>testing.tail.pessimistic.variance</td><td>30051747.0464</td></tr><tr><td>testing.tail.pessimistic.z_arithmetic_mean_rank</td><td>0.62614</td></tr><tr><td>testing.tail.pessimistic.z_geometric_mean_rank</td><td>1.08027</td></tr><tr><td>testing.tail.pessimistic.z_hits_at_k</td><td>-0.17278</td></tr><tr><td>testing.tail.pessimistic.z_inverse_harmonic_mean_rank</td><td>-0.10162</td></tr><tr><td>testing.tail.realistic.adjusted_arithmetic_mean_rank</td><td>0.94888</td></tr><tr><td>testing.tail.realistic.adjusted_arithmetic_mean_rank_index</td><td>0.05113</td></tr><tr><td>testing.tail.realistic.adjusted_geometric_mean_rank_index</td><td>0.15033</td></tr><tr><td>testing.tail.realistic.adjusted_hits_at_k</td><td>-0.0006</td></tr><tr><td>testing.tail.realistic.adjusted_inverse_harmonic_mean_rank</td><td>-0.00014</td></tr><tr><td>testing.tail.realistic.arithmetic_mean_rank</td><td>7951.56006</td></tr><tr><td>testing.tail.realistic.count</td><td>50</td></tr><tr><td>testing.tail.realistic.geometric_mean_rank</td><td>5292.21826</td></tr><tr><td>testing.tail.realistic.harmonic_mean_rank</td><td>2115.33935</td></tr><tr><td>testing.tail.realistic.hits_at_1</td><td>0</td></tr><tr><td>testing.tail.realistic.hits_at_10</td><td>0</td></tr><tr><td>testing.tail.realistic.hits_at_3</td><td>0</td></tr><tr><td>testing.tail.realistic.hits_at_5</td><td>0</td></tr><tr><td>testing.tail.realistic.inverse_arithmetic_mean_rank</td><td>0.00013</td></tr><tr><td>testing.tail.realistic.inverse_geometric_mean_rank</td><td>0.00019</td></tr><tr><td>testing.tail.realistic.inverse_harmonic_mean_rank</td><td>0.00047</td></tr><tr><td>testing.tail.realistic.inverse_median_rank</td><td>0.00016</td></tr><tr><td>testing.tail.realistic.median_absolute_deviation</td><td>6343.31359</td></tr><tr><td>testing.tail.realistic.median_rank</td><td>6261</td></tr><tr><td>testing.tail.realistic.standard_deviation</td><td>5481.94727</td></tr><tr><td>testing.tail.realistic.variance</td><td>30051746.0</td></tr><tr><td>testing.tail.realistic.z_arithmetic_mean_rank</td><td>0.62614</td></tr><tr><td>testing.tail.realistic.z_geometric_mean_rank</td><td>1.08028</td></tr><tr><td>testing.tail.realistic.z_hits_at_k</td><td>-0.17278</td></tr><tr><td>testing.tail.realistic.z_inverse_harmonic_mean_rank</td><td>-0.10162</td></tr><tr><td>times.final_evaluation</td><td>0.65553</td></tr><tr><td>times.total_training</td><td>270.30439</td></tr></table><br/></div></div>"
      ],
      "text/plain": [
       "<IPython.core.display.HTML object>"
      ]
     },
     "metadata": {},
     "output_type": "display_data"
    },
    {
     "data": {
      "text/html": [
       " View run <strong style=\"color:#cdcd00\">upbeat-wood-62</strong> at: <a href='https://wandb.ai/fieng/embedding/runs/twcrmtc8' target=\"_blank\">https://wandb.ai/fieng/embedding/runs/twcrmtc8</a><br/> View project at: <a href='https://wandb.ai/fieng/embedding' target=\"_blank\">https://wandb.ai/fieng/embedding</a><br/>Synced 4 W&B file(s), 0 media file(s), 3 artifact file(s) and 0 other file(s)"
      ],
      "text/plain": [
       "<IPython.core.display.HTML object>"
      ]
     },
     "metadata": {},
     "output_type": "display_data"
    },
    {
     "data": {
      "text/html": [
       "Find logs at: <code>./wandb/run-20250416_212555-twcrmtc8/logs</code>"
      ],
      "text/plain": [
       "<IPython.core.display.HTML object>"
      ]
     },
     "metadata": {},
     "output_type": "display_data"
    }
   ],
   "source": [
    "import experiment.filtering as filtering\n",
    "\n",
    "filtred_df = filtering.create_filtred_df(df, evaluation_df, missing_df)"
   ]
  },
  {
   "cell_type": "code",
   "execution_count": 4,
   "metadata": {},
   "outputs": [],
   "source": [
    "filtred_df = filtred_df.merge(evaluation_df, how='left')\n",
    "true_cand_df = filtred_df[filtred_df['Missing'] == 1].sample(250)\n",
    "false_cand_df = filtred_df[filtred_df['Missing'] == 0].sample(250)\n",
    "filtred_df_sample = pd.concat([true_cand_df, false_cand_df])\n",
    "filtred_df_sample = filtred_df_sample.sample(frac=1)"
   ]
  },
  {
   "cell_type": "code",
   "execution_count": 5,
   "metadata": {},
   "outputs": [],
   "source": [
    "from langchain_community.document_loaders.csv_loader import CSVLoader\n",
    "from langchain_experimental.text_splitter import SemanticChunker\n",
    "from langchain.embeddings import HuggingFaceEmbeddings\n",
    "from langchain_community.embeddings import HuggingFaceEmbeddings\n",
    "from langchain_community.vectorstores import FAISS\n",
    "from langchain_community.llms import Ollama"
   ]
  },
  {
   "cell_type": "code",
   "execution_count": 6,
   "metadata": {},
   "outputs": [
    {
     "name": "stderr",
     "output_type": "stream",
     "text": [
      "/var/folders/_3/wtwzgv1d3rlfz233qkf36kg00000gp/T/ipykernel_74077/2656201252.py:3: LangChainDeprecationWarning: The class `HuggingFaceEmbeddings` was deprecated in LangChain 0.2.2 and will be removed in 1.0. An updated version of the class exists in the :class:`~langchain-huggingface package and should be used instead. To use it run `pip install -U :class:`~langchain-huggingface` and import as `from :class:`~langchain_huggingface import HuggingFaceEmbeddings``.\n",
      "  text_splitter = SemanticChunker(HuggingFaceEmbeddings())\n",
      "/var/folders/_3/wtwzgv1d3rlfz233qkf36kg00000gp/T/ipykernel_74077/2656201252.py:3: LangChainDeprecationWarning: Default values for HuggingFaceEmbeddings.model_name were deprecated in LangChain 0.2.16 and will be removed in 0.4.0. Explicitly pass a model_name to the HuggingFaceEmbeddings constructor instead.\n",
      "  text_splitter = SemanticChunker(HuggingFaceEmbeddings())\n",
      "/var/folders/_3/wtwzgv1d3rlfz233qkf36kg00000gp/T/ipykernel_74077/2656201252.py:6: LangChainDeprecationWarning: Default values for HuggingFaceEmbeddings.model_name were deprecated in LangChain 0.2.16 and will be removed in 0.4.0. Explicitly pass a model_name to the HuggingFaceEmbeddings constructor instead.\n",
      "  embedder = HuggingFaceEmbeddings()\n",
      "/var/folders/_3/wtwzgv1d3rlfz233qkf36kg00000gp/T/ipykernel_74077/2656201252.py:13: LangChainDeprecationWarning: The class `Ollama` was deprecated in LangChain 0.3.1 and will be removed in 1.0.0. An updated version of the class exists in the :class:`~langchain-ollama package and should be used instead. To use it run `pip install -U :class:`~langchain-ollama` and import as `from :class:`~langchain_ollama import OllamaLLM``.\n",
      "  llm = Ollama(model=\"mistral\", temperature=0.1)\n"
     ]
    }
   ],
   "source": [
    "loader = CSVLoader(file_path=path)\n",
    "docs = loader.load()\n",
    "text_splitter = SemanticChunker(HuggingFaceEmbeddings())\n",
    "documents = text_splitter.split_documents(docs)\n",
    "# Instantiate the embedding model\n",
    "embedder = HuggingFaceEmbeddings()\n",
    "# Create the vector store \n",
    "vector = FAISS.from_documents(documents, embedder)\n",
    "\n",
    "\n",
    "retriever = vector.as_retriever(search_type=\"similarity\", search_kwargs={\"k\": 2})\n",
    "# Define llm\n",
    "llm = Ollama(model=\"mistral\", temperature=0.1)"
   ]
  },
  {
   "cell_type": "code",
   "execution_count": 22,
   "metadata": {},
   "outputs": [
    {
     "data": {
      "text/plain": [
       "langchain_core.vectorstores.base.VectorStoreRetriever"
      ]
     },
     "execution_count": 22,
     "metadata": {},
     "output_type": "execute_result"
    }
   ],
   "source": [
    "type(retriever)"
   ]
  },
  {
   "cell_type": "code",
   "execution_count": 7,
   "metadata": {},
   "outputs": [],
   "source": [
    "from langchain.chains import RetrievalQA\n",
    "from langchain.chains.llm import LLMChain\n",
    "from langchain.chains.combine_documents.stuff import StuffDocumentsChain\n",
    "from langchain.prompts import PromptTemplate\n",
    "from langchain_core.prompts import ChatPromptTemplate"
   ]
  },
  {
   "cell_type": "markdown",
   "metadata": {},
   "source": [
    "## Evaluation method"
   ]
  },
  {
   "cell_type": "code",
   "execution_count": 8,
   "metadata": {},
   "outputs": [],
   "source": [
    "def triple2sentence(head,relation,tail):\n",
    "    template = \"\"\"\n",
    "    1. Your job is only to translate triple into sentence, no matter if it is correct or not\n",
    "    2. A triple is two entities (head and tail) linked by a relation\n",
    "    3. Transform the following triples into a sentence: 'head: {head}, relation: {relation}, tail: {tail}'\n",
    "    4. If the triple present incorrect fact, still translate this as it is\n",
    "    5. Do not make negative sentence \n",
    "    Answer: Give the sentence.\"\"\"\n",
    "\n",
    "    prompt = ChatPromptTemplate.from_template(template)\n",
    "    model = llm\n",
    "    chain = prompt | model\n",
    "\n",
    "    sentence = chain.invoke({\"head\": head,\n",
    "                \"relation\": relation,\n",
    "                'tail': tail}\n",
    "                )\n",
    "   \n",
    "    return sentence"
   ]
  },
  {
   "cell_type": "code",
   "execution_count": 9,
   "metadata": {},
   "outputs": [],
   "source": [
    "sentence_list = []\n",
    "for item in filtred_df_sample.iterrows():\n",
    "    triple = item[1]\n",
    "    head = triple['Head']\n",
    "    relation = triple['Relation']\n",
    "    tail = triple['Tail']\n",
    "    sentence = triple2sentence(head,relation,tail)\n",
    "    sentence_list.append(sentence)"
   ]
  },
  {
   "cell_type": "code",
   "execution_count": 10,
   "metadata": {},
   "outputs": [],
   "source": [
    "def eval_sentence(sentence):\n",
    "    template = \"\"\"\n",
    "    1. Evaluate if the sentence represent a correct fact or not.\\n\n",
    "    2. Is the triple correct: answer \"1\" if it is correct and \"0\" otherwise.\\n\n",
    "    3. If you don't know the answer, just say that \"-1\"\\n\n",
    "    4. Start the answer with 'Score:'\\n\n",
    "\n",
    "    Sentence: {sentence}\n",
    "\n",
    "    Helpful Answer:\"\"\"\n",
    "    prompt = ChatPromptTemplate.from_template(template)\n",
    "    model = llm\n",
    "    chain = prompt | model\n",
    "\n",
    "    answer = chain.invoke({\"sentence\":sentence})\n",
    "   \n",
    "    return answer"
   ]
  },
  {
   "cell_type": "code",
   "execution_count": 11,
   "metadata": {},
   "outputs": [],
   "source": [
    "score_list = []\n",
    "for sentence in sentence_list:\n",
    "    score = eval_sentence(sentence)\n",
    "    score_list.append(score)"
   ]
  },
  {
   "cell_type": "markdown",
   "metadata": {},
   "source": [
    "## Result"
   ]
  },
  {
   "cell_type": "code",
   "execution_count": 12,
   "metadata": {},
   "outputs": [],
   "source": [
    "def clean_score(list_score) -> list[float]:\n",
    "    list_score = [item.rstrip('.') if item.endswith('.') else item for item in list_score]\n",
    "    list_score = [0 if item == '' else item for item in list_score]\n",
    "    score_bin = [1 if item == '1'  else 0 for item in list_score]\n",
    "    return score_bin\n",
    "\n",
    "\n",
    "def extract_score(text:str)->str:\n",
    "    # Function to extract score\n",
    "    # Find the starting index of \"Score: \"\n",
    "    start_index = text.find(\"Score: \") + len(\"Score: \")\n",
    "\n",
    "    # Find the end of the number, which could be marked by a non-digit character\n",
    "    end_index = start_index\n",
    "    while end_index < len(text) and (text[end_index].isdigit() or text[end_index] == '.'):\n",
    "        end_index += 1\n",
    "\n",
    "    # Extract and return the number using slicing\n",
    "    return text[start_index:end_index]"
   ]
  },
  {
   "cell_type": "code",
   "execution_count": 13,
   "metadata": {},
   "outputs": [],
   "source": [
    "new_score_list = [extract_score(score) for score in score_list]\n",
    "new_score_list = clean_score(new_score_list)"
   ]
  },
  {
   "cell_type": "code",
   "execution_count": 14,
   "metadata": {},
   "outputs": [],
   "source": [
    "filtred_df_sample['Pred'] = new_score_list"
   ]
  },
  {
   "cell_type": "code",
   "execution_count": 15,
   "metadata": {},
   "outputs": [],
   "source": [
    "import matplotlib.pyplot as plt\n",
    "import seaborn as sns\n",
    "from sklearn.metrics import confusion_matrix\n",
    "\n",
    "def compute_score(prediction, ground_truth):\n",
    "    cm = confusion_matrix(ground_truth, prediction)\n",
    "    TN = cm[0][0]\n",
    "    FN = cm[1][0]\n",
    "    TP = cm[1][1]\n",
    "    FP = cm[0][1]\n",
    "    accuracy = (TN + TP) / (TN + TP + FN + FP)\n",
    "    f1_score = (2 * TP) / (2 * TP + FP + FN)\n",
    "    recall = TP / (TP + FN)\n",
    "    precision = TP / (TP + FP)\n",
    "    return accuracy, f1_score, recall, precision"
   ]
  },
  {
   "cell_type": "code",
   "execution_count": 16,
   "metadata": {},
   "outputs": [
    {
     "data": {
      "image/png": "[encoded data removed]",
      "text/plain": [
       "<Figure size 640x480 with 1 Axes>"
      ]
     },
     "metadata": {},
     "output_type": "display_data"
    }
   ],
   "source": [
    "import matplotlib\n",
    "import matplotlib.pyplot as plt\n",
    "import numpy as np \n",
    "\n",
    "ground_truth = filtred_df_sample['Missing']\n",
    "prediction = filtred_df_sample['Pred']\n",
    "accuracy, f1_score, recall, precision = compute_score(prediction, ground_truth)\n",
    "scores = [accuracy, f1_score, recall, precision]\n",
    "colors = ['#377eb8', '#ff7f00', '#4daf4a',\n",
    "                  '#f781bf', '#a65628', '#984ea3',\n",
    "                  '#999999', '#e41a1c', '#dede00']\n",
    "labels = ['Accuracy', 'F1 Score', 'Recall', 'Precision']\n",
    "# setup family font\n",
    "plt.rc('font', family='serif',size=17)\n",
    "fig, ax = plt.subplots()\n",
    "bars = ax.bar(labels, scores , label=labels, color=colors[:4])\n",
    "# Set y-limit to center data\n",
    "ax.set_ylim(0.4,1)\n",
    "\n",
    "# Add legend with title\n",
    "#ax.legend(title='Different methods', fontsize = 15, loc=2)\n",
    "# Add gridlines (only on the y-axis)\n",
    "ax.grid(linewidth=1.2, linestyle='--', axis='y', color='grey')\n",
    "ax.set_title('Score on CoDeX dataset(sentence no cont)')\n",
    "ax.bar_label(bars)\n",
    "#plt.show()\n",
    "plt.savefig('results/codex_m_sent_no_context.png')"
   ]
  },
  {
   "cell_type": "code",
   "execution_count": 24,
   "metadata": {},
   "outputs": [
    {
     "name": "stdout",
     "output_type": "stream",
     "text": [
      "Accuracy 0.77\n",
      "Precision:0.79\n",
      "Recall:0.72\n",
      "F1:0.75\n"
     ]
    }
   ],
   "source": [
    "print(f'Accuracy {accuracy:.2f}\\nPrecision:{precision:.2f}\\nRecall:{recall:.2f}\\nF1:{f1_score:.2f}')"
   ]
  },
  {
   "cell_type": "code",
   "execution_count": 18,
   "metadata": {},
   "outputs": [],
   "source": [
    "sentence_df = filtred_df_sample.copy()"
   ]
  },
  {
   "cell_type": "code",
   "execution_count": 19,
   "metadata": {},
   "outputs": [],
   "source": [
    "sentence_df['sentence'] = sentence_list"
   ]
  },
  {
   "cell_type": "code",
   "execution_count": 20,
   "metadata": {},
   "outputs": [],
   "source": [
    "sentence_df.to_csv('sentence_to_eval.csv')"
   ]
  },
  {
   "cell_type": "code",
   "execution_count": null,
   "metadata": {},
   "outputs": [],
   "source": []
  }
 ],
 "metadata": {
  "kernelspec": {
   "display_name": "langchain-env",
   "language": "python",
   "name": "python3"
  },
  "language_info": {
   "codemirror_mode": {
    "name": "ipython",
    "version": 3
   },
   "file_extension": ".py",
   "mimetype": "text/x-python",
   "name": "python",
   "nbconvert_exporter": "python",
   "pygments_lexer": "ipython3",
   "version": "3.10.12"
  }
 },
 "nbformat": 4,
 "nbformat_minor": 2
}
