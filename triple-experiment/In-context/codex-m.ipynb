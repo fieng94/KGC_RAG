{
 "cells": [
  {
   "cell_type": "code",
   "execution_count": 8,
   "metadata": {},
   "outputs": [],
   "source": [
    "%cd ../..\n",
    "## DATA PREPARATION\n",
    "import experiment.preprocess as preprocess\n",
    "import experiment.filtering as filtering\n",
    "import experiment.prep_llm as prep_llm\n",
    "from candidates_generation import triple_gen\n",
    "import importlib\n",
    "import numpy as np\n",
    "import pandas as pd"
   ]
  },
  {
   "cell_type": "code",
   "execution_count": 3,
   "metadata": {},
   "outputs": [
    {
     "name": "stderr",
     "output_type": "stream",
     "text": [
      "/Users/fieng/Project/KGC_RAG/experiment/preprocess.py:29: SettingWithCopyWarning: \n",
      "A value is trying to be set on a copy of a slice from a DataFrame.\n",
      "Try using .loc[row_indexer,col_indexer] = value instead\n",
      "\n",
      "See the caveats in the documentation: https://pandas.pydata.org/pandas-docs/stable/user_guide/indexing.html#returning-a-view-versus-a-copy\n",
      "  true_cand_df['Missing'] = 1\n",
      "/Users/fieng/Project/KGC_RAG/experiment/preprocess.py:30: SettingWithCopyWarning: \n",
      "A value is trying to be set on a copy of a slice from a DataFrame.\n",
      "Try using .loc[row_indexer,col_indexer] = value instead\n",
      "\n",
      "See the caveats in the documentation: https://pandas.pydata.org/pandas-docs/stable/user_guide/indexing.html#returning-a-view-versus-a-copy\n",
      "  false_cand_df['Missing'] = 0\n",
      "\u001b[34m\u001b[1mwandb\u001b[0m: Using wandb-core as the SDK backend.  Please refer to https://wandb.me/wandb-core for more information.\n",
      "\u001b[34m\u001b[1mwandb\u001b[0m: Currently logged in as: \u001b[33mfieng\u001b[0m. Use \u001b[1m`wandb login --relogin`\u001b[0m to force relogin\n"
     ]
    },
    {
     "data": {
      "text/html": [
       "Tracking run with wandb version 0.18.7"
      ],
      "text/plain": [
       "<IPython.core.display.HTML object>"
      ]
     },
     "metadata": {},
     "output_type": "display_data"
    },
    {
     "data": {
      "text/html": [
       "Run data is saved locally in <code>/Users/fieng/Project/KGC_RAG/wandb/run-20250423_033620-mng2v0ha</code>"
      ],
      "text/plain": [
       "<IPython.core.display.HTML object>"
      ]
     },
     "metadata": {},
     "output_type": "display_data"
    },
    {
     "data": {
      "text/html": [
       "Syncing run <strong><a href='https://wandb.ai/fieng/embedding/runs/mng2v0ha' target=\"_blank\">fine-voice-65</a></strong> to <a href='https://wandb.ai/fieng/embedding' target=\"_blank\">Weights & Biases</a> (<a href='https://wandb.me/developer-guide' target=\"_blank\">docs</a>)<br/>"
      ],
      "text/plain": [
       "<IPython.core.display.HTML object>"
      ]
     },
     "metadata": {},
     "output_type": "display_data"
    },
    {
     "data": {
      "text/html": [
       " View project at <a href='https://wandb.ai/fieng/embedding' target=\"_blank\">https://wandb.ai/fieng/embedding</a>"
      ],
      "text/plain": [
       "<IPython.core.display.HTML object>"
      ]
     },
     "metadata": {},
     "output_type": "display_data"
    },
    {
     "data": {
      "text/html": [
       " View run at <a href='https://wandb.ai/fieng/embedding/runs/mng2v0ha' target=\"_blank\">https://wandb.ai/fieng/embedding/runs/mng2v0ha</a>"
      ],
      "text/plain": [
       "<IPython.core.display.HTML object>"
      ]
     },
     "metadata": {},
     "output_type": "display_data"
    },
    {
     "name": "stderr",
     "output_type": "stream",
     "text": [
      "No cuda devices were available. The model runs on CPU\n",
      "Training epochs on cpu: 100%|██████████| 50/50 [00:38<00:00,  1.30epoch/s, loss=0.456, prev_loss=0.457]\n",
      "WARNING:pykeen.utils:Using automatic batch size on device.type='cpu' can cause unexplained out-of-memory crashes. Therefore, we use a conservative small batch_size=32. Performance may be improved by explicitly specifying a larger batch size.\n",
      "Evaluating on cpu:   0%|          | 0.00/50.0 [00:00<?, ?triple/s]WARNING:torch_max_mem.api:Encountered tensors on device_types={'cpu'} while only ['cuda'] are considered safe for automatic memory utilization maximization. This may lead to undocumented crashes (but can be safe, too).\n",
      "Evaluating on cpu: 100%|██████████| 50.0/50.0 [00:00<00:00, 124triple/s]\n",
      "INFO:pykeen.evaluation.evaluator:Evaluation took 0.58s seconds\n"
     ]
    },
    {
     "data": {
      "text/html": [
       "\n",
       "    <style>\n",
       "        .wandb-row {\n",
       "            display: flex;\n",
       "            flex-direction: row;\n",
       "            flex-wrap: wrap;\n",
       "            justify-content: flex-start;\n",
       "            width: 100%;\n",
       "        }\n",
       "        .wandb-col {\n",
       "            display: flex;\n",
       "            flex-direction: column;\n",
       "            flex-basis: 100%;\n",
       "            flex: 1;\n",
       "            padding: 10px;\n",
       "        }\n",
       "    </style>\n",
       "<div class=\"wandb-row\"><div class=\"wandb-col\"><h3>Run history:</h3><br/><table class=\"wandb\"><tr><td>loss</td><td>█▄▂▂▁▂▁▁▁▁▁▁▁▁▁▁▁▁▁▁▁▁▁▁▁▁▁▁▁▁▁▁▁▁▁▁▁▁▁▁</td></tr><tr><td>testing.both.optimistic.adjusted_arithmetic_mean_rank</td><td>▁</td></tr><tr><td>testing.both.optimistic.adjusted_arithmetic_mean_rank_index</td><td>▁</td></tr><tr><td>testing.both.optimistic.adjusted_geometric_mean_rank_index</td><td>▁</td></tr><tr><td>testing.both.optimistic.adjusted_hits_at_k</td><td>▁</td></tr><tr><td>testing.both.optimistic.adjusted_inverse_harmonic_mean_rank</td><td>▁</td></tr><tr><td>testing.both.optimistic.arithmetic_mean_rank</td><td>▁</td></tr><tr><td>testing.both.optimistic.count</td><td>▁</td></tr><tr><td>testing.both.optimistic.geometric_mean_rank</td><td>▁</td></tr><tr><td>testing.both.optimistic.harmonic_mean_rank</td><td>▁</td></tr><tr><td>testing.both.optimistic.hits_at_1</td><td>▁</td></tr><tr><td>testing.both.optimistic.hits_at_10</td><td>▁</td></tr><tr><td>testing.both.optimistic.hits_at_3</td><td>▁</td></tr><tr><td>testing.both.optimistic.hits_at_5</td><td>▁</td></tr><tr><td>testing.both.optimistic.inverse_arithmetic_mean_rank</td><td>▁</td></tr><tr><td>testing.both.optimistic.inverse_geometric_mean_rank</td><td>▁</td></tr><tr><td>testing.both.optimistic.inverse_harmonic_mean_rank</td><td>▁</td></tr><tr><td>testing.both.optimistic.inverse_median_rank</td><td>▁</td></tr><tr><td>testing.both.optimistic.median_absolute_deviation</td><td>▁</td></tr><tr><td>testing.both.optimistic.median_rank</td><td>▁</td></tr><tr><td>testing.both.optimistic.standard_deviation</td><td>▁</td></tr><tr><td>testing.both.optimistic.variance</td><td>▁</td></tr><tr><td>testing.both.optimistic.z_arithmetic_mean_rank</td><td>▁</td></tr><tr><td>testing.both.optimistic.z_geometric_mean_rank</td><td>▁</td></tr><tr><td>testing.both.optimistic.z_hits_at_k</td><td>▁</td></tr><tr><td>testing.both.optimistic.z_inverse_harmonic_mean_rank</td><td>▁</td></tr><tr><td>testing.both.pessimistic.adjusted_arithmetic_mean_rank</td><td>▁</td></tr><tr><td>testing.both.pessimistic.adjusted_arithmetic_mean_rank_index</td><td>▁</td></tr><tr><td>testing.both.pessimistic.adjusted_geometric_mean_rank_index</td><td>▁</td></tr><tr><td>testing.both.pessimistic.adjusted_hits_at_k</td><td>▁</td></tr><tr><td>testing.both.pessimistic.adjusted_inverse_harmonic_mean_rank</td><td>▁</td></tr><tr><td>testing.both.pessimistic.arithmetic_mean_rank</td><td>▁</td></tr><tr><td>testing.both.pessimistic.count</td><td>▁</td></tr><tr><td>testing.both.pessimistic.geometric_mean_rank</td><td>▁</td></tr><tr><td>testing.both.pessimistic.harmonic_mean_rank</td><td>▁</td></tr><tr><td>testing.both.pessimistic.hits_at_1</td><td>▁</td></tr><tr><td>testing.both.pessimistic.hits_at_10</td><td>▁</td></tr><tr><td>testing.both.pessimistic.hits_at_3</td><td>▁</td></tr><tr><td>testing.both.pessimistic.hits_at_5</td><td>▁</td></tr><tr><td>testing.both.pessimistic.inverse_arithmetic_mean_rank</td><td>▁</td></tr><tr><td>testing.both.pessimistic.inverse_geometric_mean_rank</td><td>▁</td></tr><tr><td>testing.both.pessimistic.inverse_harmonic_mean_rank</td><td>▁</td></tr><tr><td>testing.both.pessimistic.inverse_median_rank</td><td>▁</td></tr><tr><td>testing.both.pessimistic.median_absolute_deviation</td><td>▁</td></tr><tr><td>testing.both.pessimistic.median_rank</td><td>▁</td></tr><tr><td>testing.both.pessimistic.standard_deviation</td><td>▁</td></tr><tr><td>testing.both.pessimistic.variance</td><td>▁</td></tr><tr><td>testing.both.pessimistic.z_arithmetic_mean_rank</td><td>▁</td></tr><tr><td>testing.both.pessimistic.z_geometric_mean_rank</td><td>▁</td></tr><tr><td>testing.both.pessimistic.z_hits_at_k</td><td>▁</td></tr><tr><td>testing.both.pessimistic.z_inverse_harmonic_mean_rank</td><td>▁</td></tr><tr><td>testing.both.realistic.adjusted_arithmetic_mean_rank</td><td>▁</td></tr><tr><td>testing.both.realistic.adjusted_arithmetic_mean_rank_index</td><td>▁</td></tr><tr><td>testing.both.realistic.adjusted_geometric_mean_rank_index</td><td>▁</td></tr><tr><td>testing.both.realistic.adjusted_hits_at_k</td><td>▁</td></tr><tr><td>testing.both.realistic.adjusted_inverse_harmonic_mean_rank</td><td>▁</td></tr><tr><td>testing.both.realistic.arithmetic_mean_rank</td><td>▁</td></tr><tr><td>testing.both.realistic.count</td><td>▁</td></tr><tr><td>testing.both.realistic.geometric_mean_rank</td><td>▁</td></tr><tr><td>testing.both.realistic.harmonic_mean_rank</td><td>▁</td></tr><tr><td>testing.both.realistic.hits_at_1</td><td>▁</td></tr><tr><td>testing.both.realistic.hits_at_10</td><td>▁</td></tr><tr><td>testing.both.realistic.hits_at_3</td><td>▁</td></tr><tr><td>testing.both.realistic.hits_at_5</td><td>▁</td></tr><tr><td>testing.both.realistic.inverse_arithmetic_mean_rank</td><td>▁</td></tr><tr><td>testing.both.realistic.inverse_geometric_mean_rank</td><td>▁</td></tr><tr><td>testing.both.realistic.inverse_harmonic_mean_rank</td><td>▁</td></tr><tr><td>testing.both.realistic.inverse_median_rank</td><td>▁</td></tr><tr><td>testing.both.realistic.median_absolute_deviation</td><td>▁</td></tr><tr><td>testing.both.realistic.median_rank</td><td>▁</td></tr><tr><td>testing.both.realistic.standard_deviation</td><td>▁</td></tr><tr><td>testing.both.realistic.variance</td><td>▁</td></tr><tr><td>testing.both.realistic.z_arithmetic_mean_rank</td><td>▁</td></tr><tr><td>testing.both.realistic.z_geometric_mean_rank</td><td>▁</td></tr><tr><td>testing.both.realistic.z_hits_at_k</td><td>▁</td></tr><tr><td>testing.both.realistic.z_inverse_harmonic_mean_rank</td><td>▁</td></tr><tr><td>testing.head.optimistic.adjusted_arithmetic_mean_rank</td><td>▁</td></tr><tr><td>testing.head.optimistic.adjusted_arithmetic_mean_rank_index</td><td>▁</td></tr><tr><td>testing.head.optimistic.adjusted_geometric_mean_rank_index</td><td>▁</td></tr><tr><td>testing.head.optimistic.adjusted_hits_at_k</td><td>▁</td></tr><tr><td>testing.head.optimistic.adjusted_inverse_harmonic_mean_rank</td><td>▁</td></tr><tr><td>testing.head.optimistic.arithmetic_mean_rank</td><td>▁</td></tr><tr><td>testing.head.optimistic.count</td><td>▁</td></tr><tr><td>testing.head.optimistic.geometric_mean_rank</td><td>▁</td></tr><tr><td>testing.head.optimistic.harmonic_mean_rank</td><td>▁</td></tr><tr><td>testing.head.optimistic.hits_at_1</td><td>▁</td></tr><tr><td>testing.head.optimistic.hits_at_10</td><td>▁</td></tr><tr><td>testing.head.optimistic.hits_at_3</td><td>▁</td></tr><tr><td>testing.head.optimistic.hits_at_5</td><td>▁</td></tr><tr><td>testing.head.optimistic.inverse_arithmetic_mean_rank</td><td>▁</td></tr><tr><td>testing.head.optimistic.inverse_geometric_mean_rank</td><td>▁</td></tr><tr><td>testing.head.optimistic.inverse_harmonic_mean_rank</td><td>▁</td></tr><tr><td>testing.head.optimistic.inverse_median_rank</td><td>▁</td></tr><tr><td>testing.head.optimistic.median_absolute_deviation</td><td>▁</td></tr><tr><td>testing.head.optimistic.median_rank</td><td>▁</td></tr><tr><td>testing.head.optimistic.standard_deviation</td><td>▁</td></tr><tr><td>testing.head.optimistic.variance</td><td>▁</td></tr><tr><td>testing.head.optimistic.z_arithmetic_mean_rank</td><td>▁</td></tr><tr><td>testing.head.optimistic.z_geometric_mean_rank</td><td>▁</td></tr><tr><td>testing.head.optimistic.z_hits_at_k</td><td>▁</td></tr><tr><td>testing.head.optimistic.z_inverse_harmonic_mean_rank</td><td>▁</td></tr><tr><td>testing.head.pessimistic.adjusted_arithmetic_mean_rank</td><td>▁</td></tr><tr><td>testing.head.pessimistic.adjusted_arithmetic_mean_rank_index</td><td>▁</td></tr><tr><td>testing.head.pessimistic.adjusted_geometric_mean_rank_index</td><td>▁</td></tr><tr><td>testing.head.pessimistic.adjusted_hits_at_k</td><td>▁</td></tr><tr><td>testing.head.pessimistic.adjusted_inverse_harmonic_mean_rank</td><td>▁</td></tr><tr><td>testing.head.pessimistic.arithmetic_mean_rank</td><td>▁</td></tr><tr><td>testing.head.pessimistic.count</td><td>▁</td></tr><tr><td>testing.head.pessimistic.geometric_mean_rank</td><td>▁</td></tr><tr><td>testing.head.pessimistic.harmonic_mean_rank</td><td>▁</td></tr><tr><td>testing.head.pessimistic.hits_at_1</td><td>▁</td></tr><tr><td>testing.head.pessimistic.hits_at_10</td><td>▁</td></tr><tr><td>testing.head.pessimistic.hits_at_3</td><td>▁</td></tr><tr><td>testing.head.pessimistic.hits_at_5</td><td>▁</td></tr><tr><td>testing.head.pessimistic.inverse_arithmetic_mean_rank</td><td>▁</td></tr><tr><td>testing.head.pessimistic.inverse_geometric_mean_rank</td><td>▁</td></tr><tr><td>testing.head.pessimistic.inverse_harmonic_mean_rank</td><td>▁</td></tr><tr><td>testing.head.pessimistic.inverse_median_rank</td><td>▁</td></tr><tr><td>testing.head.pessimistic.median_absolute_deviation</td><td>▁</td></tr><tr><td>testing.head.pessimistic.median_rank</td><td>▁</td></tr><tr><td>testing.head.pessimistic.standard_deviation</td><td>▁</td></tr><tr><td>testing.head.pessimistic.variance</td><td>▁</td></tr><tr><td>testing.head.pessimistic.z_arithmetic_mean_rank</td><td>▁</td></tr><tr><td>testing.head.pessimistic.z_geometric_mean_rank</td><td>▁</td></tr><tr><td>testing.head.pessimistic.z_hits_at_k</td><td>▁</td></tr><tr><td>testing.head.pessimistic.z_inverse_harmonic_mean_rank</td><td>▁</td></tr><tr><td>testing.head.realistic.adjusted_arithmetic_mean_rank</td><td>▁</td></tr><tr><td>testing.head.realistic.adjusted_arithmetic_mean_rank_index</td><td>▁</td></tr><tr><td>testing.head.realistic.adjusted_geometric_mean_rank_index</td><td>▁</td></tr><tr><td>testing.head.realistic.adjusted_hits_at_k</td><td>▁</td></tr><tr><td>testing.head.realistic.adjusted_inverse_harmonic_mean_rank</td><td>▁</td></tr><tr><td>testing.head.realistic.arithmetic_mean_rank</td><td>▁</td></tr><tr><td>testing.head.realistic.count</td><td>▁</td></tr><tr><td>testing.head.realistic.geometric_mean_rank</td><td>▁</td></tr><tr><td>testing.head.realistic.harmonic_mean_rank</td><td>▁</td></tr><tr><td>testing.head.realistic.hits_at_1</td><td>▁</td></tr><tr><td>testing.head.realistic.hits_at_10</td><td>▁</td></tr><tr><td>testing.head.realistic.hits_at_3</td><td>▁</td></tr><tr><td>testing.head.realistic.hits_at_5</td><td>▁</td></tr><tr><td>testing.head.realistic.inverse_arithmetic_mean_rank</td><td>▁</td></tr><tr><td>testing.head.realistic.inverse_geometric_mean_rank</td><td>▁</td></tr><tr><td>testing.head.realistic.inverse_harmonic_mean_rank</td><td>▁</td></tr><tr><td>testing.head.realistic.inverse_median_rank</td><td>▁</td></tr><tr><td>testing.head.realistic.median_absolute_deviation</td><td>▁</td></tr><tr><td>testing.head.realistic.median_rank</td><td>▁</td></tr><tr><td>testing.head.realistic.standard_deviation</td><td>▁</td></tr><tr><td>testing.head.realistic.variance</td><td>▁</td></tr><tr><td>testing.head.realistic.z_arithmetic_mean_rank</td><td>▁</td></tr><tr><td>testing.head.realistic.z_geometric_mean_rank</td><td>▁</td></tr><tr><td>testing.head.realistic.z_hits_at_k</td><td>▁</td></tr><tr><td>testing.head.realistic.z_inverse_harmonic_mean_rank</td><td>▁</td></tr><tr><td>testing.tail.optimistic.adjusted_arithmetic_mean_rank</td><td>▁</td></tr><tr><td>testing.tail.optimistic.adjusted_arithmetic_mean_rank_index</td><td>▁</td></tr><tr><td>testing.tail.optimistic.adjusted_geometric_mean_rank_index</td><td>▁</td></tr><tr><td>testing.tail.optimistic.adjusted_hits_at_k</td><td>▁</td></tr><tr><td>testing.tail.optimistic.adjusted_inverse_harmonic_mean_rank</td><td>▁</td></tr><tr><td>testing.tail.optimistic.arithmetic_mean_rank</td><td>▁</td></tr><tr><td>testing.tail.optimistic.count</td><td>▁</td></tr><tr><td>testing.tail.optimistic.geometric_mean_rank</td><td>▁</td></tr><tr><td>testing.tail.optimistic.harmonic_mean_rank</td><td>▁</td></tr><tr><td>testing.tail.optimistic.hits_at_1</td><td>▁</td></tr><tr><td>testing.tail.optimistic.hits_at_10</td><td>▁</td></tr><tr><td>testing.tail.optimistic.hits_at_3</td><td>▁</td></tr><tr><td>testing.tail.optimistic.hits_at_5</td><td>▁</td></tr><tr><td>testing.tail.optimistic.inverse_arithmetic_mean_rank</td><td>▁</td></tr><tr><td>testing.tail.optimistic.inverse_geometric_mean_rank</td><td>▁</td></tr><tr><td>testing.tail.optimistic.inverse_harmonic_mean_rank</td><td>▁</td></tr><tr><td>testing.tail.optimistic.inverse_median_rank</td><td>▁</td></tr><tr><td>testing.tail.optimistic.median_absolute_deviation</td><td>▁</td></tr><tr><td>testing.tail.optimistic.median_rank</td><td>▁</td></tr><tr><td>testing.tail.optimistic.standard_deviation</td><td>▁</td></tr><tr><td>testing.tail.optimistic.variance</td><td>▁</td></tr><tr><td>testing.tail.optimistic.z_arithmetic_mean_rank</td><td>▁</td></tr><tr><td>testing.tail.optimistic.z_geometric_mean_rank</td><td>▁</td></tr><tr><td>testing.tail.optimistic.z_hits_at_k</td><td>▁</td></tr><tr><td>testing.tail.optimistic.z_inverse_harmonic_mean_rank</td><td>▁</td></tr><tr><td>testing.tail.pessimistic.adjusted_arithmetic_mean_rank</td><td>▁</td></tr><tr><td>testing.tail.pessimistic.adjusted_arithmetic_mean_rank_index</td><td>▁</td></tr><tr><td>testing.tail.pessimistic.adjusted_geometric_mean_rank_index</td><td>▁</td></tr><tr><td>testing.tail.pessimistic.adjusted_hits_at_k</td><td>▁</td></tr><tr><td>testing.tail.pessimistic.adjusted_inverse_harmonic_mean_rank</td><td>▁</td></tr><tr><td>testing.tail.pessimistic.arithmetic_mean_rank</td><td>▁</td></tr><tr><td>testing.tail.pessimistic.count</td><td>▁</td></tr><tr><td>testing.tail.pessimistic.geometric_mean_rank</td><td>▁</td></tr><tr><td>testing.tail.pessimistic.harmonic_mean_rank</td><td>▁</td></tr><tr><td>testing.tail.pessimistic.hits_at_1</td><td>▁</td></tr><tr><td>testing.tail.pessimistic.hits_at_10</td><td>▁</td></tr><tr><td>testing.tail.pessimistic.hits_at_3</td><td>▁</td></tr><tr><td>testing.tail.pessimistic.hits_at_5</td><td>▁</td></tr><tr><td>testing.tail.pessimistic.inverse_arithmetic_mean_rank</td><td>▁</td></tr><tr><td>testing.tail.pessimistic.inverse_geometric_mean_rank</td><td>▁</td></tr><tr><td>testing.tail.pessimistic.inverse_harmonic_mean_rank</td><td>▁</td></tr><tr><td>testing.tail.pessimistic.inverse_median_rank</td><td>▁</td></tr><tr><td>testing.tail.pessimistic.median_absolute_deviation</td><td>▁</td></tr><tr><td>testing.tail.pessimistic.median_rank</td><td>▁</td></tr><tr><td>testing.tail.pessimistic.standard_deviation</td><td>▁</td></tr><tr><td>testing.tail.pessimistic.variance</td><td>▁</td></tr><tr><td>testing.tail.pessimistic.z_arithmetic_mean_rank</td><td>▁</td></tr><tr><td>testing.tail.pessimistic.z_geometric_mean_rank</td><td>▁</td></tr><tr><td>testing.tail.pessimistic.z_hits_at_k</td><td>▁</td></tr><tr><td>testing.tail.pessimistic.z_inverse_harmonic_mean_rank</td><td>▁</td></tr><tr><td>testing.tail.realistic.adjusted_arithmetic_mean_rank</td><td>▁</td></tr><tr><td>testing.tail.realistic.adjusted_arithmetic_mean_rank_index</td><td>▁</td></tr><tr><td>testing.tail.realistic.adjusted_geometric_mean_rank_index</td><td>▁</td></tr><tr><td>testing.tail.realistic.adjusted_hits_at_k</td><td>▁</td></tr><tr><td>testing.tail.realistic.adjusted_inverse_harmonic_mean_rank</td><td>▁</td></tr><tr><td>testing.tail.realistic.arithmetic_mean_rank</td><td>▁</td></tr><tr><td>testing.tail.realistic.count</td><td>▁</td></tr><tr><td>testing.tail.realistic.geometric_mean_rank</td><td>▁</td></tr><tr><td>testing.tail.realistic.harmonic_mean_rank</td><td>▁</td></tr><tr><td>testing.tail.realistic.hits_at_1</td><td>▁</td></tr><tr><td>testing.tail.realistic.hits_at_10</td><td>▁</td></tr><tr><td>testing.tail.realistic.hits_at_3</td><td>▁</td></tr><tr><td>testing.tail.realistic.hits_at_5</td><td>▁</td></tr><tr><td>testing.tail.realistic.inverse_arithmetic_mean_rank</td><td>▁</td></tr><tr><td>testing.tail.realistic.inverse_geometric_mean_rank</td><td>▁</td></tr><tr><td>testing.tail.realistic.inverse_harmonic_mean_rank</td><td>▁</td></tr><tr><td>testing.tail.realistic.inverse_median_rank</td><td>▁</td></tr><tr><td>testing.tail.realistic.median_absolute_deviation</td><td>▁</td></tr><tr><td>testing.tail.realistic.median_rank</td><td>▁</td></tr><tr><td>testing.tail.realistic.standard_deviation</td><td>▁</td></tr><tr><td>testing.tail.realistic.variance</td><td>▁</td></tr><tr><td>testing.tail.realistic.z_arithmetic_mean_rank</td><td>▁</td></tr><tr><td>testing.tail.realistic.z_geometric_mean_rank</td><td>▁</td></tr><tr><td>testing.tail.realistic.z_hits_at_k</td><td>▁</td></tr><tr><td>testing.tail.realistic.z_inverse_harmonic_mean_rank</td><td>▁</td></tr><tr><td>times.final_evaluation</td><td>▁</td></tr><tr><td>times.total_training</td><td>▁</td></tr></table><br/></div><div class=\"wandb-col\"><h3>Run summary:</h3><br/><table class=\"wandb\"><tr><td>loss</td><td>0.45589</td></tr><tr><td>testing.both.optimistic.adjusted_arithmetic_mean_rank</td><td>0.93842</td></tr><tr><td>testing.both.optimistic.adjusted_arithmetic_mean_rank_index</td><td>0.06159</td></tr><tr><td>testing.both.optimistic.adjusted_geometric_mean_rank_index</td><td>0.23047</td></tr><tr><td>testing.both.optimistic.adjusted_hits_at_k</td><td>-0.0006</td></tr><tr><td>testing.both.optimistic.adjusted_inverse_harmonic_mean_rank</td><td>0.00028</td></tr><tr><td>testing.both.optimistic.arithmetic_mean_rank</td><td>7863.83</td></tr><tr><td>testing.both.optimistic.count</td><td>100</td></tr><tr><td>testing.both.optimistic.geometric_mean_rank</td><td>4769.74224</td></tr><tr><td>testing.both.optimistic.harmonic_mean_rank</td><td>1113.66759</td></tr><tr><td>testing.both.optimistic.hits_at_1</td><td>0</td></tr><tr><td>testing.both.optimistic.hits_at_10</td><td>0</td></tr><tr><td>testing.both.optimistic.hits_at_3</td><td>0</td></tr><tr><td>testing.both.optimistic.hits_at_5</td><td>0</td></tr><tr><td>testing.both.optimistic.inverse_arithmetic_mean_rank</td><td>0.00013</td></tr><tr><td>testing.both.optimistic.inverse_geometric_mean_rank</td><td>0.00021</td></tr><tr><td>testing.both.optimistic.inverse_harmonic_mean_rank</td><td>0.0009</td></tr><tr><td>testing.both.optimistic.inverse_median_rank</td><td>0.00015</td></tr><tr><td>testing.both.optimistic.median_absolute_deviation</td><td>7204.70548</td></tr><tr><td>testing.both.optimistic.median_rank</td><td>6537.5</td></tr><tr><td>testing.both.optimistic.standard_deviation</td><td>5448.40343</td></tr><tr><td>testing.both.optimistic.variance</td><td>29685099.9811</td></tr><tr><td>testing.both.optimistic.z_arithmetic_mean_rank</td><td>1.06668</td></tr><tr><td>testing.both.optimistic.z_geometric_mean_rank</td><td>2.32515</td></tr><tr><td>testing.both.optimistic.z_hits_at_k</td><td>-0.24435</td></tr><tr><td>testing.both.optimistic.z_inverse_harmonic_mean_rank</td><td>0.2863</td></tr><tr><td>testing.both.pessimistic.adjusted_arithmetic_mean_rank</td><td>0.93842</td></tr><tr><td>testing.both.pessimistic.adjusted_arithmetic_mean_rank_index</td><td>0.06159</td></tr><tr><td>testing.both.pessimistic.adjusted_geometric_mean_rank_index</td><td>0.23046</td></tr><tr><td>testing.both.pessimistic.adjusted_hits_at_k</td><td>-0.0006</td></tr><tr><td>testing.both.pessimistic.adjusted_inverse_harmonic_mean_rank</td><td>0.00028</td></tr><tr><td>testing.both.pessimistic.arithmetic_mean_rank</td><td>7863.85</td></tr><tr><td>testing.both.pessimistic.count</td><td>100</td></tr><tr><td>testing.both.pessimistic.geometric_mean_rank</td><td>4769.75721</td></tr><tr><td>testing.both.pessimistic.harmonic_mean_rank</td><td>1113.66821</td></tr><tr><td>testing.both.pessimistic.hits_at_1</td><td>0</td></tr><tr><td>testing.both.pessimistic.hits_at_10</td><td>0</td></tr><tr><td>testing.both.pessimistic.hits_at_3</td><td>0</td></tr><tr><td>testing.both.pessimistic.hits_at_5</td><td>0</td></tr><tr><td>testing.both.pessimistic.inverse_arithmetic_mean_rank</td><td>0.00013</td></tr><tr><td>testing.both.pessimistic.inverse_geometric_mean_rank</td><td>0.00021</td></tr><tr><td>testing.both.pessimistic.inverse_harmonic_mean_rank</td><td>0.0009</td></tr><tr><td>testing.both.pessimistic.inverse_median_rank</td><td>0.00015</td></tr><tr><td>testing.both.pessimistic.median_absolute_deviation</td><td>7204.70548</td></tr><tr><td>testing.both.pessimistic.median_rank</td><td>6537.5</td></tr><tr><td>testing.both.pessimistic.standard_deviation</td><td>5448.3982</td></tr><tr><td>testing.both.pessimistic.variance</td><td>29685042.9275</td></tr><tr><td>testing.both.pessimistic.z_arithmetic_mean_rank</td><td>1.06663</td></tr><tr><td>testing.both.pessimistic.z_geometric_mean_rank</td><td>2.32513</td></tr><tr><td>testing.both.pessimistic.z_hits_at_k</td><td>-0.24435</td></tr><tr><td>testing.both.pessimistic.z_inverse_harmonic_mean_rank</td><td>0.2863</td></tr><tr><td>testing.both.realistic.adjusted_arithmetic_mean_rank</td><td>0.93842</td></tr><tr><td>testing.both.realistic.adjusted_arithmetic_mean_rank_index</td><td>0.06159</td></tr><tr><td>testing.both.realistic.adjusted_geometric_mean_rank_index</td><td>0.23047</td></tr><tr><td>testing.both.realistic.adjusted_hits_at_k</td><td>-0.0006</td></tr><tr><td>testing.both.realistic.adjusted_inverse_harmonic_mean_rank</td><td>0.00028</td></tr><tr><td>testing.both.realistic.arithmetic_mean_rank</td><td>7863.83984</td></tr><tr><td>testing.both.realistic.count</td><td>100</td></tr><tr><td>testing.both.realistic.geometric_mean_rank</td><td>4769.75342</td></tr><tr><td>testing.both.realistic.harmonic_mean_rank</td><td>1113.66772</td></tr><tr><td>testing.both.realistic.hits_at_1</td><td>0</td></tr><tr><td>testing.both.realistic.hits_at_10</td><td>0</td></tr><tr><td>testing.both.realistic.hits_at_3</td><td>0</td></tr><tr><td>testing.both.realistic.hits_at_5</td><td>0</td></tr><tr><td>testing.both.realistic.inverse_arithmetic_mean_rank</td><td>0.00013</td></tr><tr><td>testing.both.realistic.inverse_geometric_mean_rank</td><td>0.00021</td></tr><tr><td>testing.both.realistic.inverse_harmonic_mean_rank</td><td>0.0009</td></tr><tr><td>testing.both.realistic.inverse_median_rank</td><td>0.00015</td></tr><tr><td>testing.both.realistic.median_absolute_deviation</td><td>7204.70548</td></tr><tr><td>testing.both.realistic.median_rank</td><td>6537.5</td></tr><tr><td>testing.both.realistic.standard_deviation</td><td>5448.40039</td></tr><tr><td>testing.both.realistic.variance</td><td>29685068.0</td></tr><tr><td>testing.both.realistic.z_arithmetic_mean_rank</td><td>1.06666</td></tr><tr><td>testing.both.realistic.z_geometric_mean_rank</td><td>2.32513</td></tr><tr><td>testing.both.realistic.z_hits_at_k</td><td>-0.24435</td></tr><tr><td>testing.both.realistic.z_inverse_harmonic_mean_rank</td><td>0.2863</td></tr><tr><td>testing.head.optimistic.adjusted_arithmetic_mean_rank</td><td>0.79217</td></tr><tr><td>testing.head.optimistic.adjusted_arithmetic_mean_rank_index</td><td>0.20785</td></tr><tr><td>testing.head.optimistic.adjusted_geometric_mean_rank_index</td><td>0.37538</td></tr><tr><td>testing.head.optimistic.adjusted_hits_at_k</td><td>-0.0006</td></tr><tr><td>testing.head.optimistic.adjusted_inverse_harmonic_mean_rank</td><td>0.00011</td></tr><tr><td>testing.head.optimistic.arithmetic_mean_rank</td><td>6638.26</td></tr><tr><td>testing.head.optimistic.count</td><td>50</td></tr><tr><td>testing.head.optimistic.geometric_mean_rank</td><td>3890.68174</td></tr><tr><td>testing.head.optimistic.harmonic_mean_rank</td><td>1387.75543</td></tr><tr><td>testing.head.optimistic.hits_at_1</td><td>0</td></tr><tr><td>testing.head.optimistic.hits_at_10</td><td>0</td></tr><tr><td>testing.head.optimistic.hits_at_3</td><td>0</td></tr><tr><td>testing.head.optimistic.hits_at_5</td><td>0</td></tr><tr><td>testing.head.optimistic.inverse_arithmetic_mean_rank</td><td>0.00015</td></tr><tr><td>testing.head.optimistic.inverse_geometric_mean_rank</td><td>0.00026</td></tr><tr><td>testing.head.optimistic.inverse_harmonic_mean_rank</td><td>0.00072</td></tr><tr><td>testing.head.optimistic.inverse_median_rank</td><td>0.00018</td></tr><tr><td>testing.head.optimistic.median_absolute_deviation</td><td>6527.89757</td></tr><tr><td>testing.head.optimistic.median_rank</td><td>5541</td></tr><tr><td>testing.head.optimistic.standard_deviation</td><td>5157.13957</td></tr><tr><td>testing.head.optimistic.variance</td><td>26596088.5524</td></tr><tr><td>testing.head.optimistic.z_arithmetic_mean_rank</td><td>2.54549</td></tr><tr><td>testing.head.optimistic.z_geometric_mean_rank</td><td>2.69753</td></tr><tr><td>testing.head.optimistic.z_hits_at_k</td><td>-0.17278</td></tr><tr><td>testing.head.optimistic.z_inverse_harmonic_mean_rank</td><td>0.07562</td></tr><tr><td>testing.head.pessimistic.adjusted_arithmetic_mean_rank</td><td>0.79218</td></tr><tr><td>testing.head.pessimistic.adjusted_arithmetic_mean_rank_index</td><td>0.20785</td></tr><tr><td>testing.head.pessimistic.adjusted_geometric_mean_rank_index</td><td>0.37537</td></tr><tr><td>testing.head.pessimistic.adjusted_hits_at_k</td><td>-0.0006</td></tr><tr><td>testing.head.pessimistic.adjusted_inverse_harmonic_mean_rank</td><td>0.00011</td></tr><tr><td>testing.head.pessimistic.arithmetic_mean_rank</td><td>6638.3</td></tr><tr><td>testing.head.pessimistic.count</td><td>50</td></tr><tr><td>testing.head.pessimistic.geometric_mean_rank</td><td>3890.70616</td></tr><tr><td>testing.head.pessimistic.harmonic_mean_rank</td><td>1387.75735</td></tr><tr><td>testing.head.pessimistic.hits_at_1</td><td>0</td></tr><tr><td>testing.head.pessimistic.hits_at_10</td><td>0</td></tr><tr><td>testing.head.pessimistic.hits_at_3</td><td>0</td></tr><tr><td>testing.head.pessimistic.hits_at_5</td><td>0</td></tr><tr><td>testing.head.pessimistic.inverse_arithmetic_mean_rank</td><td>0.00015</td></tr><tr><td>testing.head.pessimistic.inverse_geometric_mean_rank</td><td>0.00026</td></tr><tr><td>testing.head.pessimistic.inverse_harmonic_mean_rank</td><td>0.00072</td></tr><tr><td>testing.head.pessimistic.inverse_median_rank</td><td>0.00018</td></tr><tr><td>testing.head.pessimistic.median_absolute_deviation</td><td>6527.89757</td></tr><tr><td>testing.head.pessimistic.median_rank</td><td>5541.5</td></tr><tr><td>testing.head.pessimistic.standard_deviation</td><td>5157.13801</td></tr><tr><td>testing.head.pessimistic.variance</td><td>26596072.49</td></tr><tr><td>testing.head.pessimistic.z_arithmetic_mean_rank</td><td>2.54543</td></tr><tr><td>testing.head.pessimistic.z_geometric_mean_rank</td><td>2.6975</td></tr><tr><td>testing.head.pessimistic.z_hits_at_k</td><td>-0.17278</td></tr><tr><td>testing.head.pessimistic.z_inverse_harmonic_mean_rank</td><td>0.07562</td></tr><tr><td>testing.head.realistic.adjusted_arithmetic_mean_rank</td><td>0.79218</td></tr><tr><td>testing.head.realistic.adjusted_arithmetic_mean_rank_index</td><td>0.20785</td></tr><tr><td>testing.head.realistic.adjusted_geometric_mean_rank_index</td><td>0.37537</td></tr><tr><td>testing.head.realistic.adjusted_hits_at_k</td><td>-0.0006</td></tr><tr><td>testing.head.realistic.adjusted_inverse_harmonic_mean_rank</td><td>0.00011</td></tr><tr><td>testing.head.realistic.arithmetic_mean_rank</td><td>6638.27979</td></tr><tr><td>testing.head.realistic.count</td><td>50</td></tr><tr><td>testing.head.realistic.geometric_mean_rank</td><td>3890.69507</td></tr><tr><td>testing.head.realistic.harmonic_mean_rank</td><td>1387.75629</td></tr><tr><td>testing.head.realistic.hits_at_1</td><td>0</td></tr><tr><td>testing.head.realistic.hits_at_10</td><td>0</td></tr><tr><td>testing.head.realistic.hits_at_3</td><td>0</td></tr><tr><td>testing.head.realistic.hits_at_5</td><td>0</td></tr><tr><td>testing.head.realistic.inverse_arithmetic_mean_rank</td><td>0.00015</td></tr><tr><td>testing.head.realistic.inverse_geometric_mean_rank</td><td>0.00026</td></tr><tr><td>testing.head.realistic.inverse_harmonic_mean_rank</td><td>0.00072</td></tr><tr><td>testing.head.realistic.inverse_median_rank</td><td>0.00018</td></tr><tr><td>testing.head.realistic.median_absolute_deviation</td><td>6527.89757</td></tr><tr><td>testing.head.realistic.median_rank</td><td>5541.25</td></tr><tr><td>testing.head.realistic.standard_deviation</td><td>5157.13867</td></tr><tr><td>testing.head.realistic.variance</td><td>26596080.0</td></tr><tr><td>testing.head.realistic.z_arithmetic_mean_rank</td><td>2.54546</td></tr><tr><td>testing.head.realistic.z_geometric_mean_rank</td><td>2.69752</td></tr><tr><td>testing.head.realistic.z_hits_at_k</td><td>-0.17278</td></tr><tr><td>testing.head.realistic.z_inverse_harmonic_mean_rank</td><td>0.07562</td></tr><tr><td>testing.tail.optimistic.adjusted_arithmetic_mean_rank</td><td>1.08466</td></tr><tr><td>testing.tail.optimistic.adjusted_arithmetic_mean_rank_index</td><td>-0.08467</td></tr><tr><td>testing.tail.optimistic.adjusted_geometric_mean_rank_index</td><td>0.06117</td></tr><tr><td>testing.tail.optimistic.adjusted_hits_at_k</td><td>-0.0006</td></tr><tr><td>testing.tail.optimistic.adjusted_inverse_harmonic_mean_rank</td><td>0.00046</td></tr><tr><td>testing.tail.optimistic.arithmetic_mean_rank</td><td>9089.4</td></tr><tr><td>testing.tail.optimistic.count</td><td>50</td></tr><tr><td>testing.tail.optimistic.geometric_mean_rank</td><td>5847.41764</td></tr><tr><td>testing.tail.optimistic.harmonic_mean_rank</td><td>929.99038</td></tr><tr><td>testing.tail.optimistic.hits_at_1</td><td>0</td></tr><tr><td>testing.tail.optimistic.hits_at_10</td><td>0</td></tr><tr><td>testing.tail.optimistic.hits_at_3</td><td>0</td></tr><tr><td>testing.tail.optimistic.hits_at_5</td><td>0</td></tr><tr><td>testing.tail.optimistic.inverse_arithmetic_mean_rank</td><td>0.00011</td></tr><tr><td>testing.tail.optimistic.inverse_geometric_mean_rank</td><td>0.00017</td></tr><tr><td>testing.tail.optimistic.inverse_harmonic_mean_rank</td><td>0.00108</td></tr><tr><td>testing.tail.optimistic.inverse_median_rank</td><td>0.00011</td></tr><tr><td>testing.tail.optimistic.median_absolute_deviation</td><td>7491.58901</td></tr><tr><td>testing.tail.optimistic.median_rank</td><td>9491</td></tr><tr><td>testing.tail.optimistic.standard_deviation</td><td>5456.19536</td></tr><tr><td>testing.tail.optimistic.variance</td><td>29770067.76</td></tr><tr><td>testing.tail.optimistic.z_arithmetic_mean_rank</td><td>-1.03695</td></tr><tr><td>testing.tail.optimistic.z_geometric_mean_rank</td><td>0.43958</td></tr><tr><td>testing.tail.optimistic.z_hits_at_k</td><td>-0.17278</td></tr><tr><td>testing.tail.optimistic.z_inverse_harmonic_mean_rank</td><td>0.32927</td></tr><tr><td>testing.tail.pessimistic.adjusted_arithmetic_mean_rank</td><td>1.08466</td></tr><tr><td>testing.tail.pessimistic.adjusted_arithmetic_mean_rank_index</td><td>-0.08467</td></tr><tr><td>testing.tail.pessimistic.adjusted_geometric_mean_rank_index</td><td>0.06117</td></tr><tr><td>testing.tail.pessimistic.adjusted_hits_at_k</td><td>-0.0006</td></tr><tr><td>testing.tail.pessimistic.adjusted_inverse_harmonic_mean_rank</td><td>0.00046</td></tr><tr><td>testing.tail.pessimistic.arithmetic_mean_rank</td><td>9089.4</td></tr><tr><td>testing.tail.pessimistic.count</td><td>50</td></tr><tr><td>testing.tail.pessimistic.geometric_mean_rank</td><td>5847.41764</td></tr><tr><td>testing.tail.pessimistic.harmonic_mean_rank</td><td>929.99038</td></tr><tr><td>testing.tail.pessimistic.hits_at_1</td><td>0</td></tr><tr><td>testing.tail.pessimistic.hits_at_10</td><td>0</td></tr><tr><td>testing.tail.pessimistic.hits_at_3</td><td>0</td></tr><tr><td>testing.tail.pessimistic.hits_at_5</td><td>0</td></tr><tr><td>testing.tail.pessimistic.inverse_arithmetic_mean_rank</td><td>0.00011</td></tr><tr><td>testing.tail.pessimistic.inverse_geometric_mean_rank</td><td>0.00017</td></tr><tr><td>testing.tail.pessimistic.inverse_harmonic_mean_rank</td><td>0.00108</td></tr><tr><td>testing.tail.pessimistic.inverse_median_rank</td><td>0.00011</td></tr><tr><td>testing.tail.pessimistic.median_absolute_deviation</td><td>7491.58901</td></tr><tr><td>testing.tail.pessimistic.median_rank</td><td>9491</td></tr><tr><td>testing.tail.pessimistic.standard_deviation</td><td>5456.19536</td></tr><tr><td>testing.tail.pessimistic.variance</td><td>29770067.76</td></tr><tr><td>testing.tail.pessimistic.z_arithmetic_mean_rank</td><td>-1.03695</td></tr><tr><td>testing.tail.pessimistic.z_geometric_mean_rank</td><td>0.43958</td></tr><tr><td>testing.tail.pessimistic.z_hits_at_k</td><td>-0.17278</td></tr><tr><td>testing.tail.pessimistic.z_inverse_harmonic_mean_rank</td><td>0.32927</td></tr><tr><td>testing.tail.realistic.adjusted_arithmetic_mean_rank</td><td>1.08466</td></tr><tr><td>testing.tail.realistic.adjusted_arithmetic_mean_rank_index</td><td>-0.08467</td></tr><tr><td>testing.tail.realistic.adjusted_geometric_mean_rank_index</td><td>0.06117</td></tr><tr><td>testing.tail.realistic.adjusted_hits_at_k</td><td>-0.0006</td></tr><tr><td>testing.tail.realistic.adjusted_inverse_harmonic_mean_rank</td><td>0.00046</td></tr><tr><td>testing.tail.realistic.arithmetic_mean_rank</td><td>9089.40039</td></tr><tr><td>testing.tail.realistic.count</td><td>50</td></tr><tr><td>testing.tail.realistic.geometric_mean_rank</td><td>5847.41357</td></tr><tr><td>testing.tail.realistic.harmonic_mean_rank</td><td>929.99021</td></tr><tr><td>testing.tail.realistic.hits_at_1</td><td>0</td></tr><tr><td>testing.tail.realistic.hits_at_10</td><td>0</td></tr><tr><td>testing.tail.realistic.hits_at_3</td><td>0</td></tr><tr><td>testing.tail.realistic.hits_at_5</td><td>0</td></tr><tr><td>testing.tail.realistic.inverse_arithmetic_mean_rank</td><td>0.00011</td></tr><tr><td>testing.tail.realistic.inverse_geometric_mean_rank</td><td>0.00017</td></tr><tr><td>testing.tail.realistic.inverse_harmonic_mean_rank</td><td>0.00108</td></tr><tr><td>testing.tail.realistic.inverse_median_rank</td><td>0.00011</td></tr><tr><td>testing.tail.realistic.median_absolute_deviation</td><td>7491.58901</td></tr><tr><td>testing.tail.realistic.median_rank</td><td>9491</td></tr><tr><td>testing.tail.realistic.standard_deviation</td><td>5456.19531</td></tr><tr><td>testing.tail.realistic.variance</td><td>29770068.0</td></tr><tr><td>testing.tail.realistic.z_arithmetic_mean_rank</td><td>-1.03695</td></tr><tr><td>testing.tail.realistic.z_geometric_mean_rank</td><td>0.43959</td></tr><tr><td>testing.tail.realistic.z_hits_at_k</td><td>-0.17278</td></tr><tr><td>testing.tail.realistic.z_inverse_harmonic_mean_rank</td><td>0.32927</td></tr><tr><td>times.final_evaluation</td><td>0.57698</td></tr><tr><td>times.total_training</td><td>38.54267</td></tr></table><br/></div></div>"
      ],
      "text/plain": [
       "<IPython.core.display.HTML object>"
      ]
     },
     "metadata": {},
     "output_type": "display_data"
    },
    {
     "data": {
      "text/html": [
       " View run <strong style=\"color:#cdcd00\">fine-voice-65</strong> at: <a href='https://wandb.ai/fieng/embedding/runs/mng2v0ha' target=\"_blank\">https://wandb.ai/fieng/embedding/runs/mng2v0ha</a><br/> View project at: <a href='https://wandb.ai/fieng/embedding' target=\"_blank\">https://wandb.ai/fieng/embedding</a><br/>Synced 5 W&B file(s), 0 media file(s), 0 artifact file(s) and 0 other file(s)"
      ],
      "text/plain": [
       "<IPython.core.display.HTML object>"
      ]
     },
     "metadata": {},
     "output_type": "display_data"
    },
    {
     "data": {
      "text/html": [
       "Find logs at: <code>./wandb/run-20250423_033620-mng2v0ha/logs</code>"
      ],
      "text/plain": [
       "<IPython.core.display.HTML object>"
      ]
     },
     "metadata": {},
     "output_type": "display_data"
    },
    {
     "ename": "AttributeError",
     "evalue": "module 'experiment.filtering' has no attribute 'create_sample'",
     "output_type": "error",
     "traceback": [
      "\u001b[0;31m---------------------------------------------------------------------------\u001b[0m",
      "\u001b[0;31mAttributeError\u001b[0m                            Traceback (most recent call last)",
      "Cell \u001b[0;32mIn[3], line 7\u001b[0m\n\u001b[1;32m      4\u001b[0m filtred_df \u001b[38;5;241m=\u001b[39m filtering\u001b[38;5;241m.\u001b[39mcreate_filtred_df(df, evaluation_df, missing_df)\n\u001b[1;32m      6\u001b[0m filtred_df \u001b[38;5;241m=\u001b[39m filtred_df\u001b[38;5;241m.\u001b[39mmerge(evaluation_df, how\u001b[38;5;241m=\u001b[39m\u001b[38;5;124m'\u001b[39m\u001b[38;5;124mleft\u001b[39m\u001b[38;5;124m'\u001b[39m)\n\u001b[0;32m----> 7\u001b[0m filtred_df_sample \u001b[38;5;241m=\u001b[39m \u001b[43mfiltering\u001b[49m\u001b[38;5;241;43m.\u001b[39;49m\u001b[43mcreate_sample\u001b[49m(filtred_df,sample_size\u001b[38;5;241m=\u001b[39m \u001b[38;5;241m500\u001b[39m, true_cand_ratio\u001b[38;5;241m=\u001b[39m \u001b[38;5;241m0.5\u001b[39m)\n",
      "\u001b[0;31mAttributeError\u001b[0m: module 'experiment.filtering' has no attribute 'create_sample'"
     ]
    }
   ],
   "source": [
    "path ='data/codex-m/data_sample.csv'\n",
    "df = pd.read_csv(path)\n",
    "evaluation_df, candidates_df, missing_df = preprocess.create_experiment_df(path)\n",
    "filtred_df = filtering.create_filtred_df(df, evaluation_df, missing_df)\n",
    "\n",
    "filtred_df = filtred_df.merge(evaluation_df, how='left')\n",
    "filtred_df_sample = filtering.create_sample(filtred_df,sample_size= 500, true_cand_ratio= 0.5)"
   ]
  },
  {
   "cell_type": "code",
   "execution_count": 15,
   "metadata": {},
   "outputs": [],
   "source": [
    "from langchain_community.document_loaders.csv_loader import CSVLoader\n",
    "from langchain_experimental.text_splitter import SemanticChunker\n",
    "from langchain.embeddings import HuggingFaceEmbeddings\n",
    "from langchain_community.embeddings import HuggingFaceEmbeddings\n",
    "from langchain_community.vectorstores import FAISS\n",
    "from langchain_community.llms import Ollama\n",
    "from langchain.chains import RetrievalQA\n",
    "from langchain.chains.llm import LLMChain\n",
    "from langchain.chains.combine_documents.stuff import StuffDocumentsChain\n",
    "from langchain.prompts import PromptTemplate\n",
    "from langchain_core.prompts import ChatPromptTemplate"
   ]
  },
  {
   "cell_type": "code",
   "execution_count": 38,
   "metadata": {},
   "outputs": [
    {
     "name": "stdout",
     "output_type": "stream",
     "text": [
      "0 / 500\n",
      "100 / 500\n",
      "200 / 500\n",
      "300 / 500\n",
      "400 / 500\n"
     ]
    }
   ],
   "source": [
    "template = \"\"\"\n",
    "1. Use the following pieces of context to determine if the final triple present correct fact or not.\\n\n",
    "2. Is the triple correct: answer \"1\" if it is correct and \"0\" otherwise.\\n\n",
    "3. If you don't know the answer, just say that \"-1\"\\n\n",
    "4. Start the answer with 'Score:'\\n\n",
    "5. A triple represent a relation between the head entity and the tail entity\\n\n",
    "\n",
    "Here similar triples to help you make a decision:\n",
    "Context: {context}\n",
    "Here the triple to evaluate:\n",
    "Triple: {triple}\n",
    "\n",
    "Helpful Answer:\"\"\"\n",
    "\n",
    "def prompt_answer(prompt_template:str, **kwargs) -> str:\n",
    "    # Define llm\n",
    "    llm = Ollama(model=\"mistral\", temperature=0.1)\n",
    "    prompt = ChatPromptTemplate.from_template(prompt_template)\n",
    "    model = llm\n",
    "    chain = prompt | model\n",
    "    result = chain.invoke(kwargs)\n",
    "    return result\n",
    "\n",
    "context_list =  []\n",
    "triple_list = []\n",
    "for item in filtred_df_sample.iterrows():\n",
    "    context_triple = []\n",
    "    triple = item[1]\n",
    "    head = triple['Head']\n",
    "    relation = triple['Relation']\n",
    "    tail = triple['Tail']\n",
    "    triple_sentence = f\"Head:{head}\\t Relation:{relation}\\t Tail:{tail}\"\n",
    "    context_triple.append(df[df['Head'] == head].sample(1))\n",
    "    context_triple.append(df[df['Relation'] == relation].sample(1))\n",
    "    context_triple.append(df[df['Tail'] == tail].sample(1))\n",
    "    context_list.append(context_triple)\n",
    "    triple_list.append(triple_sentence)\n",
    "\n",
    "score_list = []\n",
    "for index, triple in enumerate(triple_list):\n",
    "    context = context_list[index]\n",
    "    score = prompt_answer(template, triple=triple, context=context)\n",
    "    score_list.append(score)\n",
    "    if index%100 == 0:\n",
    "        print(f'{index} / {len(triple_list)}')\n"
   ]
  },
  {
   "cell_type": "code",
   "execution_count": null,
   "metadata": {},
   "outputs": [],
   "source": [
    "score_list\n"
   ]
  },
  {
   "cell_type": "code",
   "execution_count": 35,
   "metadata": {},
   "outputs": [],
   "source": [
    "def clean_score(list_score) -> list[float]:\n",
    "    list_score = [item.rstrip('.') if item.endswith('.') else item for item in list_score]\n",
    "    list_score = [0 if item == '' else item for item in list_score]\n",
    "    score_bin = [1 if item == '1'  else 0 for item in list_score]\n",
    "    return score_bin\n",
    "\n",
    "\n",
    "def extract_score(text:str)->str:\n",
    "    # Function to extract score\n",
    "    # Find the starting index of \"Score: \"\n",
    "    start_index = text.find(\"Score: \") + len(\"Score: \")\n",
    "\n",
    "    # Find the end of the number, which could be marked by a non-digit character\n",
    "    end_index = start_index\n",
    "    while end_index < len(text) and (text[end_index].isdigit() or text[end_index] == '.'):\n",
    "        end_index += 1\n",
    "\n",
    "    # Extract and return the number using slicing\n",
    "    return text[start_index:end_index]"
   ]
  },
  {
   "cell_type": "code",
   "execution_count": 39,
   "metadata": {},
   "outputs": [],
   "source": [
    "new_score_list = [extract_score(score) for score in score_list]\n",
    "new_score_list = clean_score(new_score_list)\n",
    "filtred_df_sample['Pred'] = new_score_list"
   ]
  },
  {
   "cell_type": "code",
   "execution_count": 40,
   "metadata": {},
   "outputs": [],
   "source": [
    "import matplotlib.pyplot as plt\n",
    "import seaborn as sns\n",
    "from sklearn.metrics import confusion_matrix\n",
    "\n",
    "def compute_score(prediction, ground_truth):\n",
    "    cm = confusion_matrix(ground_truth, prediction)\n",
    "    TN = cm[0][0]\n",
    "    FN = cm[1][0]\n",
    "    TP = cm[1][1]\n",
    "    FP = cm[0][1]\n",
    "    accuracy = (TN + TP) / (TN + TP + FN + FP)\n",
    "    f1_score = (2 * TP) / (2 * TP + FP + FN)\n",
    "    recall = TP / (TP + FN)\n",
    "    precision = TP / (TP + FP)\n",
    "    return accuracy, f1_score, recall, precision"
   ]
  },
  {
   "cell_type": "code",
   "execution_count": 41,
   "metadata": {},
   "outputs": [
    {
     "name": "stdout",
     "output_type": "stream",
     "text": [
      "Accuracy 0.71\n",
      "Precision:0.82\n",
      "Recall:0.54\n",
      "F1:0.65\n"
     ]
    }
   ],
   "source": [
    "ground_truth = filtred_df_sample['Missing']\n",
    "prediction = filtred_df_sample['Pred']\n",
    "accuracy, f1_score, recall, precision = compute_score(prediction, ground_truth)\n",
    "print(f'Accuracy {accuracy:.2f}\\nPrecision:{precision:.2f}\\nRecall:{recall:.2f}\\nF1:{f1_score:.2f}')"
   ]
  },
  {
   "cell_type": "code",
   "execution_count": 46,
   "metadata": {},
   "outputs": [],
   "source": [
    "res = [accuracy,precision,recall,f1_score]\n",
    "dftest = pd.DataFrame([res], columns=[\"A\", \"B\", \"C\", \"D\"])\n",
    "dftest.to_csv('test.csv')"
   ]
  },
  {
   "cell_type": "code",
   "execution_count": null,
   "metadata": {},
   "outputs": [],
   "source": []
  }
 ],
 "metadata": {
  "kernelspec": {
   "display_name": "langchain-env",
   "language": "python",
   "name": "python3"
  },
  "language_info": {
   "codemirror_mode": {
    "name": "ipython",
    "version": 3
   },
   "file_extension": ".py",
   "mimetype": "text/x-python",
   "name": "python",
   "nbconvert_exporter": "python",
   "pygments_lexer": "ipython3",
   "version": "3.10.12"
  }
 },
 "nbformat": 4,
 "nbformat_minor": 2
}
