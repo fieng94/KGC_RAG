{
 "cells": [
  {
   "cell_type": "markdown",
   "metadata": {},
   "source": [
    "## Preparation"
   ]
  },
  {
   "cell_type": "code",
   "execution_count": 1,
   "metadata": {},
   "outputs": [
    {
     "name": "stderr",
     "output_type": "stream",
     "text": [
      "/Users/fieng/Project/KGC_RAG/langchain-env/lib/python3.10/site-packages/IPython/core/magics/osm.py:417: UserWarning: This is now an optional IPython functionality, setting dhist requires you to install the `pickleshare` library.\n",
      "  self.shell.db['dhist'] = compress_dhist(dhist)[-100:]\n"
     ]
    },
    {
     "name": "stdout",
     "output_type": "stream",
     "text": [
      "/Users/fieng/Project/KGC_RAG\n"
     ]
    }
   ],
   "source": [
    "%cd ../..\n",
    "import pandas as pd\n",
    "import experiment.preprocess as preprocess\n",
    "from candidates_generation import triple_gen\n",
    "import importlib\n",
    "import numpy as np"
   ]
  },
  {
   "cell_type": "code",
   "execution_count": 2,
   "metadata": {},
   "outputs": [
    {
     "name": "stderr",
     "output_type": "stream",
     "text": [
      "/Users/fieng/Project/KGC_RAG/experiment/preprocess.py:29: SettingWithCopyWarning: \n",
      "A value is trying to be set on a copy of a slice from a DataFrame.\n",
      "Try using .loc[row_indexer,col_indexer] = value instead\n",
      "\n",
      "See the caveats in the documentation: https://pandas.pydata.org/pandas-docs/stable/user_guide/indexing.html#returning-a-view-versus-a-copy\n",
      "  true_cand_df['Missing'] = 1\n",
      "/Users/fieng/Project/KGC_RAG/experiment/preprocess.py:30: SettingWithCopyWarning: \n",
      "A value is trying to be set on a copy of a slice from a DataFrame.\n",
      "Try using .loc[row_indexer,col_indexer] = value instead\n",
      "\n",
      "See the caveats in the documentation: https://pandas.pydata.org/pandas-docs/stable/user_guide/indexing.html#returning-a-view-versus-a-copy\n",
      "  false_cand_df['Missing'] = 0\n"
     ]
    }
   ],
   "source": [
    "path ='data/economic/data.csv'\n",
    "df = pd.read_csv(path)\n",
    "evaluation_df, candidates_df, missing_df = preprocess.create_experiment_df(path)"
   ]
  },
  {
   "cell_type": "code",
   "execution_count": 3,
   "metadata": {},
   "outputs": [
    {
     "name": "stderr",
     "output_type": "stream",
     "text": [
      "/Users/fieng/Project/KGC_RAG/langchain-env/lib/python3.10/site-packages/tqdm/auto.py:21: TqdmWarning: IProgress not found. Please update jupyter and ipywidgets. See https://ipywidgets.readthedocs.io/en/stable/user_install.html\n",
      "  from .autonotebook import tqdm as notebook_tqdm\n",
      "\u001b[34m\u001b[1mwandb\u001b[0m: Using wandb-core as the SDK backend.  Please refer to https://wandb.me/wandb-core for more information.\n",
      "\u001b[34m\u001b[1mwandb\u001b[0m: Currently logged in as: \u001b[33mfieng\u001b[0m. Use \u001b[1m`wandb login --relogin`\u001b[0m to force relogin\n"
     ]
    },
    {
     "data": {
      "text/html": [
       "Tracking run with wandb version 0.18.7"
      ],
      "text/plain": [
       "<IPython.core.display.HTML object>"
      ]
     },
     "metadata": {},
     "output_type": "display_data"
    },
    {
     "data": {
      "text/html": [
       "Run data is saved locally in <code>/Users/fieng/Project/KGC_RAG/wandb/run-20250416_153041-xt02h9h6</code>"
      ],
      "text/plain": [
       "<IPython.core.display.HTML object>"
      ]
     },
     "metadata": {},
     "output_type": "display_data"
    },
    {
     "data": {
      "text/html": [
       "Syncing run <strong><a href='https://wandb.ai/fieng/embedding/runs/xt02h9h6' target=\"_blank\">gallant-bee-59</a></strong> to <a href='https://wandb.ai/fieng/embedding' target=\"_blank\">Weights & Biases</a> (<a href='https://wandb.me/developer-guide' target=\"_blank\">docs</a>)<br/>"
      ],
      "text/plain": [
       "<IPython.core.display.HTML object>"
      ]
     },
     "metadata": {},
     "output_type": "display_data"
    },
    {
     "data": {
      "text/html": [
       " View project at <a href='https://wandb.ai/fieng/embedding' target=\"_blank\">https://wandb.ai/fieng/embedding</a>"
      ],
      "text/plain": [
       "<IPython.core.display.HTML object>"
      ]
     },
     "metadata": {},
     "output_type": "display_data"
    },
    {
     "data": {
      "text/html": [
       " View run at <a href='https://wandb.ai/fieng/embedding/runs/xt02h9h6' target=\"_blank\">https://wandb.ai/fieng/embedding/runs/xt02h9h6</a>"
      ],
      "text/plain": [
       "<IPython.core.display.HTML object>"
      ]
     },
     "metadata": {},
     "output_type": "display_data"
    },
    {
     "name": "stderr",
     "output_type": "stream",
     "text": [
      "No cuda devices were available. The model runs on CPU\n",
      "Training epochs on cpu: 100%|██████████| 50/50 [04:31<00:00,  5.43s/epoch, loss=0.778, prev_loss=0.788]\n",
      "WARNING:pykeen.utils:Using automatic batch size on device.type='cpu' can cause unexplained out-of-memory crashes. Therefore, we use a conservative small batch_size=32. Performance may be improved by explicitly specifying a larger batch size.\n",
      "Evaluating on cpu:   0%|          | 0.00/50.0 [00:00<?, ?triple/s]WARNING:torch_max_mem.api:Encountered tensors on device_types={'cpu'} while only ['cuda'] are considered safe for automatic memory utilization maximization. This may lead to undocumented crashes (but can be safe, too).\n",
      "Evaluating on cpu: 100%|██████████| 50.0/50.0 [00:00<00:00, 54.4triple/s]\n",
      "INFO:pykeen.evaluation.evaluator:Evaluation took 1.17s seconds\n"
     ]
    },
    {
     "data": {
      "text/html": [
       "\n",
       "    <style>\n",
       "        .wandb-row {\n",
       "            display: flex;\n",
       "            flex-direction: row;\n",
       "            flex-wrap: wrap;\n",
       "            justify-content: flex-start;\n",
       "            width: 100%;\n",
       "        }\n",
       "        .wandb-col {\n",
       "            display: flex;\n",
       "            flex-direction: column;\n",
       "            flex-basis: 100%;\n",
       "            flex: 1;\n",
       "            padding: 10px;\n",
       "        }\n",
       "    </style>\n",
       "<div class=\"wandb-row\"><div class=\"wandb-col\"><h3>Run history:</h3><br/><table class=\"wandb\"><tr><td>loss</td><td>█▅▃▃▃▂▂▂▂▂▂▂▂▂▂▂▁▂▁▁▁▁▁▁▁▁▁▁▁▁▁▁▁▁▁▁▁▁▁▁</td></tr><tr><td>testing.both.optimistic.adjusted_arithmetic_mean_rank</td><td>▁</td></tr><tr><td>testing.both.optimistic.adjusted_arithmetic_mean_rank_index</td><td>▁</td></tr><tr><td>testing.both.optimistic.adjusted_geometric_mean_rank_index</td><td>▁</td></tr><tr><td>testing.both.optimistic.adjusted_hits_at_k</td><td>▁</td></tr><tr><td>testing.both.optimistic.adjusted_inverse_harmonic_mean_rank</td><td>▁</td></tr><tr><td>testing.both.optimistic.arithmetic_mean_rank</td><td>▁</td></tr><tr><td>testing.both.optimistic.count</td><td>▁</td></tr><tr><td>testing.both.optimistic.geometric_mean_rank</td><td>▁</td></tr><tr><td>testing.both.optimistic.harmonic_mean_rank</td><td>▁</td></tr><tr><td>testing.both.optimistic.hits_at_1</td><td>▁</td></tr><tr><td>testing.both.optimistic.hits_at_10</td><td>▁</td></tr><tr><td>testing.both.optimistic.hits_at_3</td><td>▁</td></tr><tr><td>testing.both.optimistic.hits_at_5</td><td>▁</td></tr><tr><td>testing.both.optimistic.inverse_arithmetic_mean_rank</td><td>▁</td></tr><tr><td>testing.both.optimistic.inverse_geometric_mean_rank</td><td>▁</td></tr><tr><td>testing.both.optimistic.inverse_harmonic_mean_rank</td><td>▁</td></tr><tr><td>testing.both.optimistic.inverse_median_rank</td><td>▁</td></tr><tr><td>testing.both.optimistic.median_absolute_deviation</td><td>▁</td></tr><tr><td>testing.both.optimistic.median_rank</td><td>▁</td></tr><tr><td>testing.both.optimistic.standard_deviation</td><td>▁</td></tr><tr><td>testing.both.optimistic.variance</td><td>▁</td></tr><tr><td>testing.both.optimistic.z_arithmetic_mean_rank</td><td>▁</td></tr><tr><td>testing.both.optimistic.z_geometric_mean_rank</td><td>▁</td></tr><tr><td>testing.both.optimistic.z_hits_at_k</td><td>▁</td></tr><tr><td>testing.both.optimistic.z_inverse_harmonic_mean_rank</td><td>▁</td></tr><tr><td>testing.both.pessimistic.adjusted_arithmetic_mean_rank</td><td>▁</td></tr><tr><td>testing.both.pessimistic.adjusted_arithmetic_mean_rank_index</td><td>▁</td></tr><tr><td>testing.both.pessimistic.adjusted_geometric_mean_rank_index</td><td>▁</td></tr><tr><td>testing.both.pessimistic.adjusted_hits_at_k</td><td>▁</td></tr><tr><td>testing.both.pessimistic.adjusted_inverse_harmonic_mean_rank</td><td>▁</td></tr><tr><td>testing.both.pessimistic.arithmetic_mean_rank</td><td>▁</td></tr><tr><td>testing.both.pessimistic.count</td><td>▁</td></tr><tr><td>testing.both.pessimistic.geometric_mean_rank</td><td>▁</td></tr><tr><td>testing.both.pessimistic.harmonic_mean_rank</td><td>▁</td></tr><tr><td>testing.both.pessimistic.hits_at_1</td><td>▁</td></tr><tr><td>testing.both.pessimistic.hits_at_10</td><td>▁</td></tr><tr><td>testing.both.pessimistic.hits_at_3</td><td>▁</td></tr><tr><td>testing.both.pessimistic.hits_at_5</td><td>▁</td></tr><tr><td>testing.both.pessimistic.inverse_arithmetic_mean_rank</td><td>▁</td></tr><tr><td>testing.both.pessimistic.inverse_geometric_mean_rank</td><td>▁</td></tr><tr><td>testing.both.pessimistic.inverse_harmonic_mean_rank</td><td>▁</td></tr><tr><td>testing.both.pessimistic.inverse_median_rank</td><td>▁</td></tr><tr><td>testing.both.pessimistic.median_absolute_deviation</td><td>▁</td></tr><tr><td>testing.both.pessimistic.median_rank</td><td>▁</td></tr><tr><td>testing.both.pessimistic.standard_deviation</td><td>▁</td></tr><tr><td>testing.both.pessimistic.variance</td><td>▁</td></tr><tr><td>testing.both.pessimistic.z_arithmetic_mean_rank</td><td>▁</td></tr><tr><td>testing.both.pessimistic.z_geometric_mean_rank</td><td>▁</td></tr><tr><td>testing.both.pessimistic.z_hits_at_k</td><td>▁</td></tr><tr><td>testing.both.pessimistic.z_inverse_harmonic_mean_rank</td><td>▁</td></tr><tr><td>testing.both.realistic.adjusted_arithmetic_mean_rank</td><td>▁</td></tr><tr><td>testing.both.realistic.adjusted_arithmetic_mean_rank_index</td><td>▁</td></tr><tr><td>testing.both.realistic.adjusted_geometric_mean_rank_index</td><td>▁</td></tr><tr><td>testing.both.realistic.adjusted_hits_at_k</td><td>▁</td></tr><tr><td>testing.both.realistic.adjusted_inverse_harmonic_mean_rank</td><td>▁</td></tr><tr><td>testing.both.realistic.arithmetic_mean_rank</td><td>▁</td></tr><tr><td>testing.both.realistic.count</td><td>▁</td></tr><tr><td>testing.both.realistic.geometric_mean_rank</td><td>▁</td></tr><tr><td>testing.both.realistic.harmonic_mean_rank</td><td>▁</td></tr><tr><td>testing.both.realistic.hits_at_1</td><td>▁</td></tr><tr><td>testing.both.realistic.hits_at_10</td><td>▁</td></tr><tr><td>testing.both.realistic.hits_at_3</td><td>▁</td></tr><tr><td>testing.both.realistic.hits_at_5</td><td>▁</td></tr><tr><td>testing.both.realistic.inverse_arithmetic_mean_rank</td><td>▁</td></tr><tr><td>testing.both.realistic.inverse_geometric_mean_rank</td><td>▁</td></tr><tr><td>testing.both.realistic.inverse_harmonic_mean_rank</td><td>▁</td></tr><tr><td>testing.both.realistic.inverse_median_rank</td><td>▁</td></tr><tr><td>testing.both.realistic.median_absolute_deviation</td><td>▁</td></tr><tr><td>testing.both.realistic.median_rank</td><td>▁</td></tr><tr><td>testing.both.realistic.standard_deviation</td><td>▁</td></tr><tr><td>testing.both.realistic.variance</td><td>▁</td></tr><tr><td>testing.both.realistic.z_arithmetic_mean_rank</td><td>▁</td></tr><tr><td>testing.both.realistic.z_geometric_mean_rank</td><td>▁</td></tr><tr><td>testing.both.realistic.z_hits_at_k</td><td>▁</td></tr><tr><td>testing.both.realistic.z_inverse_harmonic_mean_rank</td><td>▁</td></tr><tr><td>testing.head.optimistic.adjusted_arithmetic_mean_rank</td><td>▁</td></tr><tr><td>testing.head.optimistic.adjusted_arithmetic_mean_rank_index</td><td>▁</td></tr><tr><td>testing.head.optimistic.adjusted_geometric_mean_rank_index</td><td>▁</td></tr><tr><td>testing.head.optimistic.adjusted_hits_at_k</td><td>▁</td></tr><tr><td>testing.head.optimistic.adjusted_inverse_harmonic_mean_rank</td><td>▁</td></tr><tr><td>testing.head.optimistic.arithmetic_mean_rank</td><td>▁</td></tr><tr><td>testing.head.optimistic.count</td><td>▁</td></tr><tr><td>testing.head.optimistic.geometric_mean_rank</td><td>▁</td></tr><tr><td>testing.head.optimistic.harmonic_mean_rank</td><td>▁</td></tr><tr><td>testing.head.optimistic.hits_at_1</td><td>▁</td></tr><tr><td>testing.head.optimistic.hits_at_10</td><td>▁</td></tr><tr><td>testing.head.optimistic.hits_at_3</td><td>▁</td></tr><tr><td>testing.head.optimistic.hits_at_5</td><td>▁</td></tr><tr><td>testing.head.optimistic.inverse_arithmetic_mean_rank</td><td>▁</td></tr><tr><td>testing.head.optimistic.inverse_geometric_mean_rank</td><td>▁</td></tr><tr><td>testing.head.optimistic.inverse_harmonic_mean_rank</td><td>▁</td></tr><tr><td>testing.head.optimistic.inverse_median_rank</td><td>▁</td></tr><tr><td>testing.head.optimistic.median_absolute_deviation</td><td>▁</td></tr><tr><td>testing.head.optimistic.median_rank</td><td>▁</td></tr><tr><td>testing.head.optimistic.standard_deviation</td><td>▁</td></tr><tr><td>testing.head.optimistic.variance</td><td>▁</td></tr><tr><td>testing.head.optimistic.z_arithmetic_mean_rank</td><td>▁</td></tr><tr><td>testing.head.optimistic.z_geometric_mean_rank</td><td>▁</td></tr><tr><td>testing.head.optimistic.z_hits_at_k</td><td>▁</td></tr><tr><td>testing.head.optimistic.z_inverse_harmonic_mean_rank</td><td>▁</td></tr><tr><td>testing.head.pessimistic.adjusted_arithmetic_mean_rank</td><td>▁</td></tr><tr><td>testing.head.pessimistic.adjusted_arithmetic_mean_rank_index</td><td>▁</td></tr><tr><td>testing.head.pessimistic.adjusted_geometric_mean_rank_index</td><td>▁</td></tr><tr><td>testing.head.pessimistic.adjusted_hits_at_k</td><td>▁</td></tr><tr><td>testing.head.pessimistic.adjusted_inverse_harmonic_mean_rank</td><td>▁</td></tr><tr><td>testing.head.pessimistic.arithmetic_mean_rank</td><td>▁</td></tr><tr><td>testing.head.pessimistic.count</td><td>▁</td></tr><tr><td>testing.head.pessimistic.geometric_mean_rank</td><td>▁</td></tr><tr><td>testing.head.pessimistic.harmonic_mean_rank</td><td>▁</td></tr><tr><td>testing.head.pessimistic.hits_at_1</td><td>▁</td></tr><tr><td>testing.head.pessimistic.hits_at_10</td><td>▁</td></tr><tr><td>testing.head.pessimistic.hits_at_3</td><td>▁</td></tr><tr><td>testing.head.pessimistic.hits_at_5</td><td>▁</td></tr><tr><td>testing.head.pessimistic.inverse_arithmetic_mean_rank</td><td>▁</td></tr><tr><td>testing.head.pessimistic.inverse_geometric_mean_rank</td><td>▁</td></tr><tr><td>testing.head.pessimistic.inverse_harmonic_mean_rank</td><td>▁</td></tr><tr><td>testing.head.pessimistic.inverse_median_rank</td><td>▁</td></tr><tr><td>testing.head.pessimistic.median_absolute_deviation</td><td>▁</td></tr><tr><td>testing.head.pessimistic.median_rank</td><td>▁</td></tr><tr><td>testing.head.pessimistic.standard_deviation</td><td>▁</td></tr><tr><td>testing.head.pessimistic.variance</td><td>▁</td></tr><tr><td>testing.head.pessimistic.z_arithmetic_mean_rank</td><td>▁</td></tr><tr><td>testing.head.pessimistic.z_geometric_mean_rank</td><td>▁</td></tr><tr><td>testing.head.pessimistic.z_hits_at_k</td><td>▁</td></tr><tr><td>testing.head.pessimistic.z_inverse_harmonic_mean_rank</td><td>▁</td></tr><tr><td>testing.head.realistic.adjusted_arithmetic_mean_rank</td><td>▁</td></tr><tr><td>testing.head.realistic.adjusted_arithmetic_mean_rank_index</td><td>▁</td></tr><tr><td>testing.head.realistic.adjusted_geometric_mean_rank_index</td><td>▁</td></tr><tr><td>testing.head.realistic.adjusted_hits_at_k</td><td>▁</td></tr><tr><td>testing.head.realistic.adjusted_inverse_harmonic_mean_rank</td><td>▁</td></tr><tr><td>testing.head.realistic.arithmetic_mean_rank</td><td>▁</td></tr><tr><td>testing.head.realistic.count</td><td>▁</td></tr><tr><td>testing.head.realistic.geometric_mean_rank</td><td>▁</td></tr><tr><td>testing.head.realistic.harmonic_mean_rank</td><td>▁</td></tr><tr><td>testing.head.realistic.hits_at_1</td><td>▁</td></tr><tr><td>testing.head.realistic.hits_at_10</td><td>▁</td></tr><tr><td>testing.head.realistic.hits_at_3</td><td>▁</td></tr><tr><td>testing.head.realistic.hits_at_5</td><td>▁</td></tr><tr><td>testing.head.realistic.inverse_arithmetic_mean_rank</td><td>▁</td></tr><tr><td>testing.head.realistic.inverse_geometric_mean_rank</td><td>▁</td></tr><tr><td>testing.head.realistic.inverse_harmonic_mean_rank</td><td>▁</td></tr><tr><td>testing.head.realistic.inverse_median_rank</td><td>▁</td></tr><tr><td>testing.head.realistic.median_absolute_deviation</td><td>▁</td></tr><tr><td>testing.head.realistic.median_rank</td><td>▁</td></tr><tr><td>testing.head.realistic.standard_deviation</td><td>▁</td></tr><tr><td>testing.head.realistic.variance</td><td>▁</td></tr><tr><td>testing.head.realistic.z_arithmetic_mean_rank</td><td>▁</td></tr><tr><td>testing.head.realistic.z_geometric_mean_rank</td><td>▁</td></tr><tr><td>testing.head.realistic.z_hits_at_k</td><td>▁</td></tr><tr><td>testing.head.realistic.z_inverse_harmonic_mean_rank</td><td>▁</td></tr><tr><td>testing.tail.optimistic.adjusted_arithmetic_mean_rank</td><td>▁</td></tr><tr><td>testing.tail.optimistic.adjusted_arithmetic_mean_rank_index</td><td>▁</td></tr><tr><td>testing.tail.optimistic.adjusted_geometric_mean_rank_index</td><td>▁</td></tr><tr><td>testing.tail.optimistic.adjusted_hits_at_k</td><td>▁</td></tr><tr><td>testing.tail.optimistic.adjusted_inverse_harmonic_mean_rank</td><td>▁</td></tr><tr><td>testing.tail.optimistic.arithmetic_mean_rank</td><td>▁</td></tr><tr><td>testing.tail.optimistic.count</td><td>▁</td></tr><tr><td>testing.tail.optimistic.geometric_mean_rank</td><td>▁</td></tr><tr><td>testing.tail.optimistic.harmonic_mean_rank</td><td>▁</td></tr><tr><td>testing.tail.optimistic.hits_at_1</td><td>▁</td></tr><tr><td>testing.tail.optimistic.hits_at_10</td><td>▁</td></tr><tr><td>testing.tail.optimistic.hits_at_3</td><td>▁</td></tr><tr><td>testing.tail.optimistic.hits_at_5</td><td>▁</td></tr><tr><td>testing.tail.optimistic.inverse_arithmetic_mean_rank</td><td>▁</td></tr><tr><td>testing.tail.optimistic.inverse_geometric_mean_rank</td><td>▁</td></tr><tr><td>testing.tail.optimistic.inverse_harmonic_mean_rank</td><td>▁</td></tr><tr><td>testing.tail.optimistic.inverse_median_rank</td><td>▁</td></tr><tr><td>testing.tail.optimistic.median_absolute_deviation</td><td>▁</td></tr><tr><td>testing.tail.optimistic.median_rank</td><td>▁</td></tr><tr><td>testing.tail.optimistic.standard_deviation</td><td>▁</td></tr><tr><td>testing.tail.optimistic.variance</td><td>▁</td></tr><tr><td>testing.tail.optimistic.z_arithmetic_mean_rank</td><td>▁</td></tr><tr><td>testing.tail.optimistic.z_geometric_mean_rank</td><td>▁</td></tr><tr><td>testing.tail.optimistic.z_hits_at_k</td><td>▁</td></tr><tr><td>testing.tail.optimistic.z_inverse_harmonic_mean_rank</td><td>▁</td></tr><tr><td>testing.tail.pessimistic.adjusted_arithmetic_mean_rank</td><td>▁</td></tr><tr><td>testing.tail.pessimistic.adjusted_arithmetic_mean_rank_index</td><td>▁</td></tr><tr><td>testing.tail.pessimistic.adjusted_geometric_mean_rank_index</td><td>▁</td></tr><tr><td>testing.tail.pessimistic.adjusted_hits_at_k</td><td>▁</td></tr><tr><td>testing.tail.pessimistic.adjusted_inverse_harmonic_mean_rank</td><td>▁</td></tr><tr><td>testing.tail.pessimistic.arithmetic_mean_rank</td><td>▁</td></tr><tr><td>testing.tail.pessimistic.count</td><td>▁</td></tr><tr><td>testing.tail.pessimistic.geometric_mean_rank</td><td>▁</td></tr><tr><td>testing.tail.pessimistic.harmonic_mean_rank</td><td>▁</td></tr><tr><td>testing.tail.pessimistic.hits_at_1</td><td>▁</td></tr><tr><td>testing.tail.pessimistic.hits_at_10</td><td>▁</td></tr><tr><td>testing.tail.pessimistic.hits_at_3</td><td>▁</td></tr><tr><td>testing.tail.pessimistic.hits_at_5</td><td>▁</td></tr><tr><td>testing.tail.pessimistic.inverse_arithmetic_mean_rank</td><td>▁</td></tr><tr><td>testing.tail.pessimistic.inverse_geometric_mean_rank</td><td>▁</td></tr><tr><td>testing.tail.pessimistic.inverse_harmonic_mean_rank</td><td>▁</td></tr><tr><td>testing.tail.pessimistic.inverse_median_rank</td><td>▁</td></tr><tr><td>testing.tail.pessimistic.median_absolute_deviation</td><td>▁</td></tr><tr><td>testing.tail.pessimistic.median_rank</td><td>▁</td></tr><tr><td>testing.tail.pessimistic.standard_deviation</td><td>▁</td></tr><tr><td>testing.tail.pessimistic.variance</td><td>▁</td></tr><tr><td>testing.tail.pessimistic.z_arithmetic_mean_rank</td><td>▁</td></tr><tr><td>testing.tail.pessimistic.z_geometric_mean_rank</td><td>▁</td></tr><tr><td>testing.tail.pessimistic.z_hits_at_k</td><td>▁</td></tr><tr><td>testing.tail.pessimistic.z_inverse_harmonic_mean_rank</td><td>▁</td></tr><tr><td>testing.tail.realistic.adjusted_arithmetic_mean_rank</td><td>▁</td></tr><tr><td>testing.tail.realistic.adjusted_arithmetic_mean_rank_index</td><td>▁</td></tr><tr><td>testing.tail.realistic.adjusted_geometric_mean_rank_index</td><td>▁</td></tr><tr><td>testing.tail.realistic.adjusted_hits_at_k</td><td>▁</td></tr><tr><td>testing.tail.realistic.adjusted_inverse_harmonic_mean_rank</td><td>▁</td></tr><tr><td>testing.tail.realistic.arithmetic_mean_rank</td><td>▁</td></tr><tr><td>testing.tail.realistic.count</td><td>▁</td></tr><tr><td>testing.tail.realistic.geometric_mean_rank</td><td>▁</td></tr><tr><td>testing.tail.realistic.harmonic_mean_rank</td><td>▁</td></tr><tr><td>testing.tail.realistic.hits_at_1</td><td>▁</td></tr><tr><td>testing.tail.realistic.hits_at_10</td><td>▁</td></tr><tr><td>testing.tail.realistic.hits_at_3</td><td>▁</td></tr><tr><td>testing.tail.realistic.hits_at_5</td><td>▁</td></tr><tr><td>testing.tail.realistic.inverse_arithmetic_mean_rank</td><td>▁</td></tr><tr><td>testing.tail.realistic.inverse_geometric_mean_rank</td><td>▁</td></tr><tr><td>testing.tail.realistic.inverse_harmonic_mean_rank</td><td>▁</td></tr><tr><td>testing.tail.realistic.inverse_median_rank</td><td>▁</td></tr><tr><td>testing.tail.realistic.median_absolute_deviation</td><td>▁</td></tr><tr><td>testing.tail.realistic.median_rank</td><td>▁</td></tr><tr><td>testing.tail.realistic.standard_deviation</td><td>▁</td></tr><tr><td>testing.tail.realistic.variance</td><td>▁</td></tr><tr><td>testing.tail.realistic.z_arithmetic_mean_rank</td><td>▁</td></tr><tr><td>testing.tail.realistic.z_geometric_mean_rank</td><td>▁</td></tr><tr><td>testing.tail.realistic.z_hits_at_k</td><td>▁</td></tr><tr><td>testing.tail.realistic.z_inverse_harmonic_mean_rank</td><td>▁</td></tr><tr><td>times.final_evaluation</td><td>▁</td></tr><tr><td>times.total_training</td><td>▁</td></tr></table><br/></div><div class=\"wandb-col\"><h3>Run summary:</h3><br/><table class=\"wandb\"><tr><td>loss</td><td>0.7783</td></tr><tr><td>testing.both.optimistic.adjusted_arithmetic_mean_rank</td><td>1.02477</td></tr><tr><td>testing.both.optimistic.adjusted_arithmetic_mean_rank_index</td><td>-0.02477</td></tr><tr><td>testing.both.optimistic.adjusted_geometric_mean_rank_index</td><td>-0.08478</td></tr><tr><td>testing.both.optimistic.adjusted_hits_at_k</td><td>-0.0003</td></tr><tr><td>testing.both.optimistic.adjusted_inverse_harmonic_mean_rank</td><td>-0.0002</td></tr><tr><td>testing.both.optimistic.arithmetic_mean_rank</td><td>17197.62</td></tr><tr><td>testing.both.optimistic.count</td><td>100</td></tr><tr><td>testing.both.optimistic.geometric_mean_rank</td><td>13462.90957</td></tr><tr><td>testing.both.optimistic.harmonic_mean_rank</td><td>8049.60114</td></tr><tr><td>testing.both.optimistic.hits_at_1</td><td>0</td></tr><tr><td>testing.both.optimistic.hits_at_10</td><td>0</td></tr><tr><td>testing.both.optimistic.hits_at_3</td><td>0</td></tr><tr><td>testing.both.optimistic.hits_at_5</td><td>0</td></tr><tr><td>testing.both.optimistic.inverse_arithmetic_mean_rank</td><td>6e-05</td></tr><tr><td>testing.both.optimistic.inverse_geometric_mean_rank</td><td>7e-05</td></tr><tr><td>testing.both.optimistic.inverse_harmonic_mean_rank</td><td>0.00012</td></tr><tr><td>testing.both.optimistic.inverse_median_rank</td><td>6e-05</td></tr><tr><td>testing.both.optimistic.median_absolute_deviation</td><td>11659.92515</td></tr><tr><td>testing.both.optimistic.median_rank</td><td>16564.5</td></tr><tr><td>testing.both.optimistic.standard_deviation</td><td>9243.01025</td></tr><tr><td>testing.both.optimistic.variance</td><td>85433238.5156</td></tr><tr><td>testing.both.optimistic.z_arithmetic_mean_rank</td><td>-0.42897</td></tr><tr><td>testing.both.optimistic.z_geometric_mean_rank</td><td>-0.85486</td></tr><tr><td>testing.both.optimistic.z_hits_at_k</td><td>-0.17264</td></tr><tr><td>testing.both.optimistic.z_inverse_harmonic_mean_rank</td><td>-0.29095</td></tr><tr><td>testing.both.pessimistic.adjusted_arithmetic_mean_rank</td><td>1.02477</td></tr><tr><td>testing.both.pessimistic.adjusted_arithmetic_mean_rank_index</td><td>-0.02477</td></tr><tr><td>testing.both.pessimistic.adjusted_geometric_mean_rank_index</td><td>-0.08478</td></tr><tr><td>testing.both.pessimistic.adjusted_hits_at_k</td><td>-0.0003</td></tr><tr><td>testing.both.pessimistic.adjusted_inverse_harmonic_mean_rank</td><td>-0.0002</td></tr><tr><td>testing.both.pessimistic.arithmetic_mean_rank</td><td>17197.62</td></tr><tr><td>testing.both.pessimistic.count</td><td>100</td></tr><tr><td>testing.both.pessimistic.geometric_mean_rank</td><td>13462.90957</td></tr><tr><td>testing.both.pessimistic.harmonic_mean_rank</td><td>8049.60114</td></tr><tr><td>testing.both.pessimistic.hits_at_1</td><td>0</td></tr><tr><td>testing.both.pessimistic.hits_at_10</td><td>0</td></tr><tr><td>testing.both.pessimistic.hits_at_3</td><td>0</td></tr><tr><td>testing.both.pessimistic.hits_at_5</td><td>0</td></tr><tr><td>testing.both.pessimistic.inverse_arithmetic_mean_rank</td><td>6e-05</td></tr><tr><td>testing.both.pessimistic.inverse_geometric_mean_rank</td><td>7e-05</td></tr><tr><td>testing.both.pessimistic.inverse_harmonic_mean_rank</td><td>0.00012</td></tr><tr><td>testing.both.pessimistic.inverse_median_rank</td><td>6e-05</td></tr><tr><td>testing.both.pessimistic.median_absolute_deviation</td><td>11659.92515</td></tr><tr><td>testing.both.pessimistic.median_rank</td><td>16564.5</td></tr><tr><td>testing.both.pessimistic.standard_deviation</td><td>9243.01025</td></tr><tr><td>testing.both.pessimistic.variance</td><td>85433238.5156</td></tr><tr><td>testing.both.pessimistic.z_arithmetic_mean_rank</td><td>-0.42897</td></tr><tr><td>testing.both.pessimistic.z_geometric_mean_rank</td><td>-0.85486</td></tr><tr><td>testing.both.pessimistic.z_hits_at_k</td><td>-0.17264</td></tr><tr><td>testing.both.pessimistic.z_inverse_harmonic_mean_rank</td><td>-0.29095</td></tr><tr><td>testing.both.realistic.adjusted_arithmetic_mean_rank</td><td>1.02477</td></tr><tr><td>testing.both.realistic.adjusted_arithmetic_mean_rank_index</td><td>-0.02477</td></tr><tr><td>testing.both.realistic.adjusted_geometric_mean_rank_index</td><td>-0.08478</td></tr><tr><td>testing.both.realistic.adjusted_hits_at_k</td><td>-0.0003</td></tr><tr><td>testing.both.realistic.adjusted_inverse_harmonic_mean_rank</td><td>-0.0002</td></tr><tr><td>testing.both.realistic.arithmetic_mean_rank</td><td>17197.61914</td></tr><tr><td>testing.both.realistic.count</td><td>100</td></tr><tr><td>testing.both.realistic.geometric_mean_rank</td><td>13462.91602</td></tr><tr><td>testing.both.realistic.harmonic_mean_rank</td><td>8049.60109</td></tr><tr><td>testing.both.realistic.hits_at_1</td><td>0</td></tr><tr><td>testing.both.realistic.hits_at_10</td><td>0</td></tr><tr><td>testing.both.realistic.hits_at_3</td><td>0</td></tr><tr><td>testing.both.realistic.hits_at_5</td><td>0</td></tr><tr><td>testing.both.realistic.inverse_arithmetic_mean_rank</td><td>6e-05</td></tr><tr><td>testing.both.realistic.inverse_geometric_mean_rank</td><td>7e-05</td></tr><tr><td>testing.both.realistic.inverse_harmonic_mean_rank</td><td>0.00012</td></tr><tr><td>testing.both.realistic.inverse_median_rank</td><td>6e-05</td></tr><tr><td>testing.both.realistic.median_absolute_deviation</td><td>11659.92515</td></tr><tr><td>testing.both.realistic.median_rank</td><td>16564.5</td></tr><tr><td>testing.both.realistic.standard_deviation</td><td>9243.00977</td></tr><tr><td>testing.both.realistic.variance</td><td>85433224.0</td></tr><tr><td>testing.both.realistic.z_arithmetic_mean_rank</td><td>-0.42897</td></tr><tr><td>testing.both.realistic.z_geometric_mean_rank</td><td>-0.85487</td></tr><tr><td>testing.both.realistic.z_hits_at_k</td><td>-0.17264</td></tr><tr><td>testing.both.realistic.z_inverse_harmonic_mean_rank</td><td>-0.29095</td></tr><tr><td>testing.head.optimistic.adjusted_arithmetic_mean_rank</td><td>1.08047</td></tr><tr><td>testing.head.optimistic.adjusted_arithmetic_mean_rank_index</td><td>-0.08048</td></tr><tr><td>testing.head.optimistic.adjusted_geometric_mean_rank_index</td><td>-0.14985</td></tr><tr><td>testing.head.optimistic.adjusted_hits_at_k</td><td>-0.0003</td></tr><tr><td>testing.head.optimistic.adjusted_inverse_harmonic_mean_rank</td><td>-0.00022</td></tr><tr><td>testing.head.optimistic.arithmetic_mean_rank</td><td>18132.52</td></tr><tr><td>testing.head.optimistic.count</td><td>50</td></tr><tr><td>testing.head.optimistic.geometric_mean_rank</td><td>14340.37544</td></tr><tr><td>testing.head.optimistic.harmonic_mean_rank</td><td>9029.32224</td></tr><tr><td>testing.head.optimistic.hits_at_1</td><td>0</td></tr><tr><td>testing.head.optimistic.hits_at_10</td><td>0</td></tr><tr><td>testing.head.optimistic.hits_at_3</td><td>0</td></tr><tr><td>testing.head.optimistic.hits_at_5</td><td>0</td></tr><tr><td>testing.head.optimistic.inverse_arithmetic_mean_rank</td><td>6e-05</td></tr><tr><td>testing.head.optimistic.inverse_geometric_mean_rank</td><td>7e-05</td></tr><tr><td>testing.head.optimistic.inverse_harmonic_mean_rank</td><td>0.00011</td></tr><tr><td>testing.head.optimistic.inverse_median_rank</td><td>5e-05</td></tr><tr><td>testing.head.optimistic.median_absolute_deviation</td><td>13004.64536</td></tr><tr><td>testing.head.optimistic.median_rank</td><td>18319.5</td></tr><tr><td>testing.head.optimistic.standard_deviation</td><td>9720.62466</td></tr><tr><td>testing.head.optimistic.variance</td><td>94490543.6896</td></tr><tr><td>testing.head.optimistic.z_arithmetic_mean_rank</td><td>-0.98563</td></tr><tr><td>testing.head.optimistic.z_geometric_mean_rank</td><td>-1.07626</td></tr><tr><td>testing.head.optimistic.z_hits_at_k</td><td>-0.12207</td></tr><tr><td>testing.head.optimistic.z_inverse_harmonic_mean_rank</td><td>-0.21937</td></tr><tr><td>testing.head.pessimistic.adjusted_arithmetic_mean_rank</td><td>1.08047</td></tr><tr><td>testing.head.pessimistic.adjusted_arithmetic_mean_rank_index</td><td>-0.08048</td></tr><tr><td>testing.head.pessimistic.adjusted_geometric_mean_rank_index</td><td>-0.14985</td></tr><tr><td>testing.head.pessimistic.adjusted_hits_at_k</td><td>-0.0003</td></tr><tr><td>testing.head.pessimistic.adjusted_inverse_harmonic_mean_rank</td><td>-0.00022</td></tr><tr><td>testing.head.pessimistic.arithmetic_mean_rank</td><td>18132.52</td></tr><tr><td>testing.head.pessimistic.count</td><td>50</td></tr><tr><td>testing.head.pessimistic.geometric_mean_rank</td><td>14340.37544</td></tr><tr><td>testing.head.pessimistic.harmonic_mean_rank</td><td>9029.32224</td></tr><tr><td>testing.head.pessimistic.hits_at_1</td><td>0</td></tr><tr><td>testing.head.pessimistic.hits_at_10</td><td>0</td></tr><tr><td>testing.head.pessimistic.hits_at_3</td><td>0</td></tr><tr><td>testing.head.pessimistic.hits_at_5</td><td>0</td></tr><tr><td>testing.head.pessimistic.inverse_arithmetic_mean_rank</td><td>6e-05</td></tr><tr><td>testing.head.pessimistic.inverse_geometric_mean_rank</td><td>7e-05</td></tr><tr><td>testing.head.pessimistic.inverse_harmonic_mean_rank</td><td>0.00011</td></tr><tr><td>testing.head.pessimistic.inverse_median_rank</td><td>5e-05</td></tr><tr><td>testing.head.pessimistic.median_absolute_deviation</td><td>13004.64536</td></tr><tr><td>testing.head.pessimistic.median_rank</td><td>18319.5</td></tr><tr><td>testing.head.pessimistic.standard_deviation</td><td>9720.62466</td></tr><tr><td>testing.head.pessimistic.variance</td><td>94490543.6896</td></tr><tr><td>testing.head.pessimistic.z_arithmetic_mean_rank</td><td>-0.98563</td></tr><tr><td>testing.head.pessimistic.z_geometric_mean_rank</td><td>-1.07626</td></tr><tr><td>testing.head.pessimistic.z_hits_at_k</td><td>-0.12207</td></tr><tr><td>testing.head.pessimistic.z_inverse_harmonic_mean_rank</td><td>-0.21937</td></tr><tr><td>testing.head.realistic.adjusted_arithmetic_mean_rank</td><td>1.08047</td></tr><tr><td>testing.head.realistic.adjusted_arithmetic_mean_rank_index</td><td>-0.08048</td></tr><tr><td>testing.head.realistic.adjusted_geometric_mean_rank_index</td><td>-0.14985</td></tr><tr><td>testing.head.realistic.adjusted_hits_at_k</td><td>-0.0003</td></tr><tr><td>testing.head.realistic.adjusted_inverse_harmonic_mean_rank</td><td>-0.00022</td></tr><tr><td>testing.head.realistic.arithmetic_mean_rank</td><td>18132.51953</td></tr><tr><td>testing.head.realistic.count</td><td>50</td></tr><tr><td>testing.head.realistic.geometric_mean_rank</td><td>14340.37305</td></tr><tr><td>testing.head.realistic.harmonic_mean_rank</td><td>9029.3223</td></tr><tr><td>testing.head.realistic.hits_at_1</td><td>0</td></tr><tr><td>testing.head.realistic.hits_at_10</td><td>0</td></tr><tr><td>testing.head.realistic.hits_at_3</td><td>0</td></tr><tr><td>testing.head.realistic.hits_at_5</td><td>0</td></tr><tr><td>testing.head.realistic.inverse_arithmetic_mean_rank</td><td>6e-05</td></tr><tr><td>testing.head.realistic.inverse_geometric_mean_rank</td><td>7e-05</td></tr><tr><td>testing.head.realistic.inverse_harmonic_mean_rank</td><td>0.00011</td></tr><tr><td>testing.head.realistic.inverse_median_rank</td><td>5e-05</td></tr><tr><td>testing.head.realistic.median_absolute_deviation</td><td>13004.64536</td></tr><tr><td>testing.head.realistic.median_rank</td><td>18319.5</td></tr><tr><td>testing.head.realistic.standard_deviation</td><td>9720.62402</td></tr><tr><td>testing.head.realistic.variance</td><td>94490528.0</td></tr><tr><td>testing.head.realistic.z_arithmetic_mean_rank</td><td>-0.98563</td></tr><tr><td>testing.head.realistic.z_geometric_mean_rank</td><td>-1.07626</td></tr><tr><td>testing.head.realistic.z_hits_at_k</td><td>-0.12207</td></tr><tr><td>testing.head.realistic.z_inverse_harmonic_mean_rank</td><td>-0.21937</td></tr><tr><td>testing.tail.optimistic.adjusted_arithmetic_mean_rank</td><td>0.96906</td></tr><tr><td>testing.tail.optimistic.adjusted_arithmetic_mean_rank_index</td><td>0.03094</td></tr><tr><td>testing.tail.optimistic.adjusted_geometric_mean_rank_index</td><td>-0.01343</td></tr><tr><td>testing.tail.optimistic.adjusted_hits_at_k</td><td>-0.0003</td></tr><tr><td>testing.tail.optimistic.adjusted_inverse_harmonic_mean_rank</td><td>-0.00019</td></tr><tr><td>testing.tail.optimistic.arithmetic_mean_rank</td><td>16262.72</td></tr><tr><td>testing.tail.optimistic.count</td><td>50</td></tr><tr><td>testing.tail.optimistic.geometric_mean_rank</td><td>12639.13452</td></tr><tr><td>testing.tail.optimistic.harmonic_mean_rank</td><td>7261.67727</td></tr><tr><td>testing.tail.optimistic.hits_at_1</td><td>0</td></tr><tr><td>testing.tail.optimistic.hits_at_10</td><td>0</td></tr><tr><td>testing.tail.optimistic.hits_at_3</td><td>0</td></tr><tr><td>testing.tail.optimistic.hits_at_5</td><td>0</td></tr><tr><td>testing.tail.optimistic.inverse_arithmetic_mean_rank</td><td>6e-05</td></tr><tr><td>testing.tail.optimistic.inverse_geometric_mean_rank</td><td>8e-05</td></tr><tr><td>testing.tail.optimistic.inverse_harmonic_mean_rank</td><td>0.00014</td></tr><tr><td>testing.tail.optimistic.inverse_median_rank</td><td>6e-05</td></tr><tr><td>testing.tail.optimistic.median_absolute_deviation</td><td>11684.38808</td></tr><tr><td>testing.tail.optimistic.median_rank</td><td>16100</td></tr><tr><td>testing.tail.optimistic.standard_deviation</td><td>8638.74165</td></tr><tr><td>testing.tail.optimistic.variance</td><td>74627857.3216</td></tr><tr><td>testing.tail.optimistic.z_arithmetic_mean_rank</td><td>0.37898</td></tr><tr><td>testing.tail.optimistic.z_geometric_mean_rank</td><td>-0.09646</td></tr><tr><td>testing.tail.optimistic.z_hits_at_k</td><td>-0.12207</td></tr><tr><td>testing.tail.optimistic.z_inverse_harmonic_mean_rank</td><td>-0.19211</td></tr><tr><td>testing.tail.pessimistic.adjusted_arithmetic_mean_rank</td><td>0.96906</td></tr><tr><td>testing.tail.pessimistic.adjusted_arithmetic_mean_rank_index</td><td>0.03094</td></tr><tr><td>testing.tail.pessimistic.adjusted_geometric_mean_rank_index</td><td>-0.01343</td></tr><tr><td>testing.tail.pessimistic.adjusted_hits_at_k</td><td>-0.0003</td></tr><tr><td>testing.tail.pessimistic.adjusted_inverse_harmonic_mean_rank</td><td>-0.00019</td></tr><tr><td>testing.tail.pessimistic.arithmetic_mean_rank</td><td>16262.72</td></tr><tr><td>testing.tail.pessimistic.count</td><td>50</td></tr><tr><td>testing.tail.pessimistic.geometric_mean_rank</td><td>12639.13452</td></tr><tr><td>testing.tail.pessimistic.harmonic_mean_rank</td><td>7261.67727</td></tr><tr><td>testing.tail.pessimistic.hits_at_1</td><td>0</td></tr><tr><td>testing.tail.pessimistic.hits_at_10</td><td>0</td></tr><tr><td>testing.tail.pessimistic.hits_at_3</td><td>0</td></tr><tr><td>testing.tail.pessimistic.hits_at_5</td><td>0</td></tr><tr><td>testing.tail.pessimistic.inverse_arithmetic_mean_rank</td><td>6e-05</td></tr><tr><td>testing.tail.pessimistic.inverse_geometric_mean_rank</td><td>8e-05</td></tr><tr><td>testing.tail.pessimistic.inverse_harmonic_mean_rank</td><td>0.00014</td></tr><tr><td>testing.tail.pessimistic.inverse_median_rank</td><td>6e-05</td></tr><tr><td>testing.tail.pessimistic.median_absolute_deviation</td><td>11684.38808</td></tr><tr><td>testing.tail.pessimistic.median_rank</td><td>16100</td></tr><tr><td>testing.tail.pessimistic.standard_deviation</td><td>8638.74165</td></tr><tr><td>testing.tail.pessimistic.variance</td><td>74627857.3216</td></tr><tr><td>testing.tail.pessimistic.z_arithmetic_mean_rank</td><td>0.37898</td></tr><tr><td>testing.tail.pessimistic.z_geometric_mean_rank</td><td>-0.09646</td></tr><tr><td>testing.tail.pessimistic.z_hits_at_k</td><td>-0.12207</td></tr><tr><td>testing.tail.pessimistic.z_inverse_harmonic_mean_rank</td><td>-0.19211</td></tr><tr><td>testing.tail.realistic.adjusted_arithmetic_mean_rank</td><td>0.96906</td></tr><tr><td>testing.tail.realistic.adjusted_arithmetic_mean_rank_index</td><td>0.03094</td></tr><tr><td>testing.tail.realistic.adjusted_geometric_mean_rank_index</td><td>-0.01343</td></tr><tr><td>testing.tail.realistic.adjusted_hits_at_k</td><td>-0.0003</td></tr><tr><td>testing.tail.realistic.adjusted_inverse_harmonic_mean_rank</td><td>-0.00019</td></tr><tr><td>testing.tail.realistic.arithmetic_mean_rank</td><td>16262.71973</td></tr><tr><td>testing.tail.realistic.count</td><td>50</td></tr><tr><td>testing.tail.realistic.geometric_mean_rank</td><td>12639.13672</td></tr><tr><td>testing.tail.realistic.harmonic_mean_rank</td><td>7261.67755</td></tr><tr><td>testing.tail.realistic.hits_at_1</td><td>0</td></tr><tr><td>testing.tail.realistic.hits_at_10</td><td>0</td></tr><tr><td>testing.tail.realistic.hits_at_3</td><td>0</td></tr><tr><td>testing.tail.realistic.hits_at_5</td><td>0</td></tr><tr><td>testing.tail.realistic.inverse_arithmetic_mean_rank</td><td>6e-05</td></tr><tr><td>testing.tail.realistic.inverse_geometric_mean_rank</td><td>8e-05</td></tr><tr><td>testing.tail.realistic.inverse_harmonic_mean_rank</td><td>0.00014</td></tr><tr><td>testing.tail.realistic.inverse_median_rank</td><td>6e-05</td></tr><tr><td>testing.tail.realistic.median_absolute_deviation</td><td>11684.38808</td></tr><tr><td>testing.tail.realistic.median_rank</td><td>16100</td></tr><tr><td>testing.tail.realistic.standard_deviation</td><td>8638.74219</td></tr><tr><td>testing.tail.realistic.variance</td><td>74627864.0</td></tr><tr><td>testing.tail.realistic.z_arithmetic_mean_rank</td><td>0.37898</td></tr><tr><td>testing.tail.realistic.z_geometric_mean_rank</td><td>-0.09646</td></tr><tr><td>testing.tail.realistic.z_hits_at_k</td><td>-0.12207</td></tr><tr><td>testing.tail.realistic.z_inverse_harmonic_mean_rank</td><td>-0.19211</td></tr><tr><td>times.final_evaluation</td><td>1.16744</td></tr><tr><td>times.total_training</td><td>271.5662</td></tr></table><br/></div></div>"
      ],
      "text/plain": [
       "<IPython.core.display.HTML object>"
      ]
     },
     "metadata": {},
     "output_type": "display_data"
    },
    {
     "data": {
      "text/html": [
       " View run <strong style=\"color:#cdcd00\">gallant-bee-59</strong> at: <a href='https://wandb.ai/fieng/embedding/runs/xt02h9h6' target=\"_blank\">https://wandb.ai/fieng/embedding/runs/xt02h9h6</a><br/> View project at: <a href='https://wandb.ai/fieng/embedding' target=\"_blank\">https://wandb.ai/fieng/embedding</a><br/>Synced 5 W&B file(s), 0 media file(s), 0 artifact file(s) and 0 other file(s)"
      ],
      "text/plain": [
       "<IPython.core.display.HTML object>"
      ]
     },
     "metadata": {},
     "output_type": "display_data"
    },
    {
     "data": {
      "text/html": [
       "Find logs at: <code>./wandb/run-20250416_153041-xt02h9h6/logs</code>"
      ],
      "text/plain": [
       "<IPython.core.display.HTML object>"
      ]
     },
     "metadata": {},
     "output_type": "display_data"
    }
   ],
   "source": [
    "import experiment.filtering as filtering\n",
    "\n",
    "filtred_df = filtering.create_filtred_df(df, evaluation_df, missing_df)"
   ]
  },
  {
   "cell_type": "code",
   "execution_count": 4,
   "metadata": {},
   "outputs": [],
   "source": [
    "filtred_df = filtred_df.merge(evaluation_df, how='left')\n",
    "true_cand_df = filtred_df[filtred_df['Missing'] == 1].sample(250)\n",
    "false_cand_df = filtred_df[filtred_df['Missing'] == 0].sample(250)\n",
    "filtred_df_sample = pd.concat([true_cand_df, false_cand_df])\n",
    "filtred_df_sample = filtred_df_sample.sample(frac=1)"
   ]
  },
  {
   "cell_type": "code",
   "execution_count": 5,
   "metadata": {},
   "outputs": [],
   "source": [
    "from langchain_community.document_loaders.csv_loader import CSVLoader\n",
    "from langchain_experimental.text_splitter import SemanticChunker\n",
    "from langchain.embeddings import HuggingFaceEmbeddings\n",
    "from langchain_community.embeddings import HuggingFaceEmbeddings\n",
    "from langchain_community.vectorstores import FAISS\n",
    "from langchain_community.llms import Ollama"
   ]
  },
  {
   "cell_type": "code",
   "execution_count": 6,
   "metadata": {},
   "outputs": [
    {
     "name": "stderr",
     "output_type": "stream",
     "text": [
      "/var/folders/_3/wtwzgv1d3rlfz233qkf36kg00000gp/T/ipykernel_69826/2656201252.py:3: LangChainDeprecationWarning: The class `HuggingFaceEmbeddings` was deprecated in LangChain 0.2.2 and will be removed in 1.0. An updated version of the class exists in the :class:`~langchain-huggingface package and should be used instead. To use it run `pip install -U :class:`~langchain-huggingface` and import as `from :class:`~langchain_huggingface import HuggingFaceEmbeddings``.\n",
      "  text_splitter = SemanticChunker(HuggingFaceEmbeddings())\n",
      "/var/folders/_3/wtwzgv1d3rlfz233qkf36kg00000gp/T/ipykernel_69826/2656201252.py:3: LangChainDeprecationWarning: Default values for HuggingFaceEmbeddings.model_name were deprecated in LangChain 0.2.16 and will be removed in 0.4.0. Explicitly pass a model_name to the HuggingFaceEmbeddings constructor instead.\n",
      "  text_splitter = SemanticChunker(HuggingFaceEmbeddings())\n",
      "/var/folders/_3/wtwzgv1d3rlfz233qkf36kg00000gp/T/ipykernel_69826/2656201252.py:6: LangChainDeprecationWarning: Default values for HuggingFaceEmbeddings.model_name were deprecated in LangChain 0.2.16 and will be removed in 0.4.0. Explicitly pass a model_name to the HuggingFaceEmbeddings constructor instead.\n",
      "  embedder = HuggingFaceEmbeddings()\n",
      "/var/folders/_3/wtwzgv1d3rlfz233qkf36kg00000gp/T/ipykernel_69826/2656201252.py:13: LangChainDeprecationWarning: The class `Ollama` was deprecated in LangChain 0.3.1 and will be removed in 1.0.0. An updated version of the class exists in the :class:`~langchain-ollama package and should be used instead. To use it run `pip install -U :class:`~langchain-ollama` and import as `from :class:`~langchain_ollama import OllamaLLM``.\n",
      "  llm = Ollama(model=\"mistral\", temperature=0.1)\n"
     ]
    }
   ],
   "source": [
    "loader = CSVLoader(file_path=path)\n",
    "docs = loader.load()\n",
    "text_splitter = SemanticChunker(HuggingFaceEmbeddings())\n",
    "documents = text_splitter.split_documents(docs)\n",
    "# Instantiate the embedding model\n",
    "embedder = HuggingFaceEmbeddings()\n",
    "# Create the vector store \n",
    "vector = FAISS.from_documents(documents, embedder)\n",
    "\n",
    "\n",
    "retriever = vector.as_retriever(search_type=\"similarity\", search_kwargs={\"k\": 2})\n",
    "# Define llm\n",
    "llm = Ollama(model=\"mistral\", temperature=0.1)"
   ]
  },
  {
   "cell_type": "code",
   "execution_count": 7,
   "metadata": {},
   "outputs": [],
   "source": [
    "from langchain.chains import RetrievalQA\n",
    "from langchain.chains.llm import LLMChain\n",
    "from langchain.chains.combine_documents.stuff import StuffDocumentsChain\n",
    "from langchain.prompts import PromptTemplate\n",
    "from langchain_core.prompts import ChatPromptTemplate"
   ]
  },
  {
   "cell_type": "markdown",
   "metadata": {},
   "source": [
    "## Evaluation"
   ]
  },
  {
   "cell_type": "code",
   "execution_count": 8,
   "metadata": {},
   "outputs": [],
   "source": [
    "def eval_triple(triple):\n",
    "    template = \"\"\"\n",
    "    1. Evaluate if the triple represent a correct fact or not.\\n\n",
    "    2. Is the triple correct: answer \"1\" if it is correct and \"0\" otherwise.\\n\n",
    "    3. If you don't know the answer, just say that \"-1\"\\n\n",
    "    4. Start the answer with 'Score:'\\n\n",
    "    5. A triple represent a relation between the head entity and the tail entity\\n\n",
    "\n",
    "    Triple: {triple}\n",
    "\n",
    "    Helpful Answer:\"\"\"\n",
    "    prompt = ChatPromptTemplate.from_template(template)\n",
    "    model = llm\n",
    "    chain = prompt | model\n",
    "\n",
    "    answer = chain.invoke({\"triple\":triple})\n",
    "   \n",
    "    return answer"
   ]
  },
  {
   "cell_type": "code",
   "execution_count": 9,
   "metadata": {},
   "outputs": [],
   "source": [
    "triple_list = []\n",
    "for item in filtred_df_sample.iterrows():\n",
    "    triple = item[1]\n",
    "    head = triple['Head']\n",
    "    relation = triple['Relation']\n",
    "    tail = triple['Tail']\n",
    "    triple_sentence = f\"Head:{head}\\t Relation:{relation}\\t Tail:{tail}\"\n",
    "    triple_list.append(triple_sentence)"
   ]
  },
  {
   "cell_type": "code",
   "execution_count": 10,
   "metadata": {},
   "outputs": [],
   "source": [
    "score_list = []\n",
    "for triple in triple_list:\n",
    "    score = eval_triple(triple)\n",
    "    score_list.append(score)"
   ]
  },
  {
   "cell_type": "markdown",
   "metadata": {},
   "source": [
    "## Result"
   ]
  },
  {
   "cell_type": "code",
   "execution_count": 11,
   "metadata": {},
   "outputs": [],
   "source": [
    "def clean_score(list_score) -> list[float]:\n",
    "    list_score = [item.rstrip('.') if item.endswith('.') else item for item in list_score]\n",
    "    list_score = [0 if item == '' else item for item in list_score]\n",
    "    score_bin = [1 if item == '1'  else 0 for item in list_score]\n",
    "    return score_bin\n",
    "\n",
    "\n",
    "def extract_score(text:str)->str:\n",
    "    # Function to extract score\n",
    "    # Find the starting index of \"Score: \"\n",
    "    start_index = text.find(\"Score: \") + len(\"Score: \")\n",
    "\n",
    "    # Find the end of the number, which could be marked by a non-digit character\n",
    "    end_index = start_index\n",
    "    while end_index < len(text) and (text[end_index].isdigit() or text[end_index] == '.'):\n",
    "        end_index += 1\n",
    "\n",
    "    # Extract and return the number using slicing\n",
    "    return text[start_index:end_index]"
   ]
  },
  {
   "cell_type": "code",
   "execution_count": 12,
   "metadata": {},
   "outputs": [],
   "source": [
    "new_score_list = [extract_score(score) for score in score_list]\n",
    "new_score_list = clean_score(new_score_list)"
   ]
  },
  {
   "cell_type": "code",
   "execution_count": 16,
   "metadata": {},
   "outputs": [],
   "source": [
    "filtred_df_sample['Pred'] = new_score_list"
   ]
  },
  {
   "cell_type": "code",
   "execution_count": 17,
   "metadata": {},
   "outputs": [],
   "source": [
    "import matplotlib.pyplot as plt\n",
    "import seaborn as sns\n",
    "from sklearn.metrics import confusion_matrix\n",
    "\n",
    "def compute_score(prediction, ground_truth):\n",
    "    cm = confusion_matrix(ground_truth, prediction)\n",
    "    TN = cm[0][0]\n",
    "    FN = cm[1][0]\n",
    "    TP = cm[1][1]\n",
    "    FP = cm[0][1]\n",
    "    accuracy = (TN + TP) / (TN + TP + FN + FP)\n",
    "    f1_score = (2 * TP) / (2 * TP + FP + FN)\n",
    "    recall = TP / (TP + FN)\n",
    "    precision = TP / (TP + FP)\n",
    "    return accuracy, f1_score, recall, precision"
   ]
  },
  {
   "cell_type": "code",
   "execution_count": 18,
   "metadata": {},
   "outputs": [
    {
     "data": {
      "image/png": "[encoded data removed]",
      "text/plain": [
       "<Figure size 640x480 with 1 Axes>"
      ]
     },
     "metadata": {},
     "output_type": "display_data"
    }
   ],
   "source": [
    "import matplotlib\n",
    "import matplotlib.pyplot as plt\n",
    "import numpy as np \n",
    "\n",
    "ground_truth = filtred_df_sample['Missing']\n",
    "prediction = filtred_df_sample['Pred']\n",
    "accuracy, f1_score, recall, precision = compute_score(prediction, ground_truth)\n",
    "scores = [accuracy, f1_score, recall, precision]\n",
    "colors = ['#377eb8', '#ff7f00', '#4daf4a',\n",
    "                  '#f781bf', '#a65628', '#984ea3',\n",
    "                  '#999999', '#e41a1c', '#dede00']\n",
    "labels = ['Accuracy', 'F1 Score', 'Recall', 'Precision']\n",
    "# setup family font\n",
    "plt.rc('font', family='serif',size=17)\n",
    "fig, ax = plt.subplots()\n",
    "bars = ax.bar(labels, scores , label=labels, color=colors[:4])\n",
    "# Set y-limit to center data\n",
    "ax.set_ylim(0.4,1)\n",
    "\n",
    "# Add legend with title\n",
    "#ax.legend(title='Different methods', fontsize = 15, loc=2)\n",
    "# Add gridlines (only on the y-axis)\n",
    "ax.grid(linewidth=1.2, linestyle='--', axis='y', color='grey')\n",
    "ax.set_title('Score on CoDeX dataset(triple no context)')\n",
    "ax.bar_label(bars)\n",
    "#plt.show()\n",
    "plt.savefig('results/codex_m_no_context.png')"
   ]
  },
  {
   "cell_type": "code",
   "execution_count": 19,
   "metadata": {},
   "outputs": [
    {
     "name": "stdout",
     "output_type": "stream",
     "text": [
      "Accuracy 0.55\n",
      "Precision:0.58\n",
      "Recall:0.36\n",
      "F1:0.45\n"
     ]
    }
   ],
   "source": [
    "print(f'Accuracy {accuracy:.2f}\\nPrecision:{precision:.2f}\\nRecall:{recall:.2f}\\nF1:{f1_score:.2f}')"
   ]
  },
  {
   "cell_type": "code",
   "execution_count": null,
   "metadata": {},
   "outputs": [],
   "source": []
  }
 ],
 "metadata": {
  "kernelspec": {
   "display_name": "langchain-env",
   "language": "python",
   "name": "python3"
  },
  "language_info": {
   "codemirror_mode": {
    "name": "ipython",
    "version": 3
   },
   "file_extension": ".py",
   "mimetype": "text/x-python",
   "name": "python",
   "nbconvert_exporter": "python",
   "pygments_lexer": "ipython3",
   "version": "3.10.12"
  }
 },
 "nbformat": 4,
 "nbformat_minor": 2
}
