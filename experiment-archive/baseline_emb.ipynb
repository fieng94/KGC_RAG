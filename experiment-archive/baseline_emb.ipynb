{
 "cells": [
  {
   "cell_type": "code",
   "execution_count": 1,
   "metadata": {},
   "outputs": [],
   "source": [
    "import pandas as pd\n",
    "import experiment.preprocess as preprocess\n",
    "from candidates_generation import triple_gen\n",
    "import importlib\n",
    "import numpy as np"
   ]
  },
  {
   "cell_type": "code",
   "execution_count": 2,
   "metadata": {},
   "outputs": [
    {
     "name": "stderr",
     "output_type": "stream",
     "text": [
      "/Users/fieng/Project/KGC_RAG/experiment/preprocess.py:29: SettingWithCopyWarning: \n",
      "A value is trying to be set on a copy of a slice from a DataFrame.\n",
      "Try using .loc[row_indexer,col_indexer] = value instead\n",
      "\n",
      "See the caveats in the documentation: https://pandas.pydata.org/pandas-docs/stable/user_guide/indexing.html#returning-a-view-versus-a-copy\n",
      "  true_cand_df['Missing'] = 1\n",
      "/Users/fieng/Project/KGC_RAG/experiment/preprocess.py:30: SettingWithCopyWarning: \n",
      "A value is trying to be set on a copy of a slice from a DataFrame.\n",
      "Try using .loc[row_indexer,col_indexer] = value instead\n",
      "\n",
      "See the caveats in the documentation: https://pandas.pydata.org/pandas-docs/stable/user_guide/indexing.html#returning-a-view-versus-a-copy\n",
      "  false_cand_df['Missing'] = 0\n"
     ]
    }
   ],
   "source": [
    "path ='data/codex-m/data_sample.csv'\n",
    "df = pd.read_csv(path)\n",
    "evaluation_df, candidates_df, missing_df = preprocess.create_experiment_df(path)"
   ]
  },
  {
   "cell_type": "code",
   "execution_count": null,
   "metadata": {},
   "outputs": [],
   "source": [
    "import experiment.filtering as filtering\n",
    "\n",
    "filtred_df = filtering.create_filtred_df(df, evaluation_df, missing_df)"
   ]
  },
  {
   "cell_type": "code",
   "execution_count": 3,
   "metadata": {},
   "outputs": [
    {
     "name": "stderr",
     "output_type": "stream",
     "text": [
      "/Users/fieng/Project/KGC_RAG/langchain-env/lib/python3.10/site-packages/tqdm/auto.py:21: TqdmWarning: IProgress not found. Please update jupyter and ipywidgets. See https://ipywidgets.readthedocs.io/en/stable/user_install.html\n",
      "  from .autonotebook import tqdm as notebook_tqdm\n",
      "\u001b[34m\u001b[1mwandb\u001b[0m: Using wandb-core as the SDK backend.  Please refer to https://wandb.me/wandb-core for more information.\n",
      "\u001b[34m\u001b[1mwandb\u001b[0m: Currently logged in as: \u001b[33mfieng\u001b[0m. Use \u001b[1m`wandb login --relogin`\u001b[0m to force relogin\n"
     ]
    },
    {
     "data": {
      "text/html": [
       "Tracking run with wandb version 0.18.7"
      ],
      "text/plain": [
       "<IPython.core.display.HTML object>"
      ]
     },
     "metadata": {},
     "output_type": "display_data"
    },
    {
     "data": {
      "text/html": [
       "Run data is saved locally in <code>/Users/fieng/Project/KGC_RAG/wandb/run-20250321_132201-t98k31ph</code>"
      ],
      "text/plain": [
       "<IPython.core.display.HTML object>"
      ]
     },
     "metadata": {},
     "output_type": "display_data"
    },
    {
     "data": {
      "text/html": [
       "Syncing run <strong><a href='https://wandb.ai/fieng/embedding/runs/t98k31ph' target=\"_blank\">logical-totem-43</a></strong> to <a href='https://wandb.ai/fieng/embedding' target=\"_blank\">Weights & Biases</a> (<a href='https://wandb.me/developer-guide' target=\"_blank\">docs</a>)<br/>"
      ],
      "text/plain": [
       "<IPython.core.display.HTML object>"
      ]
     },
     "metadata": {},
     "output_type": "display_data"
    },
    {
     "data": {
      "text/html": [
       " View project at <a href='https://wandb.ai/fieng/embedding' target=\"_blank\">https://wandb.ai/fieng/embedding</a>"
      ],
      "text/plain": [
       "<IPython.core.display.HTML object>"
      ]
     },
     "metadata": {},
     "output_type": "display_data"
    },
    {
     "data": {
      "text/html": [
       " View run at <a href='https://wandb.ai/fieng/embedding/runs/t98k31ph' target=\"_blank\">https://wandb.ai/fieng/embedding/runs/t98k31ph</a>"
      ],
      "text/plain": [
       "<IPython.core.display.HTML object>"
      ]
     },
     "metadata": {},
     "output_type": "display_data"
    },
    {
     "name": "stderr",
     "output_type": "stream",
     "text": [
      "No cuda devices were available. The model runs on CPU\n",
      "Training epochs on cpu: 100%|██████████| 50/50 [05:11<00:00,  6.24s/epoch, loss=2.01, prev_loss=2.05]\n",
      "WARNING:pykeen.utils:Using automatic batch size on device.type='cpu' can cause unexplained out-of-memory crashes. Therefore, we use a conservative small batch_size=32. Performance may be improved by explicitly specifying a larger batch size.\n",
      "Evaluating on cpu:   0%|          | 0.00/50.0 [00:00<?, ?triple/s]WARNING:torch_max_mem.api:Encountered tensors on device_types={'cpu'} while only ['cuda'] are considered safe for automatic memory utilization maximization. This may lead to undocumented crashes (but can be safe, too).\n",
      "Evaluating on cpu: 100%|██████████| 50.0/50.0 [00:00<00:00, 73.4triple/s]\n",
      "INFO:pykeen.evaluation.evaluator:Evaluation took 0.86s seconds\n"
     ]
    },
    {
     "data": {
      "text/html": [
       "\n",
       "    <style>\n",
       "        .wandb-row {\n",
       "            display: flex;\n",
       "            flex-direction: row;\n",
       "            flex-wrap: wrap;\n",
       "            justify-content: flex-start;\n",
       "            width: 100%;\n",
       "        }\n",
       "        .wandb-col {\n",
       "            display: flex;\n",
       "            flex-direction: column;\n",
       "            flex-basis: 100%;\n",
       "            flex: 1;\n",
       "            padding: 10px;\n",
       "        }\n",
       "    </style>\n",
       "<div class=\"wandb-row\"><div class=\"wandb-col\"><h3>Run history:</h3><br/><table class=\"wandb\"><tr><td>loss</td><td>▃▁▃▃█▅▁▄▅▅▃▆▄▅▆▅▃▅▅▅▆▅▄▅▅▄▅▅▅▄▅▆▅▇▆▅▇▅▅▃</td></tr><tr><td>testing.both.optimistic.adjusted_arithmetic_mean_rank</td><td>▁</td></tr><tr><td>testing.both.optimistic.adjusted_arithmetic_mean_rank_index</td><td>▁</td></tr><tr><td>testing.both.optimistic.adjusted_geometric_mean_rank_index</td><td>▁</td></tr><tr><td>testing.both.optimistic.adjusted_hits_at_k</td><td>▁</td></tr><tr><td>testing.both.optimistic.adjusted_inverse_harmonic_mean_rank</td><td>▁</td></tr><tr><td>testing.both.optimistic.arithmetic_mean_rank</td><td>▁</td></tr><tr><td>testing.both.optimistic.count</td><td>▁</td></tr><tr><td>testing.both.optimistic.geometric_mean_rank</td><td>▁</td></tr><tr><td>testing.both.optimistic.harmonic_mean_rank</td><td>▁</td></tr><tr><td>testing.both.optimistic.hits_at_1</td><td>▁</td></tr><tr><td>testing.both.optimistic.hits_at_10</td><td>▁</td></tr><tr><td>testing.both.optimistic.hits_at_3</td><td>▁</td></tr><tr><td>testing.both.optimistic.hits_at_5</td><td>▁</td></tr><tr><td>testing.both.optimistic.inverse_arithmetic_mean_rank</td><td>▁</td></tr><tr><td>testing.both.optimistic.inverse_geometric_mean_rank</td><td>▁</td></tr><tr><td>testing.both.optimistic.inverse_harmonic_mean_rank</td><td>▁</td></tr><tr><td>testing.both.optimistic.inverse_median_rank</td><td>▁</td></tr><tr><td>testing.both.optimistic.median_absolute_deviation</td><td>▁</td></tr><tr><td>testing.both.optimistic.median_rank</td><td>▁</td></tr><tr><td>testing.both.optimistic.standard_deviation</td><td>▁</td></tr><tr><td>testing.both.optimistic.variance</td><td>▁</td></tr><tr><td>testing.both.optimistic.z_arithmetic_mean_rank</td><td>▁</td></tr><tr><td>testing.both.optimistic.z_geometric_mean_rank</td><td>▁</td></tr><tr><td>testing.both.optimistic.z_hits_at_k</td><td>▁</td></tr><tr><td>testing.both.optimistic.z_inverse_harmonic_mean_rank</td><td>▁</td></tr><tr><td>testing.both.pessimistic.adjusted_arithmetic_mean_rank</td><td>▁</td></tr><tr><td>testing.both.pessimistic.adjusted_arithmetic_mean_rank_index</td><td>▁</td></tr><tr><td>testing.both.pessimistic.adjusted_geometric_mean_rank_index</td><td>▁</td></tr><tr><td>testing.both.pessimistic.adjusted_hits_at_k</td><td>▁</td></tr><tr><td>testing.both.pessimistic.adjusted_inverse_harmonic_mean_rank</td><td>▁</td></tr><tr><td>testing.both.pessimistic.arithmetic_mean_rank</td><td>▁</td></tr><tr><td>testing.both.pessimistic.count</td><td>▁</td></tr><tr><td>testing.both.pessimistic.geometric_mean_rank</td><td>▁</td></tr><tr><td>testing.both.pessimistic.harmonic_mean_rank</td><td>▁</td></tr><tr><td>testing.both.pessimistic.hits_at_1</td><td>▁</td></tr><tr><td>testing.both.pessimistic.hits_at_10</td><td>▁</td></tr><tr><td>testing.both.pessimistic.hits_at_3</td><td>▁</td></tr><tr><td>testing.both.pessimistic.hits_at_5</td><td>▁</td></tr><tr><td>testing.both.pessimistic.inverse_arithmetic_mean_rank</td><td>▁</td></tr><tr><td>testing.both.pessimistic.inverse_geometric_mean_rank</td><td>▁</td></tr><tr><td>testing.both.pessimistic.inverse_harmonic_mean_rank</td><td>▁</td></tr><tr><td>testing.both.pessimistic.inverse_median_rank</td><td>▁</td></tr><tr><td>testing.both.pessimistic.median_absolute_deviation</td><td>▁</td></tr><tr><td>testing.both.pessimistic.median_rank</td><td>▁</td></tr><tr><td>testing.both.pessimistic.standard_deviation</td><td>▁</td></tr><tr><td>testing.both.pessimistic.variance</td><td>▁</td></tr><tr><td>testing.both.pessimistic.z_arithmetic_mean_rank</td><td>▁</td></tr><tr><td>testing.both.pessimistic.z_geometric_mean_rank</td><td>▁</td></tr><tr><td>testing.both.pessimistic.z_hits_at_k</td><td>▁</td></tr><tr><td>testing.both.pessimistic.z_inverse_harmonic_mean_rank</td><td>▁</td></tr><tr><td>testing.both.realistic.adjusted_arithmetic_mean_rank</td><td>▁</td></tr><tr><td>testing.both.realistic.adjusted_arithmetic_mean_rank_index</td><td>▁</td></tr><tr><td>testing.both.realistic.adjusted_geometric_mean_rank_index</td><td>▁</td></tr><tr><td>testing.both.realistic.adjusted_hits_at_k</td><td>▁</td></tr><tr><td>testing.both.realistic.adjusted_inverse_harmonic_mean_rank</td><td>▁</td></tr><tr><td>testing.both.realistic.arithmetic_mean_rank</td><td>▁</td></tr><tr><td>testing.both.realistic.count</td><td>▁</td></tr><tr><td>testing.both.realistic.geometric_mean_rank</td><td>▁</td></tr><tr><td>testing.both.realistic.harmonic_mean_rank</td><td>▁</td></tr><tr><td>testing.both.realistic.hits_at_1</td><td>▁</td></tr><tr><td>testing.both.realistic.hits_at_10</td><td>▁</td></tr><tr><td>testing.both.realistic.hits_at_3</td><td>▁</td></tr><tr><td>testing.both.realistic.hits_at_5</td><td>▁</td></tr><tr><td>testing.both.realistic.inverse_arithmetic_mean_rank</td><td>▁</td></tr><tr><td>testing.both.realistic.inverse_geometric_mean_rank</td><td>▁</td></tr><tr><td>testing.both.realistic.inverse_harmonic_mean_rank</td><td>▁</td></tr><tr><td>testing.both.realistic.inverse_median_rank</td><td>▁</td></tr><tr><td>testing.both.realistic.median_absolute_deviation</td><td>▁</td></tr><tr><td>testing.both.realistic.median_rank</td><td>▁</td></tr><tr><td>testing.both.realistic.standard_deviation</td><td>▁</td></tr><tr><td>testing.both.realistic.variance</td><td>▁</td></tr><tr><td>testing.both.realistic.z_arithmetic_mean_rank</td><td>▁</td></tr><tr><td>testing.both.realistic.z_geometric_mean_rank</td><td>▁</td></tr><tr><td>testing.both.realistic.z_hits_at_k</td><td>▁</td></tr><tr><td>testing.both.realistic.z_inverse_harmonic_mean_rank</td><td>▁</td></tr><tr><td>testing.head.optimistic.adjusted_arithmetic_mean_rank</td><td>▁</td></tr><tr><td>testing.head.optimistic.adjusted_arithmetic_mean_rank_index</td><td>▁</td></tr><tr><td>testing.head.optimistic.adjusted_geometric_mean_rank_index</td><td>▁</td></tr><tr><td>testing.head.optimistic.adjusted_hits_at_k</td><td>▁</td></tr><tr><td>testing.head.optimistic.adjusted_inverse_harmonic_mean_rank</td><td>▁</td></tr><tr><td>testing.head.optimistic.arithmetic_mean_rank</td><td>▁</td></tr><tr><td>testing.head.optimistic.count</td><td>▁</td></tr><tr><td>testing.head.optimistic.geometric_mean_rank</td><td>▁</td></tr><tr><td>testing.head.optimistic.harmonic_mean_rank</td><td>▁</td></tr><tr><td>testing.head.optimistic.hits_at_1</td><td>▁</td></tr><tr><td>testing.head.optimistic.hits_at_10</td><td>▁</td></tr><tr><td>testing.head.optimistic.hits_at_3</td><td>▁</td></tr><tr><td>testing.head.optimistic.hits_at_5</td><td>▁</td></tr><tr><td>testing.head.optimistic.inverse_arithmetic_mean_rank</td><td>▁</td></tr><tr><td>testing.head.optimistic.inverse_geometric_mean_rank</td><td>▁</td></tr><tr><td>testing.head.optimistic.inverse_harmonic_mean_rank</td><td>▁</td></tr><tr><td>testing.head.optimistic.inverse_median_rank</td><td>▁</td></tr><tr><td>testing.head.optimistic.median_absolute_deviation</td><td>▁</td></tr><tr><td>testing.head.optimistic.median_rank</td><td>▁</td></tr><tr><td>testing.head.optimistic.standard_deviation</td><td>▁</td></tr><tr><td>testing.head.optimistic.variance</td><td>▁</td></tr><tr><td>testing.head.optimistic.z_arithmetic_mean_rank</td><td>▁</td></tr><tr><td>testing.head.optimistic.z_geometric_mean_rank</td><td>▁</td></tr><tr><td>testing.head.optimistic.z_hits_at_k</td><td>▁</td></tr><tr><td>testing.head.optimistic.z_inverse_harmonic_mean_rank</td><td>▁</td></tr><tr><td>testing.head.pessimistic.adjusted_arithmetic_mean_rank</td><td>▁</td></tr><tr><td>testing.head.pessimistic.adjusted_arithmetic_mean_rank_index</td><td>▁</td></tr><tr><td>testing.head.pessimistic.adjusted_geometric_mean_rank_index</td><td>▁</td></tr><tr><td>testing.head.pessimistic.adjusted_hits_at_k</td><td>▁</td></tr><tr><td>testing.head.pessimistic.adjusted_inverse_harmonic_mean_rank</td><td>▁</td></tr><tr><td>testing.head.pessimistic.arithmetic_mean_rank</td><td>▁</td></tr><tr><td>testing.head.pessimistic.count</td><td>▁</td></tr><tr><td>testing.head.pessimistic.geometric_mean_rank</td><td>▁</td></tr><tr><td>testing.head.pessimistic.harmonic_mean_rank</td><td>▁</td></tr><tr><td>testing.head.pessimistic.hits_at_1</td><td>▁</td></tr><tr><td>testing.head.pessimistic.hits_at_10</td><td>▁</td></tr><tr><td>testing.head.pessimistic.hits_at_3</td><td>▁</td></tr><tr><td>testing.head.pessimistic.hits_at_5</td><td>▁</td></tr><tr><td>testing.head.pessimistic.inverse_arithmetic_mean_rank</td><td>▁</td></tr><tr><td>testing.head.pessimistic.inverse_geometric_mean_rank</td><td>▁</td></tr><tr><td>testing.head.pessimistic.inverse_harmonic_mean_rank</td><td>▁</td></tr><tr><td>testing.head.pessimistic.inverse_median_rank</td><td>▁</td></tr><tr><td>testing.head.pessimistic.median_absolute_deviation</td><td>▁</td></tr><tr><td>testing.head.pessimistic.median_rank</td><td>▁</td></tr><tr><td>testing.head.pessimistic.standard_deviation</td><td>▁</td></tr><tr><td>testing.head.pessimistic.variance</td><td>▁</td></tr><tr><td>testing.head.pessimistic.z_arithmetic_mean_rank</td><td>▁</td></tr><tr><td>testing.head.pessimistic.z_geometric_mean_rank</td><td>▁</td></tr><tr><td>testing.head.pessimistic.z_hits_at_k</td><td>▁</td></tr><tr><td>testing.head.pessimistic.z_inverse_harmonic_mean_rank</td><td>▁</td></tr><tr><td>testing.head.realistic.adjusted_arithmetic_mean_rank</td><td>▁</td></tr><tr><td>testing.head.realistic.adjusted_arithmetic_mean_rank_index</td><td>▁</td></tr><tr><td>testing.head.realistic.adjusted_geometric_mean_rank_index</td><td>▁</td></tr><tr><td>testing.head.realistic.adjusted_hits_at_k</td><td>▁</td></tr><tr><td>testing.head.realistic.adjusted_inverse_harmonic_mean_rank</td><td>▁</td></tr><tr><td>testing.head.realistic.arithmetic_mean_rank</td><td>▁</td></tr><tr><td>testing.head.realistic.count</td><td>▁</td></tr><tr><td>testing.head.realistic.geometric_mean_rank</td><td>▁</td></tr><tr><td>testing.head.realistic.harmonic_mean_rank</td><td>▁</td></tr><tr><td>testing.head.realistic.hits_at_1</td><td>▁</td></tr><tr><td>testing.head.realistic.hits_at_10</td><td>▁</td></tr><tr><td>testing.head.realistic.hits_at_3</td><td>▁</td></tr><tr><td>testing.head.realistic.hits_at_5</td><td>▁</td></tr><tr><td>testing.head.realistic.inverse_arithmetic_mean_rank</td><td>▁</td></tr><tr><td>testing.head.realistic.inverse_geometric_mean_rank</td><td>▁</td></tr><tr><td>testing.head.realistic.inverse_harmonic_mean_rank</td><td>▁</td></tr><tr><td>testing.head.realistic.inverse_median_rank</td><td>▁</td></tr><tr><td>testing.head.realistic.median_absolute_deviation</td><td>▁</td></tr><tr><td>testing.head.realistic.median_rank</td><td>▁</td></tr><tr><td>testing.head.realistic.standard_deviation</td><td>▁</td></tr><tr><td>testing.head.realistic.variance</td><td>▁</td></tr><tr><td>testing.head.realistic.z_arithmetic_mean_rank</td><td>▁</td></tr><tr><td>testing.head.realistic.z_geometric_mean_rank</td><td>▁</td></tr><tr><td>testing.head.realistic.z_hits_at_k</td><td>▁</td></tr><tr><td>testing.head.realistic.z_inverse_harmonic_mean_rank</td><td>▁</td></tr><tr><td>testing.tail.optimistic.adjusted_arithmetic_mean_rank</td><td>▁</td></tr><tr><td>testing.tail.optimistic.adjusted_arithmetic_mean_rank_index</td><td>▁</td></tr><tr><td>testing.tail.optimistic.adjusted_geometric_mean_rank_index</td><td>▁</td></tr><tr><td>testing.tail.optimistic.adjusted_hits_at_k</td><td>▁</td></tr><tr><td>testing.tail.optimistic.adjusted_inverse_harmonic_mean_rank</td><td>▁</td></tr><tr><td>testing.tail.optimistic.arithmetic_mean_rank</td><td>▁</td></tr><tr><td>testing.tail.optimistic.count</td><td>▁</td></tr><tr><td>testing.tail.optimistic.geometric_mean_rank</td><td>▁</td></tr><tr><td>testing.tail.optimistic.harmonic_mean_rank</td><td>▁</td></tr><tr><td>testing.tail.optimistic.hits_at_1</td><td>▁</td></tr><tr><td>testing.tail.optimistic.hits_at_10</td><td>▁</td></tr><tr><td>testing.tail.optimistic.hits_at_3</td><td>▁</td></tr><tr><td>testing.tail.optimistic.hits_at_5</td><td>▁</td></tr><tr><td>testing.tail.optimistic.inverse_arithmetic_mean_rank</td><td>▁</td></tr><tr><td>testing.tail.optimistic.inverse_geometric_mean_rank</td><td>▁</td></tr><tr><td>testing.tail.optimistic.inverse_harmonic_mean_rank</td><td>▁</td></tr><tr><td>testing.tail.optimistic.inverse_median_rank</td><td>▁</td></tr><tr><td>testing.tail.optimistic.median_absolute_deviation</td><td>▁</td></tr><tr><td>testing.tail.optimistic.median_rank</td><td>▁</td></tr><tr><td>testing.tail.optimistic.standard_deviation</td><td>▁</td></tr><tr><td>testing.tail.optimistic.variance</td><td>▁</td></tr><tr><td>testing.tail.optimistic.z_arithmetic_mean_rank</td><td>▁</td></tr><tr><td>testing.tail.optimistic.z_geometric_mean_rank</td><td>▁</td></tr><tr><td>testing.tail.optimistic.z_hits_at_k</td><td>▁</td></tr><tr><td>testing.tail.optimistic.z_inverse_harmonic_mean_rank</td><td>▁</td></tr><tr><td>testing.tail.pessimistic.adjusted_arithmetic_mean_rank</td><td>▁</td></tr><tr><td>testing.tail.pessimistic.adjusted_arithmetic_mean_rank_index</td><td>▁</td></tr><tr><td>testing.tail.pessimistic.adjusted_geometric_mean_rank_index</td><td>▁</td></tr><tr><td>testing.tail.pessimistic.adjusted_hits_at_k</td><td>▁</td></tr><tr><td>testing.tail.pessimistic.adjusted_inverse_harmonic_mean_rank</td><td>▁</td></tr><tr><td>testing.tail.pessimistic.arithmetic_mean_rank</td><td>▁</td></tr><tr><td>testing.tail.pessimistic.count</td><td>▁</td></tr><tr><td>testing.tail.pessimistic.geometric_mean_rank</td><td>▁</td></tr><tr><td>testing.tail.pessimistic.harmonic_mean_rank</td><td>▁</td></tr><tr><td>testing.tail.pessimistic.hits_at_1</td><td>▁</td></tr><tr><td>testing.tail.pessimistic.hits_at_10</td><td>▁</td></tr><tr><td>testing.tail.pessimistic.hits_at_3</td><td>▁</td></tr><tr><td>testing.tail.pessimistic.hits_at_5</td><td>▁</td></tr><tr><td>testing.tail.pessimistic.inverse_arithmetic_mean_rank</td><td>▁</td></tr><tr><td>testing.tail.pessimistic.inverse_geometric_mean_rank</td><td>▁</td></tr><tr><td>testing.tail.pessimistic.inverse_harmonic_mean_rank</td><td>▁</td></tr><tr><td>testing.tail.pessimistic.inverse_median_rank</td><td>▁</td></tr><tr><td>testing.tail.pessimistic.median_absolute_deviation</td><td>▁</td></tr><tr><td>testing.tail.pessimistic.median_rank</td><td>▁</td></tr><tr><td>testing.tail.pessimistic.standard_deviation</td><td>▁</td></tr><tr><td>testing.tail.pessimistic.variance</td><td>▁</td></tr><tr><td>testing.tail.pessimistic.z_arithmetic_mean_rank</td><td>▁</td></tr><tr><td>testing.tail.pessimistic.z_geometric_mean_rank</td><td>▁</td></tr><tr><td>testing.tail.pessimistic.z_hits_at_k</td><td>▁</td></tr><tr><td>testing.tail.pessimistic.z_inverse_harmonic_mean_rank</td><td>▁</td></tr><tr><td>testing.tail.realistic.adjusted_arithmetic_mean_rank</td><td>▁</td></tr><tr><td>testing.tail.realistic.adjusted_arithmetic_mean_rank_index</td><td>▁</td></tr><tr><td>testing.tail.realistic.adjusted_geometric_mean_rank_index</td><td>▁</td></tr><tr><td>testing.tail.realistic.adjusted_hits_at_k</td><td>▁</td></tr><tr><td>testing.tail.realistic.adjusted_inverse_harmonic_mean_rank</td><td>▁</td></tr><tr><td>testing.tail.realistic.arithmetic_mean_rank</td><td>▁</td></tr><tr><td>testing.tail.realistic.count</td><td>▁</td></tr><tr><td>testing.tail.realistic.geometric_mean_rank</td><td>▁</td></tr><tr><td>testing.tail.realistic.harmonic_mean_rank</td><td>▁</td></tr><tr><td>testing.tail.realistic.hits_at_1</td><td>▁</td></tr><tr><td>testing.tail.realistic.hits_at_10</td><td>▁</td></tr><tr><td>testing.tail.realistic.hits_at_3</td><td>▁</td></tr><tr><td>testing.tail.realistic.hits_at_5</td><td>▁</td></tr><tr><td>testing.tail.realistic.inverse_arithmetic_mean_rank</td><td>▁</td></tr><tr><td>testing.tail.realistic.inverse_geometric_mean_rank</td><td>▁</td></tr><tr><td>testing.tail.realistic.inverse_harmonic_mean_rank</td><td>▁</td></tr><tr><td>testing.tail.realistic.inverse_median_rank</td><td>▁</td></tr><tr><td>testing.tail.realistic.median_absolute_deviation</td><td>▁</td></tr><tr><td>testing.tail.realistic.median_rank</td><td>▁</td></tr><tr><td>testing.tail.realistic.standard_deviation</td><td>▁</td></tr><tr><td>testing.tail.realistic.variance</td><td>▁</td></tr><tr><td>testing.tail.realistic.z_arithmetic_mean_rank</td><td>▁</td></tr><tr><td>testing.tail.realistic.z_geometric_mean_rank</td><td>▁</td></tr><tr><td>testing.tail.realistic.z_hits_at_k</td><td>▁</td></tr><tr><td>testing.tail.realistic.z_inverse_harmonic_mean_rank</td><td>▁</td></tr><tr><td>times.final_evaluation</td><td>▁</td></tr><tr><td>times.total_training</td><td>▁</td></tr></table><br/></div><div class=\"wandb-col\"><h3>Run summary:</h3><br/><table class=\"wandb\"><tr><td>loss</td><td>2.00521</td></tr><tr><td>testing.both.optimistic.adjusted_arithmetic_mean_rank</td><td>1.0032</td></tr><tr><td>testing.both.optimistic.adjusted_arithmetic_mean_rank_index</td><td>-0.0032</td></tr><tr><td>testing.both.optimistic.adjusted_geometric_mean_rank_index</td><td>-0.02654</td></tr><tr><td>testing.both.optimistic.adjusted_hits_at_k</td><td>-0.0006</td></tr><tr><td>testing.both.optimistic.adjusted_inverse_harmonic_mean_rank</td><td>-0.00032</td></tr><tr><td>testing.both.optimistic.arithmetic_mean_rank</td><td>8406.7</td></tr><tr><td>testing.both.optimistic.count</td><td>100</td></tr><tr><td>testing.both.optimistic.geometric_mean_rank</td><td>6362.41319</td></tr><tr><td>testing.both.optimistic.harmonic_mean_rank</td><td>3428.23193</td></tr><tr><td>testing.both.optimistic.hits_at_1</td><td>0</td></tr><tr><td>testing.both.optimistic.hits_at_10</td><td>0</td></tr><tr><td>testing.both.optimistic.hits_at_3</td><td>0</td></tr><tr><td>testing.both.optimistic.hits_at_5</td><td>0</td></tr><tr><td>testing.both.optimistic.inverse_arithmetic_mean_rank</td><td>0.00012</td></tr><tr><td>testing.both.optimistic.inverse_geometric_mean_rank</td><td>0.00016</td></tr><tr><td>testing.both.optimistic.inverse_harmonic_mean_rank</td><td>0.00029</td></tr><tr><td>testing.both.optimistic.inverse_median_rank</td><td>0.00011</td></tr><tr><td>testing.both.optimistic.median_absolute_deviation</td><td>7158.00351</td></tr><tr><td>testing.both.optimistic.median_rank</td><td>8801</td></tr><tr><td>testing.both.optimistic.standard_deviation</td><td>4980.76849</td></tr><tr><td>testing.both.optimistic.variance</td><td>24808054.77</td></tr><tr><td>testing.both.optimistic.z_arithmetic_mean_rank</td><td>-0.05542</td></tr><tr><td>testing.both.optimistic.z_geometric_mean_rank</td><td>-0.26776</td></tr><tr><td>testing.both.optimistic.z_hits_at_k</td><td>-0.24435</td></tr><tr><td>testing.both.optimistic.z_inverse_harmonic_mean_rank</td><td>-0.3268</td></tr><tr><td>testing.both.pessimistic.adjusted_arithmetic_mean_rank</td><td>1.00343</td></tr><tr><td>testing.both.pessimistic.adjusted_arithmetic_mean_rank_index</td><td>-0.00343</td></tr><tr><td>testing.both.pessimistic.adjusted_geometric_mean_rank_index</td><td>-0.02756</td></tr><tr><td>testing.both.pessimistic.adjusted_hits_at_k</td><td>-0.0006</td></tr><tr><td>testing.both.pessimistic.adjusted_inverse_harmonic_mean_rank</td><td>-0.00033</td></tr><tr><td>testing.both.pessimistic.arithmetic_mean_rank</td><td>8408.6</td></tr><tr><td>testing.both.pessimistic.count</td><td>100</td></tr><tr><td>testing.both.pessimistic.geometric_mean_rank</td><td>6368.7436</td></tr><tr><td>testing.both.pessimistic.harmonic_mean_rank</td><td>3477.4819</td></tr><tr><td>testing.both.pessimistic.hits_at_1</td><td>0</td></tr><tr><td>testing.both.pessimistic.hits_at_10</td><td>0</td></tr><tr><td>testing.both.pessimistic.hits_at_3</td><td>0</td></tr><tr><td>testing.both.pessimistic.hits_at_5</td><td>0</td></tr><tr><td>testing.both.pessimistic.inverse_arithmetic_mean_rank</td><td>0.00012</td></tr><tr><td>testing.both.pessimistic.inverse_geometric_mean_rank</td><td>0.00016</td></tr><tr><td>testing.both.pessimistic.inverse_harmonic_mean_rank</td><td>0.00029</td></tr><tr><td>testing.both.pessimistic.inverse_median_rank</td><td>0.00011</td></tr><tr><td>testing.both.pessimistic.median_absolute_deviation</td><td>7172.08823</td></tr><tr><td>testing.both.pessimistic.median_rank</td><td>8802</td></tr><tr><td>testing.both.pessimistic.standard_deviation</td><td>4980.9659</td></tr><tr><td>testing.both.pessimistic.variance</td><td>24810021.34</td></tr><tr><td>testing.both.pessimistic.z_arithmetic_mean_rank</td><td>-0.05934</td></tr><tr><td>testing.both.pessimistic.z_geometric_mean_rank</td><td>-0.27806</td></tr><tr><td>testing.both.pessimistic.z_hits_at_k</td><td>-0.24435</td></tr><tr><td>testing.both.pessimistic.z_inverse_harmonic_mean_rank</td><td>-0.33098</td></tr><tr><td>testing.both.realistic.adjusted_arithmetic_mean_rank</td><td>1.00331</td></tr><tr><td>testing.both.realistic.adjusted_arithmetic_mean_rank_index</td><td>-0.00331</td></tr><tr><td>testing.both.realistic.adjusted_geometric_mean_rank_index</td><td>-0.02706</td></tr><tr><td>testing.both.realistic.adjusted_hits_at_k</td><td>-0.0006</td></tr><tr><td>testing.both.realistic.adjusted_inverse_harmonic_mean_rank</td><td>-0.00033</td></tr><tr><td>testing.both.realistic.arithmetic_mean_rank</td><td>8407.65039</td></tr><tr><td>testing.both.realistic.count</td><td>100</td></tr><tr><td>testing.both.realistic.geometric_mean_rank</td><td>6365.61426</td></tr><tr><td>testing.both.realistic.harmonic_mean_rank</td><td>3453.47918</td></tr><tr><td>testing.both.realistic.hits_at_1</td><td>0</td></tr><tr><td>testing.both.realistic.hits_at_10</td><td>0</td></tr><tr><td>testing.both.realistic.hits_at_3</td><td>0</td></tr><tr><td>testing.both.realistic.hits_at_5</td><td>0</td></tr><tr><td>testing.both.realistic.inverse_arithmetic_mean_rank</td><td>0.00012</td></tr><tr><td>testing.both.realistic.inverse_geometric_mean_rank</td><td>0.00016</td></tr><tr><td>testing.both.realistic.inverse_harmonic_mean_rank</td><td>0.00029</td></tr><tr><td>testing.both.realistic.inverse_median_rank</td><td>0.00011</td></tr><tr><td>testing.both.realistic.median_absolute_deviation</td><td>7165.04587</td></tr><tr><td>testing.both.realistic.median_rank</td><td>8801.5</td></tr><tr><td>testing.both.realistic.standard_deviation</td><td>4980.8667</td></tr><tr><td>testing.both.realistic.variance</td><td>24809034.0</td></tr><tr><td>testing.both.realistic.z_arithmetic_mean_rank</td><td>-0.05738</td></tr><tr><td>testing.both.realistic.z_geometric_mean_rank</td><td>-0.27297</td></tr><tr><td>testing.both.realistic.z_hits_at_k</td><td>-0.24435</td></tr><tr><td>testing.both.realistic.z_inverse_harmonic_mean_rank</td><td>-0.32896</td></tr><tr><td>testing.head.optimistic.adjusted_arithmetic_mean_rank</td><td>1.00581</td></tr><tr><td>testing.head.optimistic.adjusted_arithmetic_mean_rank_index</td><td>-0.00581</td></tr><tr><td>testing.head.optimistic.adjusted_geometric_mean_rank_index</td><td>0.04904</td></tr><tr><td>testing.head.optimistic.adjusted_hits_at_k</td><td>-0.0006</td></tr><tr><td>testing.head.optimistic.adjusted_inverse_harmonic_mean_rank</td><td>-0.00024</td></tr><tr><td>testing.head.optimistic.arithmetic_mean_rank</td><td>8428.54</td></tr><tr><td>testing.head.optimistic.count</td><td>50</td></tr><tr><td>testing.head.optimistic.geometric_mean_rank</td><td>5922.91994</td></tr><tr><td>testing.head.optimistic.harmonic_mean_rank</td><td>2650.82666</td></tr><tr><td>testing.head.optimistic.hits_at_1</td><td>0</td></tr><tr><td>testing.head.optimistic.hits_at_10</td><td>0</td></tr><tr><td>testing.head.optimistic.hits_at_3</td><td>0</td></tr><tr><td>testing.head.optimistic.hits_at_5</td><td>0</td></tr><tr><td>testing.head.optimistic.inverse_arithmetic_mean_rank</td><td>0.00012</td></tr><tr><td>testing.head.optimistic.inverse_geometric_mean_rank</td><td>0.00017</td></tr><tr><td>testing.head.optimistic.inverse_harmonic_mean_rank</td><td>0.00038</td></tr><tr><td>testing.head.optimistic.inverse_median_rank</td><td>0.00012</td></tr><tr><td>testing.head.optimistic.median_absolute_deviation</td><td>7648.74485</td></tr><tr><td>testing.head.optimistic.median_rank</td><td>8656</td></tr><tr><td>testing.head.optimistic.standard_deviation</td><td>5362.85697</td></tr><tr><td>testing.head.optimistic.variance</td><td>28760234.8484</td></tr><tr><td>testing.head.optimistic.z_arithmetic_mean_rank</td><td>-0.07115</td></tr><tr><td>testing.head.optimistic.z_geometric_mean_rank</td><td>0.35239</td></tr><tr><td>testing.head.optimistic.z_hits_at_k</td><td>-0.17278</td></tr><tr><td>testing.head.optimistic.z_inverse_harmonic_mean_rank</td><td>-0.16991</td></tr><tr><td>testing.head.pessimistic.adjusted_arithmetic_mean_rank</td><td>1.00601</td></tr><tr><td>testing.head.pessimistic.adjusted_arithmetic_mean_rank_index</td><td>-0.00602</td></tr><tr><td>testing.head.pessimistic.adjusted_geometric_mean_rank_index</td><td>0.04763</td></tr><tr><td>testing.head.pessimistic.adjusted_hits_at_k</td><td>-0.0006</td></tr><tr><td>testing.head.pessimistic.adjusted_inverse_harmonic_mean_rank</td><td>-0.00025</td></tr><tr><td>testing.head.pessimistic.arithmetic_mean_rank</td><td>8430.26</td></tr><tr><td>testing.head.pessimistic.count</td><td>50</td></tr><tr><td>testing.head.pessimistic.geometric_mean_rank</td><td>5931.6887</td></tr><tr><td>testing.head.pessimistic.harmonic_mean_rank</td><td>2708.767</td></tr><tr><td>testing.head.pessimistic.hits_at_1</td><td>0</td></tr><tr><td>testing.head.pessimistic.hits_at_10</td><td>0</td></tr><tr><td>testing.head.pessimistic.hits_at_3</td><td>0</td></tr><tr><td>testing.head.pessimistic.hits_at_5</td><td>0</td></tr><tr><td>testing.head.pessimistic.inverse_arithmetic_mean_rank</td><td>0.00012</td></tr><tr><td>testing.head.pessimistic.inverse_geometric_mean_rank</td><td>0.00017</td></tr><tr><td>testing.head.pessimistic.inverse_harmonic_mean_rank</td><td>0.00037</td></tr><tr><td>testing.head.pessimistic.inverse_median_rank</td><td>0.00012</td></tr><tr><td>testing.head.pessimistic.median_absolute_deviation</td><td>7657.64046</td></tr><tr><td>testing.head.pessimistic.median_rank</td><td>8656</td></tr><tr><td>testing.head.pessimistic.standard_deviation</td><td>5363.88464</td></tr><tr><td>testing.head.pessimistic.variance</td><td>28771258.4724</td></tr><tr><td>testing.head.pessimistic.z_arithmetic_mean_rank</td><td>-0.07367</td></tr><tr><td>testing.head.pessimistic.z_geometric_mean_rank</td><td>0.34227</td></tr><tr><td>testing.head.pessimistic.z_hits_at_k</td><td>-0.17278</td></tr><tr><td>testing.head.pessimistic.z_inverse_harmonic_mean_rank</td><td>-0.17568</td></tr><tr><td>testing.head.realistic.adjusted_arithmetic_mean_rank</td><td>1.00591</td></tr><tr><td>testing.head.realistic.adjusted_arithmetic_mean_rank_index</td><td>-0.00591</td></tr><tr><td>testing.head.realistic.adjusted_geometric_mean_rank_index</td><td>0.04832</td></tr><tr><td>testing.head.realistic.adjusted_hits_at_k</td><td>-0.0006</td></tr><tr><td>testing.head.realistic.adjusted_inverse_harmonic_mean_rank</td><td>-0.00024</td></tr><tr><td>testing.head.realistic.arithmetic_mean_rank</td><td>8429.40039</td></tr><tr><td>testing.head.realistic.count</td><td>50</td></tr><tr><td>testing.head.realistic.geometric_mean_rank</td><td>5927.37061</td></tr><tr><td>testing.head.realistic.harmonic_mean_rank</td><td>2680.443</td></tr><tr><td>testing.head.realistic.hits_at_1</td><td>0</td></tr><tr><td>testing.head.realistic.hits_at_10</td><td>0</td></tr><tr><td>testing.head.realistic.hits_at_3</td><td>0</td></tr><tr><td>testing.head.realistic.hits_at_5</td><td>0</td></tr><tr><td>testing.head.realistic.inverse_arithmetic_mean_rank</td><td>0.00012</td></tr><tr><td>testing.head.realistic.inverse_geometric_mean_rank</td><td>0.00017</td></tr><tr><td>testing.head.realistic.inverse_harmonic_mean_rank</td><td>0.00037</td></tr><tr><td>testing.head.realistic.inverse_median_rank</td><td>0.00012</td></tr><tr><td>testing.head.realistic.median_absolute_deviation</td><td>7653.19265</td></tr><tr><td>testing.head.realistic.median_rank</td><td>8656</td></tr><tr><td>testing.head.realistic.standard_deviation</td><td>5363.37061</td></tr><tr><td>testing.head.realistic.variance</td><td>28765742.0</td></tr><tr><td>testing.head.realistic.z_arithmetic_mean_rank</td><td>-0.07241</td></tr><tr><td>testing.head.realistic.z_geometric_mean_rank</td><td>0.34725</td></tr><tr><td>testing.head.realistic.z_hits_at_k</td><td>-0.17278</td></tr><tr><td>testing.head.realistic.z_inverse_harmonic_mean_rank</td><td>-0.17289</td></tr><tr><td>testing.tail.optimistic.adjusted_arithmetic_mean_rank</td><td>1.00059</td></tr><tr><td>testing.tail.optimistic.adjusted_arithmetic_mean_rank_index</td><td>-0.00059</td></tr><tr><td>testing.tail.optimistic.adjusted_geometric_mean_rank_index</td><td>-0.09734</td></tr><tr><td>testing.tail.optimistic.adjusted_hits_at_k</td><td>-0.0006</td></tr><tr><td>testing.tail.optimistic.adjusted_inverse_harmonic_mean_rank</td><td>-0.00041</td></tr><tr><td>testing.tail.optimistic.arithmetic_mean_rank</td><td>8384.86</td></tr><tr><td>testing.tail.optimistic.count</td><td>50</td></tr><tr><td>testing.tail.optimistic.geometric_mean_rank</td><td>6834.51777</td></tr><tr><td>testing.tail.optimistic.harmonic_mean_rank</td><td>4850.82995</td></tr><tr><td>testing.tail.optimistic.hits_at_1</td><td>0</td></tr><tr><td>testing.tail.optimistic.hits_at_10</td><td>0</td></tr><tr><td>testing.tail.optimistic.hits_at_3</td><td>0</td></tr><tr><td>testing.tail.optimistic.hits_at_5</td><td>0</td></tr><tr><td>testing.tail.optimistic.inverse_arithmetic_mean_rank</td><td>0.00012</td></tr><tr><td>testing.tail.optimistic.inverse_geometric_mean_rank</td><td>0.00015</td></tr><tr><td>testing.tail.optimistic.inverse_harmonic_mean_rank</td><td>0.00021</td></tr><tr><td>testing.tail.optimistic.inverse_median_rank</td><td>0.00011</td></tr><tr><td>testing.tail.optimistic.median_absolute_deviation</td><td>5805.87029</td></tr><tr><td>testing.tail.optimistic.median_rank</td><td>8801</td></tr><tr><td>testing.tail.optimistic.standard_deviation</td><td>4566.71881</td></tr><tr><td>testing.tail.optimistic.variance</td><td>20854920.7204</td></tr><tr><td>testing.tail.optimistic.z_arithmetic_mean_rank</td><td>-0.00722</td></tr><tr><td>testing.tail.optimistic.z_geometric_mean_rank</td><td>-0.69952</td></tr><tr><td>testing.tail.optimistic.z_hits_at_k</td><td>-0.17278</td></tr><tr><td>testing.tail.optimistic.z_inverse_harmonic_mean_rank</td><td>-0.29226</td></tr><tr><td>testing.tail.pessimistic.adjusted_arithmetic_mean_rank</td><td>1.00084</td></tr><tr><td>testing.tail.pessimistic.adjusted_arithmetic_mean_rank_index</td><td>-0.00084</td></tr><tr><td>testing.tail.pessimistic.adjusted_geometric_mean_rank_index</td><td>-0.0979</td></tr><tr><td>testing.tail.pessimistic.adjusted_hits_at_k</td><td>-0.0006</td></tr><tr><td>testing.tail.pessimistic.adjusted_inverse_harmonic_mean_rank</td><td>-0.00041</td></tr><tr><td>testing.tail.pessimistic.arithmetic_mean_rank</td><td>8386.94</td></tr><tr><td>testing.tail.pessimistic.count</td><td>50</td></tr><tr><td>testing.tail.pessimistic.geometric_mean_rank</td><td>6838.0013</td></tr><tr><td>testing.tail.pessimistic.harmonic_mean_rank</td><td>4855.37899</td></tr><tr><td>testing.tail.pessimistic.hits_at_1</td><td>0</td></tr><tr><td>testing.tail.pessimistic.hits_at_10</td><td>0</td></tr><tr><td>testing.tail.pessimistic.hits_at_3</td><td>0</td></tr><tr><td>testing.tail.pessimistic.hits_at_5</td><td>0</td></tr><tr><td>testing.tail.pessimistic.inverse_arithmetic_mean_rank</td><td>0.00012</td></tr><tr><td>testing.tail.pessimistic.inverse_geometric_mean_rank</td><td>0.00015</td></tr><tr><td>testing.tail.pessimistic.inverse_harmonic_mean_rank</td><td>0.00021</td></tr><tr><td>testing.tail.pessimistic.inverse_median_rank</td><td>0.00011</td></tr><tr><td>testing.tail.pessimistic.median_absolute_deviation</td><td>5805.12899</td></tr><tr><td>testing.tail.pessimistic.median_rank</td><td>8802</td></tr><tr><td>testing.tail.pessimistic.standard_deviation</td><td>4565.94414</td></tr><tr><td>testing.tail.pessimistic.variance</td><td>20847845.8964</td></tr><tr><td>testing.tail.pessimistic.z_arithmetic_mean_rank</td><td>-0.01026</td></tr><tr><td>testing.tail.pessimistic.z_geometric_mean_rank</td><td>-0.70354</td></tr><tr><td>testing.tail.pessimistic.z_hits_at_k</td><td>-0.17278</td></tr><tr><td>testing.tail.pessimistic.z_inverse_harmonic_mean_rank</td><td>-0.2924</td></tr><tr><td>testing.tail.realistic.adjusted_arithmetic_mean_rank</td><td>1.00071</td></tr><tr><td>testing.tail.realistic.adjusted_arithmetic_mean_rank_index</td><td>-0.00071</td></tr><tr><td>testing.tail.realistic.adjusted_geometric_mean_rank_index</td><td>-0.09762</td></tr><tr><td>testing.tail.realistic.adjusted_hits_at_k</td><td>-0.0006</td></tr><tr><td>testing.tail.realistic.adjusted_inverse_harmonic_mean_rank</td><td>-0.00041</td></tr><tr><td>testing.tail.realistic.arithmetic_mean_rank</td><td>8385.90039</td></tr><tr><td>testing.tail.realistic.count</td><td>50</td></tr><tr><td>testing.tail.realistic.geometric_mean_rank</td><td>6836.26025</td></tr><tr><td>testing.tail.realistic.harmonic_mean_rank</td><td>4853.10981</td></tr><tr><td>testing.tail.realistic.hits_at_1</td><td>0</td></tr><tr><td>testing.tail.realistic.hits_at_10</td><td>0</td></tr><tr><td>testing.tail.realistic.hits_at_3</td><td>0</td></tr><tr><td>testing.tail.realistic.hits_at_5</td><td>0</td></tr><tr><td>testing.tail.realistic.inverse_arithmetic_mean_rank</td><td>0.00012</td></tr><tr><td>testing.tail.realistic.inverse_geometric_mean_rank</td><td>0.00015</td></tr><tr><td>testing.tail.realistic.inverse_harmonic_mean_rank</td><td>0.00021</td></tr><tr><td>testing.tail.realistic.inverse_median_rank</td><td>0.00011</td></tr><tr><td>testing.tail.realistic.median_absolute_deviation</td><td>5805.49964</td></tr><tr><td>testing.tail.realistic.median_rank</td><td>8801.5</td></tr><tr><td>testing.tail.realistic.standard_deviation</td><td>4566.33105</td></tr><tr><td>testing.tail.realistic.variance</td><td>20851380.0</td></tr><tr><td>testing.tail.realistic.z_arithmetic_mean_rank</td><td>-0.00874</td></tr><tr><td>testing.tail.realistic.z_geometric_mean_rank</td><td>-0.70154</td></tr><tr><td>testing.tail.realistic.z_hits_at_k</td><td>-0.17278</td></tr><tr><td>testing.tail.realistic.z_inverse_harmonic_mean_rank</td><td>-0.29233</td></tr><tr><td>times.final_evaluation</td><td>0.85889</td></tr><tr><td>times.total_training</td><td>312.38481</td></tr></table><br/></div></div>"
      ],
      "text/plain": [
       "<IPython.core.display.HTML object>"
      ]
     },
     "metadata": {},
     "output_type": "display_data"
    },
    {
     "data": {
      "text/html": [
       " View run <strong style=\"color:#cdcd00\">logical-totem-43</strong> at: <a href='https://wandb.ai/fieng/embedding/runs/t98k31ph' target=\"_blank\">https://wandb.ai/fieng/embedding/runs/t98k31ph</a><br/> View project at: <a href='https://wandb.ai/fieng/embedding' target=\"_blank\">https://wandb.ai/fieng/embedding</a><br/>Synced 5 W&B file(s), 0 media file(s), 0 artifact file(s) and 0 other file(s)"
      ],
      "text/plain": [
       "<IPython.core.display.HTML object>"
      ]
     },
     "metadata": {},
     "output_type": "display_data"
    },
    {
     "data": {
      "text/html": [
       "Find logs at: <code>./wandb/run-20250321_132201-t98k31ph/logs</code>"
      ],
      "text/plain": [
       "<IPython.core.display.HTML object>"
      ]
     },
     "metadata": {},
     "output_type": "display_data"
    }
   ],
   "source": [
    "from candidates_filtering.embedding import train_model\n",
    "\n",
    "train_df = train_model.create_dataset(\n",
    "    df)\n",
    "test_df = train_model.create_dataset(\n",
    "    df.sample(n=50))\n",
    "embedding_dim = 512\n",
    "model_kwargs = {\"embedding_dim\": embedding_dim}\n",
    "\n",
    "model_name = 'TransE'\n",
    "experiment_name = model_name+f\"_dim{embedding_dim}\"\n",
    "model = train_model.create_pipeline(train_df, test_df,\n",
    "                    model_name, model_kwargs, experiment_name)\n",
    "\n",
    "model_dict = {}\n",
    "\n",
    "model_dict['TransE'] = model\n"
   ]
  },
  {
   "cell_type": "code",
   "execution_count": 5,
   "metadata": {},
   "outputs": [
    {
     "data": {
      "text/html": [
       "Finishing last run (ID:ky7flm1u) before initializing another..."
      ],
      "text/plain": [
       "<IPython.core.display.HTML object>"
      ]
     },
     "metadata": {},
     "output_type": "display_data"
    },
    {
     "data": {
      "text/html": [
       "\n",
       "    <style>\n",
       "        .wandb-row {\n",
       "            display: flex;\n",
       "            flex-direction: row;\n",
       "            flex-wrap: wrap;\n",
       "            justify-content: flex-start;\n",
       "            width: 100%;\n",
       "        }\n",
       "        .wandb-col {\n",
       "            display: flex;\n",
       "            flex-direction: column;\n",
       "            flex-basis: 100%;\n",
       "            flex: 1;\n",
       "            padding: 10px;\n",
       "        }\n",
       "    </style>\n",
       "<div class=\"wandb-row\"><div class=\"wandb-col\"><h3>Run history:</h3><br/><table class=\"wandb\"><tr><td>loss</td><td>█▆▆▆▅▅▄▄▃▃▃▃▂▂▂▁▂▁▁▁▁▁▁▁▁▁▁▁</td></tr></table><br/></div><div class=\"wandb-col\"><h3>Run summary:</h3><br/><table class=\"wandb\"><tr><td>loss</td><td>0.05125</td></tr></table><br/></div></div>"
      ],
      "text/plain": [
       "<IPython.core.display.HTML object>"
      ]
     },
     "metadata": {},
     "output_type": "display_data"
    },
    {
     "data": {
      "text/html": [
       " View run <strong style=\"color:#cdcd00\">revived-durian-44</strong> at: <a href='https://wandb.ai/fieng/embedding/runs/ky7flm1u' target=\"_blank\">https://wandb.ai/fieng/embedding/runs/ky7flm1u</a><br/> View project at: <a href='https://wandb.ai/fieng/embedding' target=\"_blank\">https://wandb.ai/fieng/embedding</a><br/>Synced 5 W&B file(s), 0 media file(s), 2 artifact file(s) and 0 other file(s)"
      ],
      "text/plain": [
       "<IPython.core.display.HTML object>"
      ]
     },
     "metadata": {},
     "output_type": "display_data"
    },
    {
     "data": {
      "text/html": [
       "Find logs at: <code>./wandb/run-20250321_132718-ky7flm1u/logs</code>"
      ],
      "text/plain": [
       "<IPython.core.display.HTML object>"
      ]
     },
     "metadata": {},
     "output_type": "display_data"
    },
    {
     "data": {
      "text/html": [
       "Successfully finished last run (ID:ky7flm1u). Initializing new run:<br/>"
      ],
      "text/plain": [
       "<IPython.core.display.HTML object>"
      ]
     },
     "metadata": {},
     "output_type": "display_data"
    },
    {
     "data": {
      "text/html": [
       "Tracking run with wandb version 0.18.7"
      ],
      "text/plain": [
       "<IPython.core.display.HTML object>"
      ]
     },
     "metadata": {},
     "output_type": "display_data"
    },
    {
     "data": {
      "text/html": [
       "Run data is saved locally in <code>/Users/fieng/Project/KGC_RAG/wandb/run-20250321_140950-jb6llf0s</code>"
      ],
      "text/plain": [
       "<IPython.core.display.HTML object>"
      ]
     },
     "metadata": {},
     "output_type": "display_data"
    },
    {
     "data": {
      "text/html": [
       "Syncing run <strong><a href='https://wandb.ai/fieng/embedding/runs/jb6llf0s' target=\"_blank\">dandy-fire-45</a></strong> to <a href='https://wandb.ai/fieng/embedding' target=\"_blank\">Weights & Biases</a> (<a href='https://wandb.me/developer-guide' target=\"_blank\">docs</a>)<br/>"
      ],
      "text/plain": [
       "<IPython.core.display.HTML object>"
      ]
     },
     "metadata": {},
     "output_type": "display_data"
    },
    {
     "data": {
      "text/html": [
       " View project at <a href='https://wandb.ai/fieng/embedding' target=\"_blank\">https://wandb.ai/fieng/embedding</a>"
      ],
      "text/plain": [
       "<IPython.core.display.HTML object>"
      ]
     },
     "metadata": {},
     "output_type": "display_data"
    },
    {
     "data": {
      "text/html": [
       " View run at <a href='https://wandb.ai/fieng/embedding/runs/jb6llf0s' target=\"_blank\">https://wandb.ai/fieng/embedding/runs/jb6llf0s</a>"
      ],
      "text/plain": [
       "<IPython.core.display.HTML object>"
      ]
     },
     "metadata": {},
     "output_type": "display_data"
    },
    {
     "name": "stderr",
     "output_type": "stream",
     "text": [
      "WARNING:pykeen.utils:No cuda devices were available. The model runs on CPU\n",
      "INFO:pykeen.pipeline.api:Using device: None\n",
      "INFO:pykeen.nn.modules:Resolving None * None * None = 512.\n",
      "INFO:pykeen.triples.triples_factory:Creating inverse triples.\n",
      "Training epochs on cpu:   0%|          | 0/50 [00:00<?, ?epoch/s]INFO:pykeen.triples.triples_factory:Creating inverse triples.\n",
      "INFO:pykeen.training.training_loop:Dropping last (incomplete) batch each epoch (1/468 (0.21%) batches).\n",
      "Training epochs on cpu: 100%|██████████| 50/50 [1:50:50<00:00, 133.01s/epoch, loss=0.0077, prev_loss=0.00385] \n",
      "WARNING:pykeen.pipeline.api:Found evaluation_factory.create_inverse_triples=True which is ignored for evaluation factories. The model itself determines whether inverse relations are used in head prediction. Here, the model was created with training.create_inverse_triples=True\n",
      "WARNING:pykeen.utils:Using automatic batch size on device.type='cpu' can cause unexplained out-of-memory crashes. Therefore, we use a conservative small batch_size=32. Performance may be improved by explicitly specifying a larger batch size.\n",
      "Evaluating on cpu:   0%|          | 0.00/50.0 [00:00<?, ?triple/s]WARNING:torch_max_mem.api:Encountered tensors on device_types={'cpu'} while only ['cuda'] are considered safe for automatic memory utilization maximization. This may lead to undocumented crashes (but can be safe, too).\n",
      "Evaluating on cpu: 100%|██████████| 50.0/50.0 [00:00<00:00, 67.2triple/s]\n",
      "INFO:pykeen.evaluation.evaluator:Evaluation took 0.92s seconds\n"
     ]
    },
    {
     "data": {
      "text/html": [
       "\n",
       "    <style>\n",
       "        .wandb-row {\n",
       "            display: flex;\n",
       "            flex-direction: row;\n",
       "            flex-wrap: wrap;\n",
       "            justify-content: flex-start;\n",
       "            width: 100%;\n",
       "        }\n",
       "        .wandb-col {\n",
       "            display: flex;\n",
       "            flex-direction: column;\n",
       "            flex-basis: 100%;\n",
       "            flex: 1;\n",
       "            padding: 10px;\n",
       "        }\n",
       "    </style>\n",
       "<div class=\"wandb-row\"><div class=\"wandb-col\"><h3>Run history:</h3><br/><table class=\"wandb\"><tr><td>loss</td><td>█▇▆▅▅▄▄▄▃▃▂▂▂▂▂▂▁▁▁▁▁▁▁▁▁▁▁▁▁▁▁▁▁▁▁▁▁▁▁▁</td></tr><tr><td>testing.both.optimistic.adjusted_arithmetic_mean_rank</td><td>▁</td></tr><tr><td>testing.both.optimistic.adjusted_arithmetic_mean_rank_index</td><td>▁</td></tr><tr><td>testing.both.optimistic.adjusted_geometric_mean_rank_index</td><td>▁</td></tr><tr><td>testing.both.optimistic.adjusted_hits_at_k</td><td>▁</td></tr><tr><td>testing.both.optimistic.adjusted_inverse_harmonic_mean_rank</td><td>▁</td></tr><tr><td>testing.both.optimistic.arithmetic_mean_rank</td><td>▁</td></tr><tr><td>testing.both.optimistic.count</td><td>▁</td></tr><tr><td>testing.both.optimistic.geometric_mean_rank</td><td>▁</td></tr><tr><td>testing.both.optimistic.harmonic_mean_rank</td><td>▁</td></tr><tr><td>testing.both.optimistic.hits_at_1</td><td>▁</td></tr><tr><td>testing.both.optimistic.hits_at_10</td><td>▁</td></tr><tr><td>testing.both.optimistic.hits_at_3</td><td>▁</td></tr><tr><td>testing.both.optimistic.hits_at_5</td><td>▁</td></tr><tr><td>testing.both.optimistic.inverse_arithmetic_mean_rank</td><td>▁</td></tr><tr><td>testing.both.optimistic.inverse_geometric_mean_rank</td><td>▁</td></tr><tr><td>testing.both.optimistic.inverse_harmonic_mean_rank</td><td>▁</td></tr><tr><td>testing.both.optimistic.inverse_median_rank</td><td>▁</td></tr><tr><td>testing.both.optimistic.median_absolute_deviation</td><td>▁</td></tr><tr><td>testing.both.optimistic.median_rank</td><td>▁</td></tr><tr><td>testing.both.optimistic.standard_deviation</td><td>▁</td></tr><tr><td>testing.both.optimistic.variance</td><td>▁</td></tr><tr><td>testing.both.optimistic.z_arithmetic_mean_rank</td><td>▁</td></tr><tr><td>testing.both.optimistic.z_geometric_mean_rank</td><td>▁</td></tr><tr><td>testing.both.optimistic.z_hits_at_k</td><td>▁</td></tr><tr><td>testing.both.optimistic.z_inverse_harmonic_mean_rank</td><td>▁</td></tr><tr><td>testing.both.pessimistic.adjusted_arithmetic_mean_rank</td><td>▁</td></tr><tr><td>testing.both.pessimistic.adjusted_arithmetic_mean_rank_index</td><td>▁</td></tr><tr><td>testing.both.pessimistic.adjusted_geometric_mean_rank_index</td><td>▁</td></tr><tr><td>testing.both.pessimistic.adjusted_hits_at_k</td><td>▁</td></tr><tr><td>testing.both.pessimistic.adjusted_inverse_harmonic_mean_rank</td><td>▁</td></tr><tr><td>testing.both.pessimistic.arithmetic_mean_rank</td><td>▁</td></tr><tr><td>testing.both.pessimistic.count</td><td>▁</td></tr><tr><td>testing.both.pessimistic.geometric_mean_rank</td><td>▁</td></tr><tr><td>testing.both.pessimistic.harmonic_mean_rank</td><td>▁</td></tr><tr><td>testing.both.pessimistic.hits_at_1</td><td>▁</td></tr><tr><td>testing.both.pessimistic.hits_at_10</td><td>▁</td></tr><tr><td>testing.both.pessimistic.hits_at_3</td><td>▁</td></tr><tr><td>testing.both.pessimistic.hits_at_5</td><td>▁</td></tr><tr><td>testing.both.pessimistic.inverse_arithmetic_mean_rank</td><td>▁</td></tr><tr><td>testing.both.pessimistic.inverse_geometric_mean_rank</td><td>▁</td></tr><tr><td>testing.both.pessimistic.inverse_harmonic_mean_rank</td><td>▁</td></tr><tr><td>testing.both.pessimistic.inverse_median_rank</td><td>▁</td></tr><tr><td>testing.both.pessimistic.median_absolute_deviation</td><td>▁</td></tr><tr><td>testing.both.pessimistic.median_rank</td><td>▁</td></tr><tr><td>testing.both.pessimistic.standard_deviation</td><td>▁</td></tr><tr><td>testing.both.pessimistic.variance</td><td>▁</td></tr><tr><td>testing.both.pessimistic.z_arithmetic_mean_rank</td><td>▁</td></tr><tr><td>testing.both.pessimistic.z_geometric_mean_rank</td><td>▁</td></tr><tr><td>testing.both.pessimistic.z_hits_at_k</td><td>▁</td></tr><tr><td>testing.both.pessimistic.z_inverse_harmonic_mean_rank</td><td>▁</td></tr><tr><td>testing.both.realistic.adjusted_arithmetic_mean_rank</td><td>▁</td></tr><tr><td>testing.both.realistic.adjusted_arithmetic_mean_rank_index</td><td>▁</td></tr><tr><td>testing.both.realistic.adjusted_geometric_mean_rank_index</td><td>▁</td></tr><tr><td>testing.both.realistic.adjusted_hits_at_k</td><td>▁</td></tr><tr><td>testing.both.realistic.adjusted_inverse_harmonic_mean_rank</td><td>▁</td></tr><tr><td>testing.both.realistic.arithmetic_mean_rank</td><td>▁</td></tr><tr><td>testing.both.realistic.count</td><td>▁</td></tr><tr><td>testing.both.realistic.geometric_mean_rank</td><td>▁</td></tr><tr><td>testing.both.realistic.harmonic_mean_rank</td><td>▁</td></tr><tr><td>testing.both.realistic.hits_at_1</td><td>▁</td></tr><tr><td>testing.both.realistic.hits_at_10</td><td>▁</td></tr><tr><td>testing.both.realistic.hits_at_3</td><td>▁</td></tr><tr><td>testing.both.realistic.hits_at_5</td><td>▁</td></tr><tr><td>testing.both.realistic.inverse_arithmetic_mean_rank</td><td>▁</td></tr><tr><td>testing.both.realistic.inverse_geometric_mean_rank</td><td>▁</td></tr><tr><td>testing.both.realistic.inverse_harmonic_mean_rank</td><td>▁</td></tr><tr><td>testing.both.realistic.inverse_median_rank</td><td>▁</td></tr><tr><td>testing.both.realistic.median_absolute_deviation</td><td>▁</td></tr><tr><td>testing.both.realistic.median_rank</td><td>▁</td></tr><tr><td>testing.both.realistic.standard_deviation</td><td>▁</td></tr><tr><td>testing.both.realistic.variance</td><td>▁</td></tr><tr><td>testing.both.realistic.z_arithmetic_mean_rank</td><td>▁</td></tr><tr><td>testing.both.realistic.z_geometric_mean_rank</td><td>▁</td></tr><tr><td>testing.both.realistic.z_hits_at_k</td><td>▁</td></tr><tr><td>testing.both.realistic.z_inverse_harmonic_mean_rank</td><td>▁</td></tr><tr><td>testing.head.optimistic.adjusted_arithmetic_mean_rank</td><td>▁</td></tr><tr><td>testing.head.optimistic.adjusted_arithmetic_mean_rank_index</td><td>▁</td></tr><tr><td>testing.head.optimistic.adjusted_geometric_mean_rank_index</td><td>▁</td></tr><tr><td>testing.head.optimistic.adjusted_hits_at_k</td><td>▁</td></tr><tr><td>testing.head.optimistic.adjusted_inverse_harmonic_mean_rank</td><td>▁</td></tr><tr><td>testing.head.optimistic.arithmetic_mean_rank</td><td>▁</td></tr><tr><td>testing.head.optimistic.count</td><td>▁</td></tr><tr><td>testing.head.optimistic.geometric_mean_rank</td><td>▁</td></tr><tr><td>testing.head.optimistic.harmonic_mean_rank</td><td>▁</td></tr><tr><td>testing.head.optimistic.hits_at_1</td><td>▁</td></tr><tr><td>testing.head.optimistic.hits_at_10</td><td>▁</td></tr><tr><td>testing.head.optimistic.hits_at_3</td><td>▁</td></tr><tr><td>testing.head.optimistic.hits_at_5</td><td>▁</td></tr><tr><td>testing.head.optimistic.inverse_arithmetic_mean_rank</td><td>▁</td></tr><tr><td>testing.head.optimistic.inverse_geometric_mean_rank</td><td>▁</td></tr><tr><td>testing.head.optimistic.inverse_harmonic_mean_rank</td><td>▁</td></tr><tr><td>testing.head.optimistic.inverse_median_rank</td><td>▁</td></tr><tr><td>testing.head.optimistic.median_absolute_deviation</td><td>▁</td></tr><tr><td>testing.head.optimistic.median_rank</td><td>▁</td></tr><tr><td>testing.head.optimistic.standard_deviation</td><td>▁</td></tr><tr><td>testing.head.optimistic.variance</td><td>▁</td></tr><tr><td>testing.head.optimistic.z_arithmetic_mean_rank</td><td>▁</td></tr><tr><td>testing.head.optimistic.z_geometric_mean_rank</td><td>▁</td></tr><tr><td>testing.head.optimistic.z_hits_at_k</td><td>▁</td></tr><tr><td>testing.head.optimistic.z_inverse_harmonic_mean_rank</td><td>▁</td></tr><tr><td>testing.head.pessimistic.adjusted_arithmetic_mean_rank</td><td>▁</td></tr><tr><td>testing.head.pessimistic.adjusted_arithmetic_mean_rank_index</td><td>▁</td></tr><tr><td>testing.head.pessimistic.adjusted_geometric_mean_rank_index</td><td>▁</td></tr><tr><td>testing.head.pessimistic.adjusted_hits_at_k</td><td>▁</td></tr><tr><td>testing.head.pessimistic.adjusted_inverse_harmonic_mean_rank</td><td>▁</td></tr><tr><td>testing.head.pessimistic.arithmetic_mean_rank</td><td>▁</td></tr><tr><td>testing.head.pessimistic.count</td><td>▁</td></tr><tr><td>testing.head.pessimistic.geometric_mean_rank</td><td>▁</td></tr><tr><td>testing.head.pessimistic.harmonic_mean_rank</td><td>▁</td></tr><tr><td>testing.head.pessimistic.hits_at_1</td><td>▁</td></tr><tr><td>testing.head.pessimistic.hits_at_10</td><td>▁</td></tr><tr><td>testing.head.pessimistic.hits_at_3</td><td>▁</td></tr><tr><td>testing.head.pessimistic.hits_at_5</td><td>▁</td></tr><tr><td>testing.head.pessimistic.inverse_arithmetic_mean_rank</td><td>▁</td></tr><tr><td>testing.head.pessimistic.inverse_geometric_mean_rank</td><td>▁</td></tr><tr><td>testing.head.pessimistic.inverse_harmonic_mean_rank</td><td>▁</td></tr><tr><td>testing.head.pessimistic.inverse_median_rank</td><td>▁</td></tr><tr><td>testing.head.pessimistic.median_absolute_deviation</td><td>▁</td></tr><tr><td>testing.head.pessimistic.median_rank</td><td>▁</td></tr><tr><td>testing.head.pessimistic.standard_deviation</td><td>▁</td></tr><tr><td>testing.head.pessimistic.variance</td><td>▁</td></tr><tr><td>testing.head.pessimistic.z_arithmetic_mean_rank</td><td>▁</td></tr><tr><td>testing.head.pessimistic.z_geometric_mean_rank</td><td>▁</td></tr><tr><td>testing.head.pessimistic.z_hits_at_k</td><td>▁</td></tr><tr><td>testing.head.pessimistic.z_inverse_harmonic_mean_rank</td><td>▁</td></tr><tr><td>testing.head.realistic.adjusted_arithmetic_mean_rank</td><td>▁</td></tr><tr><td>testing.head.realistic.adjusted_arithmetic_mean_rank_index</td><td>▁</td></tr><tr><td>testing.head.realistic.adjusted_geometric_mean_rank_index</td><td>▁</td></tr><tr><td>testing.head.realistic.adjusted_hits_at_k</td><td>▁</td></tr><tr><td>testing.head.realistic.adjusted_inverse_harmonic_mean_rank</td><td>▁</td></tr><tr><td>testing.head.realistic.arithmetic_mean_rank</td><td>▁</td></tr><tr><td>testing.head.realistic.count</td><td>▁</td></tr><tr><td>testing.head.realistic.geometric_mean_rank</td><td>▁</td></tr><tr><td>testing.head.realistic.harmonic_mean_rank</td><td>▁</td></tr><tr><td>testing.head.realistic.hits_at_1</td><td>▁</td></tr><tr><td>testing.head.realistic.hits_at_10</td><td>▁</td></tr><tr><td>testing.head.realistic.hits_at_3</td><td>▁</td></tr><tr><td>testing.head.realistic.hits_at_5</td><td>▁</td></tr><tr><td>testing.head.realistic.inverse_arithmetic_mean_rank</td><td>▁</td></tr><tr><td>testing.head.realistic.inverse_geometric_mean_rank</td><td>▁</td></tr><tr><td>testing.head.realistic.inverse_harmonic_mean_rank</td><td>▁</td></tr><tr><td>testing.head.realistic.inverse_median_rank</td><td>▁</td></tr><tr><td>testing.head.realistic.median_absolute_deviation</td><td>▁</td></tr><tr><td>testing.head.realistic.median_rank</td><td>▁</td></tr><tr><td>testing.head.realistic.standard_deviation</td><td>▁</td></tr><tr><td>testing.head.realistic.variance</td><td>▁</td></tr><tr><td>testing.head.realistic.z_arithmetic_mean_rank</td><td>▁</td></tr><tr><td>testing.head.realistic.z_geometric_mean_rank</td><td>▁</td></tr><tr><td>testing.head.realistic.z_hits_at_k</td><td>▁</td></tr><tr><td>testing.head.realistic.z_inverse_harmonic_mean_rank</td><td>▁</td></tr><tr><td>testing.tail.optimistic.adjusted_arithmetic_mean_rank</td><td>▁</td></tr><tr><td>testing.tail.optimistic.adjusted_arithmetic_mean_rank_index</td><td>▁</td></tr><tr><td>testing.tail.optimistic.adjusted_geometric_mean_rank_index</td><td>▁</td></tr><tr><td>testing.tail.optimistic.adjusted_hits_at_k</td><td>▁</td></tr><tr><td>testing.tail.optimistic.adjusted_inverse_harmonic_mean_rank</td><td>▁</td></tr><tr><td>testing.tail.optimistic.arithmetic_mean_rank</td><td>▁</td></tr><tr><td>testing.tail.optimistic.count</td><td>▁</td></tr><tr><td>testing.tail.optimistic.geometric_mean_rank</td><td>▁</td></tr><tr><td>testing.tail.optimistic.harmonic_mean_rank</td><td>▁</td></tr><tr><td>testing.tail.optimistic.hits_at_1</td><td>▁</td></tr><tr><td>testing.tail.optimistic.hits_at_10</td><td>▁</td></tr><tr><td>testing.tail.optimistic.hits_at_3</td><td>▁</td></tr><tr><td>testing.tail.optimistic.hits_at_5</td><td>▁</td></tr><tr><td>testing.tail.optimistic.inverse_arithmetic_mean_rank</td><td>▁</td></tr><tr><td>testing.tail.optimistic.inverse_geometric_mean_rank</td><td>▁</td></tr><tr><td>testing.tail.optimistic.inverse_harmonic_mean_rank</td><td>▁</td></tr><tr><td>testing.tail.optimistic.inverse_median_rank</td><td>▁</td></tr><tr><td>testing.tail.optimistic.median_absolute_deviation</td><td>▁</td></tr><tr><td>testing.tail.optimistic.median_rank</td><td>▁</td></tr><tr><td>testing.tail.optimistic.standard_deviation</td><td>▁</td></tr><tr><td>testing.tail.optimistic.variance</td><td>▁</td></tr><tr><td>testing.tail.optimistic.z_arithmetic_mean_rank</td><td>▁</td></tr><tr><td>testing.tail.optimistic.z_geometric_mean_rank</td><td>▁</td></tr><tr><td>testing.tail.optimistic.z_hits_at_k</td><td>▁</td></tr><tr><td>testing.tail.optimistic.z_inverse_harmonic_mean_rank</td><td>▁</td></tr><tr><td>testing.tail.pessimistic.adjusted_arithmetic_mean_rank</td><td>▁</td></tr><tr><td>testing.tail.pessimistic.adjusted_arithmetic_mean_rank_index</td><td>▁</td></tr><tr><td>testing.tail.pessimistic.adjusted_geometric_mean_rank_index</td><td>▁</td></tr><tr><td>testing.tail.pessimistic.adjusted_hits_at_k</td><td>▁</td></tr><tr><td>testing.tail.pessimistic.adjusted_inverse_harmonic_mean_rank</td><td>▁</td></tr><tr><td>testing.tail.pessimistic.arithmetic_mean_rank</td><td>▁</td></tr><tr><td>testing.tail.pessimistic.count</td><td>▁</td></tr><tr><td>testing.tail.pessimistic.geometric_mean_rank</td><td>▁</td></tr><tr><td>testing.tail.pessimistic.harmonic_mean_rank</td><td>▁</td></tr><tr><td>testing.tail.pessimistic.hits_at_1</td><td>▁</td></tr><tr><td>testing.tail.pessimistic.hits_at_10</td><td>▁</td></tr><tr><td>testing.tail.pessimistic.hits_at_3</td><td>▁</td></tr><tr><td>testing.tail.pessimistic.hits_at_5</td><td>▁</td></tr><tr><td>testing.tail.pessimistic.inverse_arithmetic_mean_rank</td><td>▁</td></tr><tr><td>testing.tail.pessimistic.inverse_geometric_mean_rank</td><td>▁</td></tr><tr><td>testing.tail.pessimistic.inverse_harmonic_mean_rank</td><td>▁</td></tr><tr><td>testing.tail.pessimistic.inverse_median_rank</td><td>▁</td></tr><tr><td>testing.tail.pessimistic.median_absolute_deviation</td><td>▁</td></tr><tr><td>testing.tail.pessimistic.median_rank</td><td>▁</td></tr><tr><td>testing.tail.pessimistic.standard_deviation</td><td>▁</td></tr><tr><td>testing.tail.pessimistic.variance</td><td>▁</td></tr><tr><td>testing.tail.pessimistic.z_arithmetic_mean_rank</td><td>▁</td></tr><tr><td>testing.tail.pessimistic.z_geometric_mean_rank</td><td>▁</td></tr><tr><td>testing.tail.pessimistic.z_hits_at_k</td><td>▁</td></tr><tr><td>testing.tail.pessimistic.z_inverse_harmonic_mean_rank</td><td>▁</td></tr><tr><td>testing.tail.realistic.adjusted_arithmetic_mean_rank</td><td>▁</td></tr><tr><td>testing.tail.realistic.adjusted_arithmetic_mean_rank_index</td><td>▁</td></tr><tr><td>testing.tail.realistic.adjusted_geometric_mean_rank_index</td><td>▁</td></tr><tr><td>testing.tail.realistic.adjusted_hits_at_k</td><td>▁</td></tr><tr><td>testing.tail.realistic.adjusted_inverse_harmonic_mean_rank</td><td>▁</td></tr><tr><td>testing.tail.realistic.arithmetic_mean_rank</td><td>▁</td></tr><tr><td>testing.tail.realistic.count</td><td>▁</td></tr><tr><td>testing.tail.realistic.geometric_mean_rank</td><td>▁</td></tr><tr><td>testing.tail.realistic.harmonic_mean_rank</td><td>▁</td></tr><tr><td>testing.tail.realistic.hits_at_1</td><td>▁</td></tr><tr><td>testing.tail.realistic.hits_at_10</td><td>▁</td></tr><tr><td>testing.tail.realistic.hits_at_3</td><td>▁</td></tr><tr><td>testing.tail.realistic.hits_at_5</td><td>▁</td></tr><tr><td>testing.tail.realistic.inverse_arithmetic_mean_rank</td><td>▁</td></tr><tr><td>testing.tail.realistic.inverse_geometric_mean_rank</td><td>▁</td></tr><tr><td>testing.tail.realistic.inverse_harmonic_mean_rank</td><td>▁</td></tr><tr><td>testing.tail.realistic.inverse_median_rank</td><td>▁</td></tr><tr><td>testing.tail.realistic.median_absolute_deviation</td><td>▁</td></tr><tr><td>testing.tail.realistic.median_rank</td><td>▁</td></tr><tr><td>testing.tail.realistic.standard_deviation</td><td>▁</td></tr><tr><td>testing.tail.realistic.variance</td><td>▁</td></tr><tr><td>testing.tail.realistic.z_arithmetic_mean_rank</td><td>▁</td></tr><tr><td>testing.tail.realistic.z_geometric_mean_rank</td><td>▁</td></tr><tr><td>testing.tail.realistic.z_hits_at_k</td><td>▁</td></tr><tr><td>testing.tail.realistic.z_inverse_harmonic_mean_rank</td><td>▁</td></tr><tr><td>times.final_evaluation</td><td>▁</td></tr><tr><td>times.total_training</td><td>▁</td></tr></table><br/></div><div class=\"wandb-col\"><h3>Run summary:</h3><br/><table class=\"wandb\"><tr><td>loss</td><td>0.0077</td></tr><tr><td>testing.both.optimistic.adjusted_arithmetic_mean_rank</td><td>0.5717</td></tr><tr><td>testing.both.optimistic.adjusted_arithmetic_mean_rank_index</td><td>0.42835</td></tr><tr><td>testing.both.optimistic.adjusted_geometric_mean_rank_index</td><td>0.47228</td></tr><tr><td>testing.both.optimistic.adjusted_hits_at_k</td><td>0.00941</td></tr><tr><td>testing.both.optimistic.adjusted_inverse_harmonic_mean_rank</td><td>0.00313</td></tr><tr><td>testing.both.optimistic.arithmetic_mean_rank</td><td>4790.8</td></tr><tr><td>testing.both.optimistic.count</td><td>100</td></tr><tr><td>testing.both.optimistic.geometric_mean_rank</td><td>3271.28547</td></tr><tr><td>testing.both.optimistic.harmonic_mean_rank</td><td>267.48184</td></tr><tr><td>testing.both.optimistic.hits_at_1</td><td>0</td></tr><tr><td>testing.both.optimistic.hits_at_10</td><td>0.01</td></tr><tr><td>testing.both.optimistic.hits_at_3</td><td>0.01</td></tr><tr><td>testing.both.optimistic.hits_at_5</td><td>0.01</td></tr><tr><td>testing.both.optimistic.inverse_arithmetic_mean_rank</td><td>0.00021</td></tr><tr><td>testing.both.optimistic.inverse_geometric_mean_rank</td><td>0.00031</td></tr><tr><td>testing.both.optimistic.inverse_harmonic_mean_rank</td><td>0.00374</td></tr><tr><td>testing.both.optimistic.inverse_median_rank</td><td>0.00027</td></tr><tr><td>testing.both.optimistic.median_absolute_deviation</td><td>3000.78689</td></tr><tr><td>testing.both.optimistic.median_rank</td><td>3677</td></tr><tr><td>testing.both.optimistic.standard_deviation</td><td>3851.79792</td></tr><tr><td>testing.both.optimistic.variance</td><td>14836347.18</td></tr><tr><td>testing.both.optimistic.z_arithmetic_mean_rank</td><td>7.41882</td></tr><tr><td>testing.both.optimistic.z_geometric_mean_rank</td><td>4.76474</td></tr><tr><td>testing.both.optimistic.z_hits_at_k</td><td>3.85063</td></tr><tr><td>testing.both.optimistic.z_inverse_harmonic_mean_rank</td><td>3.15913</td></tr><tr><td>testing.both.pessimistic.adjusted_arithmetic_mean_rank</td><td>0.5717</td></tr><tr><td>testing.both.pessimistic.adjusted_arithmetic_mean_rank_index</td><td>0.42835</td></tr><tr><td>testing.both.pessimistic.adjusted_geometric_mean_rank_index</td><td>0.47228</td></tr><tr><td>testing.both.pessimistic.adjusted_hits_at_k</td><td>0.00941</td></tr><tr><td>testing.both.pessimistic.adjusted_inverse_harmonic_mean_rank</td><td>0.00313</td></tr><tr><td>testing.both.pessimistic.arithmetic_mean_rank</td><td>4790.8</td></tr><tr><td>testing.both.pessimistic.count</td><td>100</td></tr><tr><td>testing.both.pessimistic.geometric_mean_rank</td><td>3271.28547</td></tr><tr><td>testing.both.pessimistic.harmonic_mean_rank</td><td>267.48184</td></tr><tr><td>testing.both.pessimistic.hits_at_1</td><td>0</td></tr><tr><td>testing.both.pessimistic.hits_at_10</td><td>0.01</td></tr><tr><td>testing.both.pessimistic.hits_at_3</td><td>0.01</td></tr><tr><td>testing.both.pessimistic.hits_at_5</td><td>0.01</td></tr><tr><td>testing.both.pessimistic.inverse_arithmetic_mean_rank</td><td>0.00021</td></tr><tr><td>testing.both.pessimistic.inverse_geometric_mean_rank</td><td>0.00031</td></tr><tr><td>testing.both.pessimistic.inverse_harmonic_mean_rank</td><td>0.00374</td></tr><tr><td>testing.both.pessimistic.inverse_median_rank</td><td>0.00027</td></tr><tr><td>testing.both.pessimistic.median_absolute_deviation</td><td>3000.78689</td></tr><tr><td>testing.both.pessimistic.median_rank</td><td>3677</td></tr><tr><td>testing.both.pessimistic.standard_deviation</td><td>3851.79792</td></tr><tr><td>testing.both.pessimistic.variance</td><td>14836347.18</td></tr><tr><td>testing.both.pessimistic.z_arithmetic_mean_rank</td><td>7.41882</td></tr><tr><td>testing.both.pessimistic.z_geometric_mean_rank</td><td>4.76474</td></tr><tr><td>testing.both.pessimistic.z_hits_at_k</td><td>3.85063</td></tr><tr><td>testing.both.pessimistic.z_inverse_harmonic_mean_rank</td><td>3.15913</td></tr><tr><td>testing.both.realistic.adjusted_arithmetic_mean_rank</td><td>0.5717</td></tr><tr><td>testing.both.realistic.adjusted_arithmetic_mean_rank_index</td><td>0.42835</td></tr><tr><td>testing.both.realistic.adjusted_geometric_mean_rank_index</td><td>0.47228</td></tr><tr><td>testing.both.realistic.adjusted_hits_at_k</td><td>0.00941</td></tr><tr><td>testing.both.realistic.adjusted_inverse_harmonic_mean_rank</td><td>0.00313</td></tr><tr><td>testing.both.realistic.arithmetic_mean_rank</td><td>4790.7998</td></tr><tr><td>testing.both.realistic.count</td><td>100</td></tr><tr><td>testing.both.realistic.geometric_mean_rank</td><td>3271.28589</td></tr><tr><td>testing.both.realistic.harmonic_mean_rank</td><td>267.48183</td></tr><tr><td>testing.both.realistic.hits_at_1</td><td>0</td></tr><tr><td>testing.both.realistic.hits_at_10</td><td>0.01</td></tr><tr><td>testing.both.realistic.hits_at_3</td><td>0.01</td></tr><tr><td>testing.both.realistic.hits_at_5</td><td>0.01</td></tr><tr><td>testing.both.realistic.inverse_arithmetic_mean_rank</td><td>0.00021</td></tr><tr><td>testing.both.realistic.inverse_geometric_mean_rank</td><td>0.00031</td></tr><tr><td>testing.both.realistic.inverse_harmonic_mean_rank</td><td>0.00374</td></tr><tr><td>testing.both.realistic.inverse_median_rank</td><td>0.00027</td></tr><tr><td>testing.both.realistic.median_absolute_deviation</td><td>3000.78689</td></tr><tr><td>testing.both.realistic.median_rank</td><td>3677</td></tr><tr><td>testing.both.realistic.standard_deviation</td><td>3851.79785</td></tr><tr><td>testing.both.realistic.variance</td><td>14836347.0</td></tr><tr><td>testing.both.realistic.z_arithmetic_mean_rank</td><td>7.41882</td></tr><tr><td>testing.both.realistic.z_geometric_mean_rank</td><td>4.76474</td></tr><tr><td>testing.both.realistic.z_hits_at_k</td><td>3.85063</td></tr><tr><td>testing.both.realistic.z_inverse_harmonic_mean_rank</td><td>3.15913</td></tr><tr><td>testing.head.optimistic.adjusted_arithmetic_mean_rank</td><td>0.64133</td></tr><tr><td>testing.head.optimistic.adjusted_arithmetic_mean_rank_index</td><td>0.35872</td></tr><tr><td>testing.head.optimistic.adjusted_geometric_mean_rank_index</td><td>0.36806</td></tr><tr><td>testing.head.optimistic.adjusted_hits_at_k</td><td>-0.0006</td></tr><tr><td>testing.head.optimistic.adjusted_inverse_harmonic_mean_rank</td><td>-0.00026</td></tr><tr><td>testing.head.optimistic.arithmetic_mean_rank</td><td>5374.26</td></tr><tr><td>testing.head.optimistic.count</td><td>50</td></tr><tr><td>testing.head.optimistic.geometric_mean_rank</td><td>3936.30445</td></tr><tr><td>testing.head.optimistic.harmonic_mean_rank</td><td>2839.07499</td></tr><tr><td>testing.head.optimistic.hits_at_1</td><td>0</td></tr><tr><td>testing.head.optimistic.hits_at_10</td><td>0</td></tr><tr><td>testing.head.optimistic.hits_at_3</td><td>0</td></tr><tr><td>testing.head.optimistic.hits_at_5</td><td>0</td></tr><tr><td>testing.head.optimistic.inverse_arithmetic_mean_rank</td><td>0.00019</td></tr><tr><td>testing.head.optimistic.inverse_geometric_mean_rank</td><td>0.00025</td></tr><tr><td>testing.head.optimistic.inverse_harmonic_mean_rank</td><td>0.00035</td></tr><tr><td>testing.head.optimistic.inverse_median_rank</td><td>0.00025</td></tr><tr><td>testing.head.optimistic.median_absolute_deviation</td><td>3344.7506</td></tr><tr><td>testing.head.optimistic.median_rank</td><td>3933.5</td></tr><tr><td>testing.head.optimistic.standard_deviation</td><td>4130.55649</td></tr><tr><td>testing.head.optimistic.variance</td><td>17061496.9524</td></tr><tr><td>testing.head.optimistic.z_arithmetic_mean_rank</td><td>4.39309</td></tr><tr><td>testing.head.optimistic.z_geometric_mean_rank</td><td>2.64494</td></tr><tr><td>testing.head.optimistic.z_hits_at_k</td><td>-0.17278</td></tr><tr><td>testing.head.optimistic.z_inverse_harmonic_mean_rank</td><td>-0.1878</td></tr><tr><td>testing.head.pessimistic.adjusted_arithmetic_mean_rank</td><td>0.64133</td></tr><tr><td>testing.head.pessimistic.adjusted_arithmetic_mean_rank_index</td><td>0.35872</td></tr><tr><td>testing.head.pessimistic.adjusted_geometric_mean_rank_index</td><td>0.36806</td></tr><tr><td>testing.head.pessimistic.adjusted_hits_at_k</td><td>-0.0006</td></tr><tr><td>testing.head.pessimistic.adjusted_inverse_harmonic_mean_rank</td><td>-0.00026</td></tr><tr><td>testing.head.pessimistic.arithmetic_mean_rank</td><td>5374.26</td></tr><tr><td>testing.head.pessimistic.count</td><td>50</td></tr><tr><td>testing.head.pessimistic.geometric_mean_rank</td><td>3936.30445</td></tr><tr><td>testing.head.pessimistic.harmonic_mean_rank</td><td>2839.07499</td></tr><tr><td>testing.head.pessimistic.hits_at_1</td><td>0</td></tr><tr><td>testing.head.pessimistic.hits_at_10</td><td>0</td></tr><tr><td>testing.head.pessimistic.hits_at_3</td><td>0</td></tr><tr><td>testing.head.pessimistic.hits_at_5</td><td>0</td></tr><tr><td>testing.head.pessimistic.inverse_arithmetic_mean_rank</td><td>0.00019</td></tr><tr><td>testing.head.pessimistic.inverse_geometric_mean_rank</td><td>0.00025</td></tr><tr><td>testing.head.pessimistic.inverse_harmonic_mean_rank</td><td>0.00035</td></tr><tr><td>testing.head.pessimistic.inverse_median_rank</td><td>0.00025</td></tr><tr><td>testing.head.pessimistic.median_absolute_deviation</td><td>3344.7506</td></tr><tr><td>testing.head.pessimistic.median_rank</td><td>3933.5</td></tr><tr><td>testing.head.pessimistic.standard_deviation</td><td>4130.55649</td></tr><tr><td>testing.head.pessimistic.variance</td><td>17061496.9524</td></tr><tr><td>testing.head.pessimistic.z_arithmetic_mean_rank</td><td>4.39309</td></tr><tr><td>testing.head.pessimistic.z_geometric_mean_rank</td><td>2.64494</td></tr><tr><td>testing.head.pessimistic.z_hits_at_k</td><td>-0.17278</td></tr><tr><td>testing.head.pessimistic.z_inverse_harmonic_mean_rank</td><td>-0.1878</td></tr><tr><td>testing.head.realistic.adjusted_arithmetic_mean_rank</td><td>0.64133</td></tr><tr><td>testing.head.realistic.adjusted_arithmetic_mean_rank_index</td><td>0.35872</td></tr><tr><td>testing.head.realistic.adjusted_geometric_mean_rank_index</td><td>0.36806</td></tr><tr><td>testing.head.realistic.adjusted_hits_at_k</td><td>-0.0006</td></tr><tr><td>testing.head.realistic.adjusted_inverse_harmonic_mean_rank</td><td>-0.00026</td></tr><tr><td>testing.head.realistic.arithmetic_mean_rank</td><td>5374.25977</td></tr><tr><td>testing.head.realistic.count</td><td>50</td></tr><tr><td>testing.head.realistic.geometric_mean_rank</td><td>3936.30225</td></tr><tr><td>testing.head.realistic.harmonic_mean_rank</td><td>2839.07482</td></tr><tr><td>testing.head.realistic.hits_at_1</td><td>0</td></tr><tr><td>testing.head.realistic.hits_at_10</td><td>0</td></tr><tr><td>testing.head.realistic.hits_at_3</td><td>0</td></tr><tr><td>testing.head.realistic.hits_at_5</td><td>0</td></tr><tr><td>testing.head.realistic.inverse_arithmetic_mean_rank</td><td>0.00019</td></tr><tr><td>testing.head.realistic.inverse_geometric_mean_rank</td><td>0.00025</td></tr><tr><td>testing.head.realistic.inverse_harmonic_mean_rank</td><td>0.00035</td></tr><tr><td>testing.head.realistic.inverse_median_rank</td><td>0.00025</td></tr><tr><td>testing.head.realistic.median_absolute_deviation</td><td>3344.7506</td></tr><tr><td>testing.head.realistic.median_rank</td><td>3933.5</td></tr><tr><td>testing.head.realistic.standard_deviation</td><td>4130.55615</td></tr><tr><td>testing.head.realistic.variance</td><td>17061496.0</td></tr><tr><td>testing.head.realistic.z_arithmetic_mean_rank</td><td>4.39309</td></tr><tr><td>testing.head.realistic.z_geometric_mean_rank</td><td>2.64494</td></tr><tr><td>testing.head.realistic.z_hits_at_k</td><td>-0.17278</td></tr><tr><td>testing.head.realistic.z_inverse_harmonic_mean_rank</td><td>-0.1878</td></tr><tr><td>testing.tail.optimistic.adjusted_arithmetic_mean_rank</td><td>0.50207</td></tr><tr><td>testing.tail.optimistic.adjusted_arithmetic_mean_rank_index</td><td>0.49799</td></tr><tr><td>testing.tail.optimistic.adjusted_geometric_mean_rank_index</td><td>0.5636</td></tr><tr><td>testing.tail.optimistic.adjusted_hits_at_k</td><td>0.01941</td></tr><tr><td>testing.tail.optimistic.adjusted_inverse_harmonic_mean_rank</td><td>0.00651</td></tr><tr><td>testing.tail.optimistic.arithmetic_mean_rank</td><td>4207.34</td></tr><tr><td>testing.tail.optimistic.count</td><td>50</td></tr><tr><td>testing.tail.optimistic.geometric_mean_rank</td><td>2718.61812</td></tr><tr><td>testing.tail.optimistic.harmonic_mean_rank</td><td>140.35254</td></tr><tr><td>testing.tail.optimistic.hits_at_1</td><td>0</td></tr><tr><td>testing.tail.optimistic.hits_at_10</td><td>0.02</td></tr><tr><td>testing.tail.optimistic.hits_at_3</td><td>0.02</td></tr><tr><td>testing.tail.optimistic.hits_at_5</td><td>0.02</td></tr><tr><td>testing.tail.optimistic.inverse_arithmetic_mean_rank</td><td>0.00024</td></tr><tr><td>testing.tail.optimistic.inverse_geometric_mean_rank</td><td>0.00037</td></tr><tr><td>testing.tail.optimistic.inverse_harmonic_mean_rank</td><td>0.00712</td></tr><tr><td>testing.tail.optimistic.inverse_median_rank</td><td>0.00031</td></tr><tr><td>testing.tail.optimistic.median_absolute_deviation</td><td>2369.19835</td></tr><tr><td>testing.tail.optimistic.median_rank</td><td>3220.5</td></tr><tr><td>testing.tail.optimistic.standard_deviation</td><td>3454.03333</td></tr><tr><td>testing.tail.optimistic.variance</td><td>11930346.2644</td></tr><tr><td>testing.tail.optimistic.z_arithmetic_mean_rank</td><td>6.09871</td></tr><tr><td>testing.tail.optimistic.z_geometric_mean_rank</td><td>4.05014</td></tr><tr><td>testing.tail.optimistic.z_hits_at_k</td><td>5.6184</td></tr><tr><td>testing.tail.optimistic.z_inverse_harmonic_mean_rank</td><td>4.65549</td></tr><tr><td>testing.tail.pessimistic.adjusted_arithmetic_mean_rank</td><td>0.50207</td></tr><tr><td>testing.tail.pessimistic.adjusted_arithmetic_mean_rank_index</td><td>0.49799</td></tr><tr><td>testing.tail.pessimistic.adjusted_geometric_mean_rank_index</td><td>0.5636</td></tr><tr><td>testing.tail.pessimistic.adjusted_hits_at_k</td><td>0.01941</td></tr><tr><td>testing.tail.pessimistic.adjusted_inverse_harmonic_mean_rank</td><td>0.00651</td></tr><tr><td>testing.tail.pessimistic.arithmetic_mean_rank</td><td>4207.34</td></tr><tr><td>testing.tail.pessimistic.count</td><td>50</td></tr><tr><td>testing.tail.pessimistic.geometric_mean_rank</td><td>2718.61812</td></tr><tr><td>testing.tail.pessimistic.harmonic_mean_rank</td><td>140.35254</td></tr><tr><td>testing.tail.pessimistic.hits_at_1</td><td>0</td></tr><tr><td>testing.tail.pessimistic.hits_at_10</td><td>0.02</td></tr><tr><td>testing.tail.pessimistic.hits_at_3</td><td>0.02</td></tr><tr><td>testing.tail.pessimistic.hits_at_5</td><td>0.02</td></tr><tr><td>testing.tail.pessimistic.inverse_arithmetic_mean_rank</td><td>0.00024</td></tr><tr><td>testing.tail.pessimistic.inverse_geometric_mean_rank</td><td>0.00037</td></tr><tr><td>testing.tail.pessimistic.inverse_harmonic_mean_rank</td><td>0.00712</td></tr><tr><td>testing.tail.pessimistic.inverse_median_rank</td><td>0.00031</td></tr><tr><td>testing.tail.pessimistic.median_absolute_deviation</td><td>2369.19835</td></tr><tr><td>testing.tail.pessimistic.median_rank</td><td>3220.5</td></tr><tr><td>testing.tail.pessimistic.standard_deviation</td><td>3454.03333</td></tr><tr><td>testing.tail.pessimistic.variance</td><td>11930346.2644</td></tr><tr><td>testing.tail.pessimistic.z_arithmetic_mean_rank</td><td>6.09871</td></tr><tr><td>testing.tail.pessimistic.z_geometric_mean_rank</td><td>4.05014</td></tr><tr><td>testing.tail.pessimistic.z_hits_at_k</td><td>5.6184</td></tr><tr><td>testing.tail.pessimistic.z_inverse_harmonic_mean_rank</td><td>4.65549</td></tr><tr><td>testing.tail.realistic.adjusted_arithmetic_mean_rank</td><td>0.50207</td></tr><tr><td>testing.tail.realistic.adjusted_arithmetic_mean_rank_index</td><td>0.49799</td></tr><tr><td>testing.tail.realistic.adjusted_geometric_mean_rank_index</td><td>0.5636</td></tr><tr><td>testing.tail.realistic.adjusted_hits_at_k</td><td>0.01941</td></tr><tr><td>testing.tail.realistic.adjusted_inverse_harmonic_mean_rank</td><td>0.00651</td></tr><tr><td>testing.tail.realistic.arithmetic_mean_rank</td><td>4207.33984</td></tr><tr><td>testing.tail.realistic.count</td><td>50</td></tr><tr><td>testing.tail.realistic.geometric_mean_rank</td><td>2718.62036</td></tr><tr><td>testing.tail.realistic.harmonic_mean_rank</td><td>140.35253</td></tr><tr><td>testing.tail.realistic.hits_at_1</td><td>0</td></tr><tr><td>testing.tail.realistic.hits_at_10</td><td>0.02</td></tr><tr><td>testing.tail.realistic.hits_at_3</td><td>0.02</td></tr><tr><td>testing.tail.realistic.hits_at_5</td><td>0.02</td></tr><tr><td>testing.tail.realistic.inverse_arithmetic_mean_rank</td><td>0.00024</td></tr><tr><td>testing.tail.realistic.inverse_geometric_mean_rank</td><td>0.00037</td></tr><tr><td>testing.tail.realistic.inverse_harmonic_mean_rank</td><td>0.00712</td></tr><tr><td>testing.tail.realistic.inverse_median_rank</td><td>0.00031</td></tr><tr><td>testing.tail.realistic.median_absolute_deviation</td><td>2369.19835</td></tr><tr><td>testing.tail.realistic.median_rank</td><td>3220.5</td></tr><tr><td>testing.tail.realistic.standard_deviation</td><td>3454.0332</td></tr><tr><td>testing.tail.realistic.variance</td><td>11930346.0</td></tr><tr><td>testing.tail.realistic.z_arithmetic_mean_rank</td><td>6.09871</td></tr><tr><td>testing.tail.realistic.z_geometric_mean_rank</td><td>4.05014</td></tr><tr><td>testing.tail.realistic.z_hits_at_k</td><td>5.6184</td></tr><tr><td>testing.tail.realistic.z_inverse_harmonic_mean_rank</td><td>4.65549</td></tr><tr><td>times.final_evaluation</td><td>0.92482</td></tr><tr><td>times.total_training</td><td>6652.05004</td></tr></table><br/></div></div>"
      ],
      "text/plain": [
       "<IPython.core.display.HTML object>"
      ]
     },
     "metadata": {},
     "output_type": "display_data"
    },
    {
     "data": {
      "text/html": [
       " View run <strong style=\"color:#cdcd00\">dandy-fire-45</strong> at: <a href='https://wandb.ai/fieng/embedding/runs/jb6llf0s' target=\"_blank\">https://wandb.ai/fieng/embedding/runs/jb6llf0s</a><br/> View project at: <a href='https://wandb.ai/fieng/embedding' target=\"_blank\">https://wandb.ai/fieng/embedding</a><br/>Synced 5 W&B file(s), 0 media file(s), 2 artifact file(s) and 0 other file(s)"
      ],
      "text/plain": [
       "<IPython.core.display.HTML object>"
      ]
     },
     "metadata": {},
     "output_type": "display_data"
    },
    {
     "data": {
      "text/html": [
       "Find logs at: <code>./wandb/run-20250321_140950-jb6llf0s/logs</code>"
      ],
      "text/plain": [
       "<IPython.core.display.HTML object>"
      ]
     },
     "metadata": {},
     "output_type": "display_data"
    }
   ],
   "source": [
    "model_name = 'ConvE'\n",
    "from pykeen.triples import TriplesFactory\n",
    "\n",
    "\n",
    "train_df = TriplesFactory.from_labeled_triples(\n",
    "    df[[\"Head\", \"Relation\", \"Tail\"]].values,\n",
    "    create_inverse_triples=True,\n",
    "    entity_to_id=None,\n",
    "    relation_to_id=None,\n",
    "    compact_id=True,\n",
    "    filter_out_candidate_inverse_relations=True,\n",
    "    metadata=None,\n",
    "    )\n",
    "test_df = TriplesFactory.from_labeled_triples(\n",
    "    df[[\"Head\", \"Relation\", \"Tail\"]].sample(50).values,\n",
    "    create_inverse_triples=True,\n",
    "    entity_to_id=None,\n",
    "    relation_to_id=None,\n",
    "    compact_id=True,\n",
    "    filter_out_candidate_inverse_relations=True,\n",
    "    metadata=None,\n",
    "    )\n",
    "experiment_name = model_name+f\"_dim{embedding_dim}\"\n",
    "model = train_model.create_pipeline(train_df, test_df,\n",
    "                    model_name, model_kwargs, experiment_name)\n",
    "model_dict['ConvE'] = model"
   ]
  },
  {
   "cell_type": "code",
   "execution_count": 6,
   "metadata": {},
   "outputs": [],
   "source": [
    "from candidates_filtering.embedding.get_emb_transe import get_list_dist\n",
    "model = model_dict['ConvE'] \n",
    "list_dist = get_list_dist(evaluation_df,model.model, train_df)\n",
    "evaluation_df['ConvE'] = list_dist"
   ]
  },
  {
   "cell_type": "code",
   "execution_count": 12,
   "metadata": {},
   "outputs": [],
   "source": [
    "model = model_dict['TransE'] \n",
    "list_dist = get_list_dist(evaluation_df,model.model, train_df)\n",
    "evaluation_df['TransE'] = list_dist"
   ]
  },
  {
   "cell_type": "code",
   "execution_count": 27,
   "metadata": {},
   "outputs": [],
   "source": [
    "from sklearn.model_selection import train_test_split\n",
    "\n",
    "val_df, testing_df = train_test_split(evaluation_df, test_size=0.4, random_state=42)\n",
    "\n"
   ]
  },
  {
   "cell_type": "code",
   "execution_count": 15,
   "metadata": {},
   "outputs": [],
   "source": [
    "model = model_dict['ConvE'] "
   ]
  },
  {
   "cell_type": "code",
   "execution_count": 28,
   "metadata": {},
   "outputs": [
    {
     "name": "stdout",
     "output_type": "stream",
     "text": [
      "Not missing data\n",
      "11.761274\n",
      "Missing data\n",
      "12.316602\n"
     ]
    }
   ],
   "source": [
    "print('Not missing data')\n",
    "print(np.mean(val_df['Transe'][val_df['Missing'] == 0]))\n",
    "print('Missing data')\n",
    "print(np.mean(val_df['Transe'][val_df['Missing'] == 1]))"
   ]
  },
  {
   "cell_type": "code",
   "execution_count": 61,
   "metadata": {},
   "outputs": [
    {
     "data": {
      "text/html": [
       "<div>\n",
       "<style scoped>\n",
       "    .dataframe tbody tr th:only-of-type {\n",
       "        vertical-align: middle;\n",
       "    }\n",
       "\n",
       "    .dataframe tbody tr th {\n",
       "        vertical-align: top;\n",
       "    }\n",
       "\n",
       "    .dataframe thead th {\n",
       "        text-align: right;\n",
       "    }\n",
       "</style>\n",
       "<table border=\"1\" class=\"dataframe\">\n",
       "  <thead>\n",
       "    <tr style=\"text-align: right;\">\n",
       "      <th></th>\n",
       "      <th>Head</th>\n",
       "      <th>Relation</th>\n",
       "      <th>Tail</th>\n",
       "      <th>Missing</th>\n",
       "      <th>TransE</th>\n",
       "      <th>ConvE score</th>\n",
       "    </tr>\n",
       "  </thead>\n",
       "  <tbody>\n",
       "    <tr>\n",
       "      <th>0</th>\n",
       "      <td>\"Weird Al\" Yankovic</td>\n",
       "      <td>occupation</td>\n",
       "      <td>executive producer</td>\n",
       "      <td>0</td>\n",
       "      <td>12.765949</td>\n",
       "      <td>-9.912884</td>\n",
       "    </tr>\n",
       "    <tr>\n",
       "      <th>1</th>\n",
       "      <td>A. Q. Khan</td>\n",
       "      <td>occupation</td>\n",
       "      <td>metallurgist</td>\n",
       "      <td>1</td>\n",
       "      <td>14.395555</td>\n",
       "      <td>-8.906730</td>\n",
       "    </tr>\n",
       "    <tr>\n",
       "      <th>2</th>\n",
       "      <td>A.J. Trauth</td>\n",
       "      <td>educated at</td>\n",
       "      <td>Ludwig Maximilian University of Munich</td>\n",
       "      <td>0</td>\n",
       "      <td>12.174455</td>\n",
       "      <td>-14.321050</td>\n",
       "    </tr>\n",
       "    <tr>\n",
       "      <th>3</th>\n",
       "      <td>AJ Michalka</td>\n",
       "      <td>occupation</td>\n",
       "      <td>non-fiction writer</td>\n",
       "      <td>0</td>\n",
       "      <td>13.611296</td>\n",
       "      <td>-12.011340</td>\n",
       "    </tr>\n",
       "    <tr>\n",
       "      <th>4</th>\n",
       "      <td>Abigail Breslin</td>\n",
       "      <td>country of citizenship</td>\n",
       "      <td>Cuba</td>\n",
       "      <td>0</td>\n",
       "      <td>13.789470</td>\n",
       "      <td>-8.555943</td>\n",
       "    </tr>\n",
       "    <tr>\n",
       "      <th>...</th>\n",
       "      <td>...</td>\n",
       "      <td>...</td>\n",
       "      <td>...</td>\n",
       "      <td>...</td>\n",
       "      <td>...</td>\n",
       "      <td>...</td>\n",
       "    </tr>\n",
       "    <tr>\n",
       "      <th>1995</th>\n",
       "      <td>Éamon de Valera</td>\n",
       "      <td>employer</td>\n",
       "      <td>University of Zurich</td>\n",
       "      <td>0</td>\n",
       "      <td>10.892023</td>\n",
       "      <td>-3.619811</td>\n",
       "    </tr>\n",
       "    <tr>\n",
       "      <th>1996</th>\n",
       "      <td>Édouard Baer</td>\n",
       "      <td>educated at</td>\n",
       "      <td>Cours Florent</td>\n",
       "      <td>1</td>\n",
       "      <td>12.500125</td>\n",
       "      <td>-12.425575</td>\n",
       "    </tr>\n",
       "    <tr>\n",
       "      <th>1997</th>\n",
       "      <td>Émile Achard</td>\n",
       "      <td>country of citizenship</td>\n",
       "      <td>United States of America</td>\n",
       "      <td>0</td>\n",
       "      <td>12.243021</td>\n",
       "      <td>-4.504884</td>\n",
       "    </tr>\n",
       "    <tr>\n",
       "      <th>1998</th>\n",
       "      <td>Émile Chartier</td>\n",
       "      <td>movement</td>\n",
       "      <td>free-thought</td>\n",
       "      <td>0</td>\n",
       "      <td>7.113543</td>\n",
       "      <td>-9.474366</td>\n",
       "    </tr>\n",
       "    <tr>\n",
       "      <th>1999</th>\n",
       "      <td>Émile Lemoine</td>\n",
       "      <td>country of citizenship</td>\n",
       "      <td>France</td>\n",
       "      <td>1</td>\n",
       "      <td>12.380937</td>\n",
       "      <td>-10.862981</td>\n",
       "    </tr>\n",
       "  </tbody>\n",
       "</table>\n",
       "<p>2000 rows × 6 columns</p>\n",
       "</div>"
      ],
      "text/plain": [
       "                     Head                Relation  \\\n",
       "0     \"Weird Al\" Yankovic              occupation   \n",
       "1              A. Q. Khan              occupation   \n",
       "2             A.J. Trauth             educated at   \n",
       "3             AJ Michalka              occupation   \n",
       "4         Abigail Breslin  country of citizenship   \n",
       "...                   ...                     ...   \n",
       "1995      Éamon de Valera                employer   \n",
       "1996         Édouard Baer             educated at   \n",
       "1997         Émile Achard  country of citizenship   \n",
       "1998       Émile Chartier                movement   \n",
       "1999        Émile Lemoine  country of citizenship   \n",
       "\n",
       "                                        Tail  Missing     TransE  ConvE score  \n",
       "0                         executive producer        0  12.765949    -9.912884  \n",
       "1                               metallurgist        1  14.395555    -8.906730  \n",
       "2     Ludwig Maximilian University of Munich        0  12.174455   -14.321050  \n",
       "3                         non-fiction writer        0  13.611296   -12.011340  \n",
       "4                                       Cuba        0  13.789470    -8.555943  \n",
       "...                                      ...      ...        ...          ...  \n",
       "1995                    University of Zurich        0  10.892023    -3.619811  \n",
       "1996                           Cours Florent        1  12.500125   -12.425575  \n",
       "1997                United States of America        0  12.243021    -4.504884  \n",
       "1998                            free-thought        0   7.113543    -9.474366  \n",
       "1999                                  France        1  12.380937   -10.862981  \n",
       "\n",
       "[2000 rows x 6 columns]"
      ]
     },
     "execution_count": 61,
     "metadata": {},
     "output_type": "execute_result"
    }
   ],
   "source": [
    "evaluation_df"
   ]
  },
  {
   "cell_type": "code",
   "execution_count": 62,
   "metadata": {},
   "outputs": [
    {
     "data": {
      "image/png": "[encoded data removed]",
      "text/plain": [
       "<Figure size 800x500 with 1 Axes>"
      ]
     },
     "metadata": {},
     "output_type": "display_data"
    }
   ],
   "source": [
    "import numpy as np\n",
    "import pandas as pd\n",
    "import seaborn as sns\n",
    "import matplotlib.pyplot as plt\n",
    "\n",
    "# Generate sample data\n",
    "data = evaluation_df.copy()\n",
    "data[\"Missing\"] = data[\"Missing\"].replace({0: \"Incorrect\", 1: \"Correct\"})\n",
    "\n",
    "\n",
    "# Create the distribution plot\n",
    "plt.figure(figsize=(8, 5))\n",
    "sns.histplot(data, x=\"ConvE score\", hue=\"Missing\", kde=True, bins=30, alpha=0.5)\n",
    "\n",
    "# Customize the plot\n",
    "plt.xlabel(\"Value\")\n",
    "plt.ylabel(\"Frequency\")\n",
    "plt.title(\"ConvE distance by category\")\n",
    "plt.grid()\n",
    "\n",
    "# Show the plot\n",
    "plt.show()\n"
   ]
  },
  {
   "cell_type": "code",
   "execution_count": 63,
   "metadata": {},
   "outputs": [
    {
     "data": {
      "image/png": "[encoded data removed]",
      "text/plain": [
       "<Figure size 800x500 with 1 Axes>"
      ]
     },
     "metadata": {},
     "output_type": "display_data"
    }
   ],
   "source": [
    "# Generate sample data\n",
    "data = evaluation_df.copy()\n",
    "data[\"Missing\"] = data[\"Missing\"].replace({0: \"Incorrect\", 1: \"Correct\"})\n",
    "\n",
    "\n",
    "# Create the distribution plot\n",
    "plt.figure(figsize=(8, 5))\n",
    "sns.histplot(data, x=\"TransE\", hue=\"Missing\", kde=True, bins=30, alpha=0.5)\n",
    "\n",
    "# Customize the plot\n",
    "plt.xlabel(\"Value\")\n",
    "plt.ylabel(\"Frequency\")\n",
    "plt.title(\"ConvE score by category\")\n",
    "plt.grid()\n",
    "\n",
    "# Show the plot\n",
    "plt.show()\n"
   ]
  },
  {
   "cell_type": "code",
   "execution_count": 23,
   "metadata": {},
   "outputs": [
    {
     "name": "stderr",
     "output_type": "stream",
     "text": [
      "WARNING:pykeen.utils:Using automatic batch size on device.type='cpu' can cause unexplained out-of-memory crashes. Therefore, we use a conservative small batch_size=32. Performance may be improved by explicitly specifying a larger batch size.\n",
      "WARNING:torch_max_mem.api:Encountered tensors on device_types={'cpu'} while only ['cuda'] are considered safe for automatic memory utilization maximization. This may lead to undocumented crashes (but can be safe, too).\n"
     ]
    }
   ],
   "source": [
    "from pykeen.predict import predict_triples\n",
    "\n",
    "eval_test_df = train_model.create_dataset(\n",
    "    evaluation_df[['Head','Relation','Tail']])\n",
    "pack = predict_triples(model=model.model, triples= eval_test_df)\n"
   ]
  },
  {
   "cell_type": "code",
   "execution_count": 46,
   "metadata": {},
   "outputs": [],
   "source": [
    "score_df = pack.process(factory=eval_test_df).df\n"
   ]
  },
  {
   "cell_type": "code",
   "execution_count": 47,
   "metadata": {},
   "outputs": [
    {
     "data": {
      "text/html": [
       "<div>\n",
       "<style scoped>\n",
       "    .dataframe tbody tr th:only-of-type {\n",
       "        vertical-align: middle;\n",
       "    }\n",
       "\n",
       "    .dataframe tbody tr th {\n",
       "        vertical-align: top;\n",
       "    }\n",
       "\n",
       "    .dataframe thead th {\n",
       "        text-align: right;\n",
       "    }\n",
       "</style>\n",
       "<table border=\"1\" class=\"dataframe\">\n",
       "  <thead>\n",
       "    <tr style=\"text-align: right;\">\n",
       "      <th></th>\n",
       "      <th>head_label</th>\n",
       "      <th>relation_label</th>\n",
       "      <th>tail_label</th>\n",
       "      <th>score</th>\n",
       "    </tr>\n",
       "  </thead>\n",
       "  <tbody>\n",
       "    <tr>\n",
       "      <th>0</th>\n",
       "      <td>\"Weird Al\" Yankovic</td>\n",
       "      <td>occupation</td>\n",
       "      <td>executive producer</td>\n",
       "      <td>-9.912884</td>\n",
       "    </tr>\n",
       "    <tr>\n",
       "      <th>1</th>\n",
       "      <td>A. Q. Khan</td>\n",
       "      <td>occupation</td>\n",
       "      <td>metallurgist</td>\n",
       "      <td>-8.906730</td>\n",
       "    </tr>\n",
       "    <tr>\n",
       "      <th>2</th>\n",
       "      <td>A.J. Trauth</td>\n",
       "      <td>educated at</td>\n",
       "      <td>Ludwig Maximilian University of Munich</td>\n",
       "      <td>-14.321050</td>\n",
       "    </tr>\n",
       "    <tr>\n",
       "      <th>3</th>\n",
       "      <td>AJ Michalka</td>\n",
       "      <td>occupation</td>\n",
       "      <td>non-fiction writer</td>\n",
       "      <td>-12.011340</td>\n",
       "    </tr>\n",
       "    <tr>\n",
       "      <th>4</th>\n",
       "      <td>Abigail Breslin</td>\n",
       "      <td>country of citizenship</td>\n",
       "      <td>Cuba</td>\n",
       "      <td>-8.555943</td>\n",
       "    </tr>\n",
       "    <tr>\n",
       "      <th>...</th>\n",
       "      <td>...</td>\n",
       "      <td>...</td>\n",
       "      <td>...</td>\n",
       "      <td>...</td>\n",
       "    </tr>\n",
       "    <tr>\n",
       "      <th>1995</th>\n",
       "      <td>Éamon de Valera</td>\n",
       "      <td>employer</td>\n",
       "      <td>University of Zurich</td>\n",
       "      <td>-3.619811</td>\n",
       "    </tr>\n",
       "    <tr>\n",
       "      <th>1996</th>\n",
       "      <td>Édouard Baer</td>\n",
       "      <td>educated at</td>\n",
       "      <td>Cours Florent</td>\n",
       "      <td>-12.425575</td>\n",
       "    </tr>\n",
       "    <tr>\n",
       "      <th>1997</th>\n",
       "      <td>Émile Achard</td>\n",
       "      <td>country of citizenship</td>\n",
       "      <td>United States of America</td>\n",
       "      <td>-4.504884</td>\n",
       "    </tr>\n",
       "    <tr>\n",
       "      <th>1998</th>\n",
       "      <td>Émile Chartier</td>\n",
       "      <td>movement</td>\n",
       "      <td>free-thought</td>\n",
       "      <td>-9.474366</td>\n",
       "    </tr>\n",
       "    <tr>\n",
       "      <th>1999</th>\n",
       "      <td>Émile Lemoine</td>\n",
       "      <td>country of citizenship</td>\n",
       "      <td>France</td>\n",
       "      <td>-10.862981</td>\n",
       "    </tr>\n",
       "  </tbody>\n",
       "</table>\n",
       "<p>2000 rows × 4 columns</p>\n",
       "</div>"
      ],
      "text/plain": [
       "               head_label          relation_label  \\\n",
       "0     \"Weird Al\" Yankovic              occupation   \n",
       "1              A. Q. Khan              occupation   \n",
       "2             A.J. Trauth             educated at   \n",
       "3             AJ Michalka              occupation   \n",
       "4         Abigail Breslin  country of citizenship   \n",
       "...                   ...                     ...   \n",
       "1995      Éamon de Valera                employer   \n",
       "1996         Édouard Baer             educated at   \n",
       "1997         Émile Achard  country of citizenship   \n",
       "1998       Émile Chartier                movement   \n",
       "1999        Émile Lemoine  country of citizenship   \n",
       "\n",
       "                                  tail_label      score  \n",
       "0                         executive producer  -9.912884  \n",
       "1                               metallurgist  -8.906730  \n",
       "2     Ludwig Maximilian University of Munich -14.321050  \n",
       "3                         non-fiction writer -12.011340  \n",
       "4                                       Cuba  -8.555943  \n",
       "...                                      ...        ...  \n",
       "1995                    University of Zurich  -3.619811  \n",
       "1996                           Cours Florent -12.425575  \n",
       "1997                United States of America  -4.504884  \n",
       "1998                            free-thought  -9.474366  \n",
       "1999                                  France -10.862981  \n",
       "\n",
       "[2000 rows x 4 columns]"
      ]
     },
     "execution_count": 47,
     "metadata": {},
     "output_type": "execute_result"
    }
   ],
   "source": [
    "score_df[['head_label','relation_label','tail_label','score']]"
   ]
  },
  {
   "cell_type": "code",
   "execution_count": 48,
   "metadata": {},
   "outputs": [],
   "source": [
    "score_df['Head'] = score_df['head_label']\n",
    "score_df['Relation'] = score_df['relation_label']\n",
    "score_df['Tail'] = score_df['tail_label']"
   ]
  },
  {
   "cell_type": "code",
   "execution_count": 49,
   "metadata": {},
   "outputs": [],
   "source": [
    "merged_df = score_df.merge(evaluation_df, on=['Head','Relation','Tail'], how=\"inner\")"
   ]
  },
  {
   "cell_type": "code",
   "execution_count": 58,
   "metadata": {},
   "outputs": [
    {
     "name": "stderr",
     "output_type": "stream",
     "text": [
      "/var/folders/_3/wtwzgv1d3rlfz233qkf36kg00000gp/T/ipykernel_2542/1331545834.py:2: SettingWithCopyWarning: \n",
      "A value is trying to be set on a copy of a slice from a DataFrame.\n",
      "Try using .loc[row_indexer,col_indexer] = value instead\n",
      "\n",
      "See the caveats in the documentation: https://pandas.pydata.org/pandas-docs/stable/user_guide/indexing.html#returning-a-view-versus-a-copy\n",
      "  evaluation_df['ConvE score'] = evaluation_df['score']\n"
     ]
    }
   ],
   "source": [
    "evaluation_df = merged_df[['Head','Relation','Tail','Missing','TransE','score']]\n",
    "evaluation_df['ConvE score'] = evaluation_df['score']\n",
    "evaluation_df = evaluation_df[['Head','Relation','Tail','Missing','TransE','ConvE score']]"
   ]
  },
  {
   "cell_type": "code",
   "execution_count": 59,
   "metadata": {},
   "outputs": [
    {
     "data": {
      "text/html": [
       "<div>\n",
       "<style scoped>\n",
       "    .dataframe tbody tr th:only-of-type {\n",
       "        vertical-align: middle;\n",
       "    }\n",
       "\n",
       "    .dataframe tbody tr th {\n",
       "        vertical-align: top;\n",
       "    }\n",
       "\n",
       "    .dataframe thead th {\n",
       "        text-align: right;\n",
       "    }\n",
       "</style>\n",
       "<table border=\"1\" class=\"dataframe\">\n",
       "  <thead>\n",
       "    <tr style=\"text-align: right;\">\n",
       "      <th></th>\n",
       "      <th>Head</th>\n",
       "      <th>Relation</th>\n",
       "      <th>Tail</th>\n",
       "      <th>Missing</th>\n",
       "      <th>TransE</th>\n",
       "      <th>ConvE score</th>\n",
       "    </tr>\n",
       "  </thead>\n",
       "  <tbody>\n",
       "    <tr>\n",
       "      <th>0</th>\n",
       "      <td>\"Weird Al\" Yankovic</td>\n",
       "      <td>occupation</td>\n",
       "      <td>executive producer</td>\n",
       "      <td>0</td>\n",
       "      <td>12.765949</td>\n",
       "      <td>-9.912884</td>\n",
       "    </tr>\n",
       "    <tr>\n",
       "      <th>1</th>\n",
       "      <td>A. Q. Khan</td>\n",
       "      <td>occupation</td>\n",
       "      <td>metallurgist</td>\n",
       "      <td>1</td>\n",
       "      <td>14.395555</td>\n",
       "      <td>-8.906730</td>\n",
       "    </tr>\n",
       "    <tr>\n",
       "      <th>2</th>\n",
       "      <td>A.J. Trauth</td>\n",
       "      <td>educated at</td>\n",
       "      <td>Ludwig Maximilian University of Munich</td>\n",
       "      <td>0</td>\n",
       "      <td>12.174455</td>\n",
       "      <td>-14.321050</td>\n",
       "    </tr>\n",
       "    <tr>\n",
       "      <th>3</th>\n",
       "      <td>AJ Michalka</td>\n",
       "      <td>occupation</td>\n",
       "      <td>non-fiction writer</td>\n",
       "      <td>0</td>\n",
       "      <td>13.611296</td>\n",
       "      <td>-12.011340</td>\n",
       "    </tr>\n",
       "    <tr>\n",
       "      <th>4</th>\n",
       "      <td>Abigail Breslin</td>\n",
       "      <td>country of citizenship</td>\n",
       "      <td>Cuba</td>\n",
       "      <td>0</td>\n",
       "      <td>13.789470</td>\n",
       "      <td>-8.555943</td>\n",
       "    </tr>\n",
       "    <tr>\n",
       "      <th>...</th>\n",
       "      <td>...</td>\n",
       "      <td>...</td>\n",
       "      <td>...</td>\n",
       "      <td>...</td>\n",
       "      <td>...</td>\n",
       "      <td>...</td>\n",
       "    </tr>\n",
       "    <tr>\n",
       "      <th>1995</th>\n",
       "      <td>Éamon de Valera</td>\n",
       "      <td>employer</td>\n",
       "      <td>University of Zurich</td>\n",
       "      <td>0</td>\n",
       "      <td>10.892023</td>\n",
       "      <td>-3.619811</td>\n",
       "    </tr>\n",
       "    <tr>\n",
       "      <th>1996</th>\n",
       "      <td>Édouard Baer</td>\n",
       "      <td>educated at</td>\n",
       "      <td>Cours Florent</td>\n",
       "      <td>1</td>\n",
       "      <td>12.500125</td>\n",
       "      <td>-12.425575</td>\n",
       "    </tr>\n",
       "    <tr>\n",
       "      <th>1997</th>\n",
       "      <td>Émile Achard</td>\n",
       "      <td>country of citizenship</td>\n",
       "      <td>United States of America</td>\n",
       "      <td>0</td>\n",
       "      <td>12.243021</td>\n",
       "      <td>-4.504884</td>\n",
       "    </tr>\n",
       "    <tr>\n",
       "      <th>1998</th>\n",
       "      <td>Émile Chartier</td>\n",
       "      <td>movement</td>\n",
       "      <td>free-thought</td>\n",
       "      <td>0</td>\n",
       "      <td>7.113543</td>\n",
       "      <td>-9.474366</td>\n",
       "    </tr>\n",
       "    <tr>\n",
       "      <th>1999</th>\n",
       "      <td>Émile Lemoine</td>\n",
       "      <td>country of citizenship</td>\n",
       "      <td>France</td>\n",
       "      <td>1</td>\n",
       "      <td>12.380937</td>\n",
       "      <td>-10.862981</td>\n",
       "    </tr>\n",
       "  </tbody>\n",
       "</table>\n",
       "<p>2000 rows × 6 columns</p>\n",
       "</div>"
      ],
      "text/plain": [
       "                     Head                Relation  \\\n",
       "0     \"Weird Al\" Yankovic              occupation   \n",
       "1              A. Q. Khan              occupation   \n",
       "2             A.J. Trauth             educated at   \n",
       "3             AJ Michalka              occupation   \n",
       "4         Abigail Breslin  country of citizenship   \n",
       "...                   ...                     ...   \n",
       "1995      Éamon de Valera                employer   \n",
       "1996         Édouard Baer             educated at   \n",
       "1997         Émile Achard  country of citizenship   \n",
       "1998       Émile Chartier                movement   \n",
       "1999        Émile Lemoine  country of citizenship   \n",
       "\n",
       "                                        Tail  Missing     TransE  ConvE score  \n",
       "0                         executive producer        0  12.765949    -9.912884  \n",
       "1                               metallurgist        1  14.395555    -8.906730  \n",
       "2     Ludwig Maximilian University of Munich        0  12.174455   -14.321050  \n",
       "3                         non-fiction writer        0  13.611296   -12.011340  \n",
       "4                                       Cuba        0  13.789470    -8.555943  \n",
       "...                                      ...      ...        ...          ...  \n",
       "1995                    University of Zurich        0  10.892023    -3.619811  \n",
       "1996                           Cours Florent        1  12.500125   -12.425575  \n",
       "1997                United States of America        0  12.243021    -4.504884  \n",
       "1998                            free-thought        0   7.113543    -9.474366  \n",
       "1999                                  France        1  12.380937   -10.862981  \n",
       "\n",
       "[2000 rows x 6 columns]"
      ]
     },
     "execution_count": 59,
     "metadata": {},
     "output_type": "execute_result"
    }
   ],
   "source": [
    "evaluation_df"
   ]
  },
  {
   "cell_type": "code",
   "execution_count": null,
   "metadata": {},
   "outputs": [],
   "source": []
  }
 ],
 "metadata": {
  "kernelspec": {
   "display_name": "langchain-env",
   "language": "python",
   "name": "python3"
  },
  "language_info": {
   "codemirror_mode": {
    "name": "ipython",
    "version": 3
   },
   "file_extension": ".py",
   "mimetype": "text/x-python",
   "name": "python",
   "nbconvert_exporter": "python",
   "pygments_lexer": "ipython3",
   "version": "3.10.12"
  }
 },
 "nbformat": 4,
 "nbformat_minor": 2
}
