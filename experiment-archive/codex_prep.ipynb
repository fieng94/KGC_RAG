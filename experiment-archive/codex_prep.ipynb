{
 "cells": [
  {
   "cell_type": "code",
   "execution_count": 2,
   "metadata": {},
   "outputs": [],
   "source": [
    "import sys\n",
    "import pandas as pd\n",
    "import json\n",
    "import ollama\n",
    "\n",
    "def read_codex_data(path):\n",
    "    df_train = pd.read_csv(f'{path}/train.txt', sep='\\t', header=None, names=['Head','Relation','Tail'])\n",
    "    df_test = pd.read_csv(f'{path}/test.txt', sep='\\t', header=None, names=['Head','Relation','Tail'])\n",
    "    df_valid = pd.read_csv(f'{path}/valid.txt', sep='\\t', header=None, names=['Head','Relation','Tail'])\n",
    "\n",
    "    with open('data/codex/entities.json', 'r') as file:\n",
    "        entities = json.load(file)\n",
    "\n",
    "    with open('data/codex/relations.json', 'r') as file:\n",
    "        relations = json.load(file)\n",
    "    return df_train, df_test, df_valid, entities, relations"
   ]
  },
  {
   "cell_type": "code",
   "execution_count": 3,
   "metadata": {},
   "outputs": [],
   "source": [
    "def id2name_df(id_df:pd.DataFrame, entities_dict:dict, relations_dict:dict)-> pd.DataFrame:\n",
    "    name_dict = {}\n",
    "    for id, row in id_df.iterrows():\n",
    "        # get id\n",
    "        head_id = row['Head']\n",
    "        relation_id = row['Relation']\n",
    "        tail_id = row['Tail']\n",
    "        # get label out of id\n",
    "        head = entities_dict[head_id]['label']\n",
    "        relation = relations_dict[relation_id]['label']\n",
    "        tail = entities_dict[tail_id]['label']\n",
    "        name_dict[id] = [head,relation,tail]\n",
    "    name_df = pd.DataFrame.from_dict(name_dict,orient='index',columns=['Head','Relation','Tail'])\n",
    "    return name_df"
   ]
  },
  {
   "cell_type": "code",
   "execution_count": 11,
   "metadata": {},
   "outputs": [],
   "source": [
    "path = 'data/codex-m'\n",
    "df_train, df_test, df_valid, entities, relations = read_codex_data(path)\n",
    "df_train_name = id2name_df(df_train, entities, relations)\n",
    "df_test_name = id2name_df(df_test, entities, relations)\n",
    "df_valid_name = id2name_df(df_valid, entities, relations)\n",
    "df_name = pd.concat([df_train_name, df_test_name, df_valid_name]).reset_index(drop=True)\n",
    "df_name.to_csv(f'{path}/data.csv',index=False)\n",
    "df_name.sample(60000).to_csv(f'{path}/data_sample.csv',index=False)\n"
   ]
  },
  {
   "cell_type": "code",
   "execution_count": 10,
   "metadata": {},
   "outputs": [],
   "source": []
  },
  {
   "cell_type": "code",
   "execution_count": null,
   "metadata": {},
   "outputs": [],
   "source": []
  }
 ],
 "metadata": {
  "kernelspec": {
   "display_name": "langchain-env",
   "language": "python",
   "name": "python3"
  },
  "language_info": {
   "codemirror_mode": {
    "name": "ipython",
    "version": 3
   },
   "file_extension": ".py",
   "mimetype": "text/x-python",
   "name": "python",
   "nbconvert_exporter": "python",
   "pygments_lexer": "ipython3",
   "version": "3.10.12"
  }
 },
 "nbformat": 4,
 "nbformat_minor": 2
}
